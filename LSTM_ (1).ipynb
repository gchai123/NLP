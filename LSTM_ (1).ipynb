{
  "nbformat": 4,
  "nbformat_minor": 0,
  "metadata": {
    "colab": {
      "name": "LSTM_.ipynb",
      "provenance": [],
      "collapsed_sections": []
    },
    "kernelspec": {
      "display_name": "Python 3",
      "language": "python",
      "name": "python3"
    },
    "language_info": {
      "codemirror_mode": {
        "name": "ipython",
        "version": 3
      },
      "file_extension": ".py",
      "mimetype": "text/x-python",
      "name": "python",
      "nbconvert_exporter": "python",
      "pygments_lexer": "ipython3",
      "version": "3.7.3"
    },
    "accelerator": "GPU"
  },
  "cells": [
    {
      "cell_type": "markdown",
      "metadata": {
        "colab_type": "text",
        "id": "aRDBaEieUNFc"
      },
      "source": [
        "## Resource: \n",
        "https://github.com/ekQ/raplysaattori/blob/master/raplyzer.py\n",
        "\n",
        "https://github.com/ekQ/raplysaattori/blob/master/phonetics.py\n",
        "\n",
        "https://mining4meaning.com/2015/02/13/raplyzer/\n",
        "\n",
        "https://towardsdatascience.com/generating-drake-rap-lyrics-using-language-models-and-lstms-8725d71b1b12\n",
        "\n",
        "https://github.com/enriqueav/lstm_lyrics\n",
        "\n",
        "make sentences and create x, y variables https://medium.com/coinmonks/word-level-lstm-text-generator-creating-automatic-song-lyrics-with-neural-networks-b8a1617104fb\n",
        "\n",
        "webscrape: https://www.freecodecamp.org/news/how-to-scrape-websites-with-python-and-beautifulsoup-5946935d93fe/\n",
        "\n",
        "https://stackoverflow.com/questions/42064690/using-pre-trained-word2vec-with-lstm-for-word-generation\n",
        "\n",
        "https://blog.keras.io/using-pre-trained-word-embeddings-in-a-keras-model.html\n",
        "\n",
        "https://medium.com/@enriqueav/update-automatic-song-lyrics-creator-with-word-embeddings-e30de94db8d1\n",
        "\n",
        "https://towardsdatascience.com/how-to-build-and-deploy-a-lyrics-generation-model-framework-agnostic-589f3026fd53"
      ]
    },
    {
      "cell_type": "code",
      "metadata": {
        "colab_type": "code",
        "id": "kBUTfBF4qjE2",
        "colab": {
          "base_uri": "https://localhost:8080/",
          "height": 125
        },
        "outputId": "c4e2ab9c-6fa4-45a1-e143-3c64ccbeb694"
      },
      "source": [
        "from google.colab import drive\n",
        "drive.mount('/content/drive')"
      ],
      "execution_count": null,
      "outputs": [
        {
          "output_type": "stream",
          "text": [
            "Go to this URL in a browser: https://accounts.google.com/o/oauth2/auth?client_id=947318989803-6bn6qk8qdgf4n4g3pfee6491hc0brc4i.apps.googleusercontent.com&redirect_uri=urn%3aietf%3awg%3aoauth%3a2.0%3aoob&response_type=code&scope=email%20https%3a%2f%2fwww.googleapis.com%2fauth%2fdocs.test%20https%3a%2f%2fwww.googleapis.com%2fauth%2fdrive%20https%3a%2f%2fwww.googleapis.com%2fauth%2fdrive.photos.readonly%20https%3a%2f%2fwww.googleapis.com%2fauth%2fpeopleapi.readonly\n",
            "\n",
            "Enter your authorization code:\n",
            "··········\n",
            "Mounted at /content/drive\n"
          ],
          "name": "stdout"
        }
      ]
    },
    {
      "cell_type": "code",
      "metadata": {
        "colab_type": "code",
        "id": "AvJ3RxtnUNFe",
        "colab": {
          "base_uri": "https://localhost:8080/",
          "height": 125
        },
        "outputId": "e74e31d9-b846-4b9d-81ea-ffe2b23b72e2"
      },
      "source": [
        "!pip install Unidecode\n",
        "import urllib.request as urllib2\n",
        "from bs4 import BeautifulSoup\n",
        "import pandas as pd\n",
        "import re\n",
        "from unidecode import unidecode\n"
      ],
      "execution_count": null,
      "outputs": [
        {
          "output_type": "stream",
          "text": [
            "Collecting Unidecode\n",
            "\u001b[?25l  Downloading https://files.pythonhosted.org/packages/d0/42/d9edfed04228bacea2d824904cae367ee9efd05e6cce7ceaaedd0b0ad964/Unidecode-1.1.1-py2.py3-none-any.whl (238kB)\n",
            "\r\u001b[K     |█▍                              | 10kB 22.5MB/s eta 0:00:01\r\u001b[K     |██▊                             | 20kB 27.3MB/s eta 0:00:01\r\u001b[K     |████▏                           | 30kB 31.5MB/s eta 0:00:01\r\u001b[K     |█████▌                          | 40kB 18.8MB/s eta 0:00:01\r\u001b[K     |██████▉                         | 51kB 13.7MB/s eta 0:00:01\r\u001b[K     |████████▎                       | 61kB 12.5MB/s eta 0:00:01\r\u001b[K     |█████████▋                      | 71kB 12.5MB/s eta 0:00:01\r\u001b[K     |███████████                     | 81kB 11.5MB/s eta 0:00:01\r\u001b[K     |████████████▍                   | 92kB 11.9MB/s eta 0:00:01\r\u001b[K     |█████████████▊                  | 102kB 11.9MB/s eta 0:00:01\r\u001b[K     |███████████████▏                | 112kB 11.9MB/s eta 0:00:01\r\u001b[K     |████████████████▌               | 122kB 11.9MB/s eta 0:00:01\r\u001b[K     |█████████████████▉              | 133kB 11.9MB/s eta 0:00:01\r\u001b[K     |███████████████████▎            | 143kB 11.9MB/s eta 0:00:01\r\u001b[K     |████████████████████▋           | 153kB 11.9MB/s eta 0:00:01\r\u001b[K     |██████████████████████          | 163kB 11.9MB/s eta 0:00:01\r\u001b[K     |███████████████████████▍        | 174kB 11.9MB/s eta 0:00:01\r\u001b[K     |████████████████████████▊       | 184kB 11.9MB/s eta 0:00:01\r\u001b[K     |██████████████████████████▏     | 194kB 11.9MB/s eta 0:00:01\r\u001b[K     |███████████████████████████▌    | 204kB 11.9MB/s eta 0:00:01\r\u001b[K     |████████████████████████████▉   | 215kB 11.9MB/s eta 0:00:01\r\u001b[K     |██████████████████████████████▎ | 225kB 11.9MB/s eta 0:00:01\r\u001b[K     |███████████████████████████████▋| 235kB 11.9MB/s eta 0:00:01\r\u001b[K     |████████████████████████████████| 245kB 11.9MB/s \n",
            "\u001b[?25hInstalling collected packages: Unidecode\n",
            "Successfully installed Unidecode-1.1.1\n"
          ],
          "name": "stdout"
        }
      ]
    },
    {
      "cell_type": "code",
      "metadata": {
        "colab_type": "code",
        "id": "S_ByVIE_UNFp",
        "scrolled": true,
        "colab": {}
      },
      "source": [
        "import random, re\n",
        "import os\n",
        "import io\n",
        "import sys\n",
        "import time\n",
        "##!pip install lyricsgenius\n",
        "#import lyricsgenius\n",
        "#genius = lyricsgenius.Genius(\"DOpXjCEmTPhznrvvwOCmQl5imZKWL2ks1blJeX3EfMasg3Ah-WI083vtSHA7bCoP\")"
      ],
      "execution_count": null,
      "outputs": []
    },
    {
      "cell_type": "markdown",
      "metadata": {
        "colab_type": "text",
        "id": "hHEtQN7JUNFt"
      },
      "source": [
        "# Prepare data from picke and use word2vec to generate inputs\n"
      ]
    },
    {
      "cell_type": "code",
      "metadata": {
        "colab_type": "code",
        "id": "2v_CCPEErR7S",
        "colab": {
          "base_uri": "https://localhost:8080/",
          "height": 34
        },
        "outputId": "1c6d72e1-e2d9-45cf-a4e2-8093a4cf101e"
      },
      "source": [
        "%cd /content/drive/My Drive/ML/Songs"
      ],
      "execution_count": null,
      "outputs": [
        {
          "output_type": "stream",
          "text": [
            "/content/drive/My Drive/ML/Songs\n"
          ],
          "name": "stdout"
        }
      ]
    },
    {
      "cell_type": "code",
      "metadata": {
        "colab_type": "code",
        "id": "Ri0TaOf9UNFu",
        "colab": {}
      },
      "source": [
        "import pickle\n",
        "import os\n",
        "import numpy as np\n",
        "import itertools\n",
        "import pandas as pd\n",
        "\n",
        "curDir = r\"/content/drive/My Drive/ML/try_file\"\n",
        "file_name = \"unique_lines_safe.pkl\"\n",
        "os.chdir(curDir)\n",
        "pickle_in = open(file_name,\"rb\")\n",
        "df = pickle.load(pickle_in)\n",
        "\n",
        "verse_line_list= pd.DataFrame(df)\n",
        "\n",
        "verse_line_list.columns =['verse']"
      ],
      "execution_count": null,
      "outputs": []
    },
    {
      "cell_type": "code",
      "metadata": {
        "colab_type": "code",
        "id": "7I-x4ezUUNFy",
        "colab": {}
      },
      "source": [
        "import re, string \n",
        "import pandas as pd   \n",
        "from collections import defaultdict\n",
        "import spacy\n",
        "from sklearn.manifold import TSNE\n",
        "from gensim.models import Word2Vec\n",
        "%matplotlib inline\n"
      ],
      "execution_count": null,
      "outputs": []
    },
    {
      "cell_type": "code",
      "metadata": {
        "colab_type": "code",
        "id": "g0A_n4NKEC_e",
        "colab": {
          "base_uri": "https://localhost:8080/",
          "height": 52
        },
        "outputId": "d65ff6ea-ca57-49f9-a66b-ad9d8f5a0dcb"
      },
      "source": [
        "import nltk\n",
        "from nltk.corpus import stopwords\n",
        "from nltk.tokenize import word_tokenize\n",
        "nltk.download('stopwords')\n",
        "STOPWORDS = set(stopwords.words('english'))\n"
      ],
      "execution_count": null,
      "outputs": [
        {
          "output_type": "stream",
          "text": [
            "[nltk_data] Downloading package stopwords to /root/nltk_data...\n",
            "[nltk_data]   Unzipping corpora/stopwords.zip.\n"
          ],
          "name": "stdout"
        }
      ]
    },
    {
      "cell_type": "code",
      "metadata": {
        "colab_type": "code",
        "id": "Tm-9bCSvzKq0",
        "colab": {}
      },
      "source": [
        "\n",
        "def clean_text(text):\n",
        "    '''Make text lowercase, remove text in square brackets, remove punctuation and remove words containing numbers.'''\n",
        "    text = text.lower()\n",
        "    text = re.sub(r'\\[.*?\\]', '', text)\n",
        "    text = re.sub(r'[%s]' % re.escape(string.punctuation), '', text)\n",
        "    text = re.sub(r'\\w*\\d\\w*', '', text)\n",
        "    return text\n",
        "    # Remove a sentence if it is only one word long\n",
        "    #if len(text) > 2:\n",
        "    #return ' '.join(word for word in text.split() if word not in STOPWORDS)\n",
        "\n",
        "df_clean = pd.DataFrame(verse_line_list.verse.apply(lambda x: clean_text(x)))\n"
      ],
      "execution_count": null,
      "outputs": []
    },
    {
      "cell_type": "code",
      "metadata": {
        "colab_type": "code",
        "id": "JlC2zBhGfb4r",
        "colab": {
          "base_uri": "https://localhost:8080/",
          "height": 34
        },
        "outputId": "ba448ccc-d486-49ca-91ed-8b80043bd82a"
      },
      "source": [
        "df_clean.shape"
      ],
      "execution_count": null,
      "outputs": [
        {
          "output_type": "execute_result",
          "data": {
            "text/plain": [
              "(398803, 1)"
            ]
          },
          "metadata": {
            "tags": []
          },
          "execution_count": 11
        }
      ]
    },
    {
      "cell_type": "code",
      "metadata": {
        "id": "pLw5hi8mkBgX",
        "colab_type": "code",
        "colab": {
          "base_uri": "https://localhost:8080/",
          "height": 197
        },
        "outputId": "e029fe4d-dbaf-4063-b7f1-2bd5d95fd3f5"
      },
      "source": [
        "df_clean = pd.DataFrame(df_clean.verse[0:150000])\n",
        "df_clean.head()"
      ],
      "execution_count": null,
      "outputs": [
        {
          "output_type": "execute_result",
          "data": {
            "text/html": [
              "<div>\n",
              "<style scoped>\n",
              "    .dataframe tbody tr th:only-of-type {\n",
              "        vertical-align: middle;\n",
              "    }\n",
              "\n",
              "    .dataframe tbody tr th {\n",
              "        vertical-align: top;\n",
              "    }\n",
              "\n",
              "    .dataframe thead th {\n",
              "        text-align: right;\n",
              "    }\n",
              "</style>\n",
              "<table border=\"1\" class=\"dataframe\">\n",
              "  <thead>\n",
              "    <tr style=\"text-align: right;\">\n",
              "      <th></th>\n",
              "      <th>verse</th>\n",
              "    </tr>\n",
              "  </thead>\n",
              "  <tbody>\n",
              "    <tr>\n",
              "      <th>0</th>\n",
              "      <td>palm angels on my body it protect me from my d...</td>\n",
              "    </tr>\n",
              "    <tr>\n",
              "      <th>1</th>\n",
              "      <td>but im a piranha piranha</td>\n",
              "    </tr>\n",
              "    <tr>\n",
              "      <th>2</th>\n",
              "      <td>but when i slip inside i turn girls into slip ...</td>\n",
              "    </tr>\n",
              "    <tr>\n",
              "      <th>3</th>\n",
              "      <td>aint no ifs ands or buts</td>\n",
              "    </tr>\n",
              "    <tr>\n",
              "      <th>4</th>\n",
              "      <td>and i aint join your team cause i got my own g...</td>\n",
              "    </tr>\n",
              "  </tbody>\n",
              "</table>\n",
              "</div>"
            ],
            "text/plain": [
              "                                               verse\n",
              "0  palm angels on my body it protect me from my d...\n",
              "1                           but im a piranha piranha\n",
              "2  but when i slip inside i turn girls into slip ...\n",
              "3                           aint no ifs ands or buts\n",
              "4  and i aint join your team cause i got my own g..."
            ]
          },
          "metadata": {
            "tags": []
          },
          "execution_count": 12
        }
      ]
    },
    {
      "cell_type": "code",
      "metadata": {
        "id": "lPrjYuEiSUZl",
        "colab_type": "code",
        "colab": {
          "base_uri": "https://localhost:8080/",
          "height": 52
        },
        "outputId": "4a4f2693-4370-4b32-c393-9a325b3eaed0"
      },
      "source": [
        "df_clean.isnull().sum()"
      ],
      "execution_count": null,
      "outputs": [
        {
          "output_type": "execute_result",
          "data": {
            "text/plain": [
              "verse    0\n",
              "dtype: int64"
            ]
          },
          "metadata": {
            "tags": []
          },
          "execution_count": 13
        }
      ]
    },
    {
      "cell_type": "code",
      "metadata": {
        "colab_type": "code",
        "id": "Do5aepYvUNF3",
        "colab": {}
      },
      "source": [
        "nlp = spacy.load('en', disable=['ner', 'parser']) # disabling Named Entity Recognition for speed\n",
        "\n",
        "def lemmatizer(verse):        \n",
        "    sent = []\n",
        "    doc = nlp(verse)\n",
        "    for word in doc:\n",
        "        sent.append(word.lemma_)\n",
        "    return \" \".join(sent)\n",
        "\n",
        "df_clean[\"verse_lemmatize\"] =  df_clean.apply(lambda x: lemmatizer(x['verse']), axis=1)"
      ],
      "execution_count": null,
      "outputs": []
    },
    {
      "cell_type": "code",
      "metadata": {
        "colab_type": "code",
        "id": "02dBQFXmUNF7",
        "colab": {
          "base_uri": "https://localhost:8080/",
          "height": 197
        },
        "outputId": "ba344d9a-9055-4590-b930-2c905291eb68"
      },
      "source": [
        "df_clean.head()"
      ],
      "execution_count": null,
      "outputs": [
        {
          "output_type": "execute_result",
          "data": {
            "text/html": [
              "<div>\n",
              "<style scoped>\n",
              "    .dataframe tbody tr th:only-of-type {\n",
              "        vertical-align: middle;\n",
              "    }\n",
              "\n",
              "    .dataframe tbody tr th {\n",
              "        vertical-align: top;\n",
              "    }\n",
              "\n",
              "    .dataframe thead th {\n",
              "        text-align: right;\n",
              "    }\n",
              "</style>\n",
              "<table border=\"1\" class=\"dataframe\">\n",
              "  <thead>\n",
              "    <tr style=\"text-align: right;\">\n",
              "      <th></th>\n",
              "      <th>verse</th>\n",
              "    </tr>\n",
              "  </thead>\n",
              "  <tbody>\n",
              "    <tr>\n",
              "      <th>0</th>\n",
              "      <td>palm angels on my body it protect me from my d...</td>\n",
              "    </tr>\n",
              "    <tr>\n",
              "      <th>1</th>\n",
              "      <td>but im a piranha piranha</td>\n",
              "    </tr>\n",
              "    <tr>\n",
              "      <th>2</th>\n",
              "      <td>but when i slip inside i turn girls into slip ...</td>\n",
              "    </tr>\n",
              "    <tr>\n",
              "      <th>3</th>\n",
              "      <td>aint no ifs ands or buts</td>\n",
              "    </tr>\n",
              "    <tr>\n",
              "      <th>4</th>\n",
              "      <td>and i aint join your team cause i got my own g...</td>\n",
              "    </tr>\n",
              "  </tbody>\n",
              "</table>\n",
              "</div>"
            ],
            "text/plain": [
              "                                               verse\n",
              "0  palm angels on my body it protect me from my d...\n",
              "1                           but im a piranha piranha\n",
              "2  but when i slip inside i turn girls into slip ...\n",
              "3                           aint no ifs ands or buts\n",
              "4  and i aint join your team cause i got my own g..."
            ]
          },
          "metadata": {
            "tags": []
          },
          "execution_count": 14
        }
      ]
    },
    {
      "cell_type": "code",
      "metadata": {
        "id": "fBWZTEe7esrw",
        "colab_type": "code",
        "colab": {
          "base_uri": "https://localhost:8080/",
          "height": 406
        },
        "outputId": "b4661491-5c7f-4e9c-8146-4b6f8edd2368"
      },
      "source": [
        "length_list = list()\n",
        "for i in range(len(df_clean.verse)):\n",
        "  x = len(df_clean.verse[i].split())\n",
        "  length_list.append(x)\n",
        "df_verse_len_check = pd.concat([df_clean.verse, pd.Series(length_list, name='sentence_length' )], axis=1, sort=False)\n",
        "df_verse_len_check"
      ],
      "execution_count": null,
      "outputs": [
        {
          "output_type": "execute_result",
          "data": {
            "text/html": [
              "<div>\n",
              "<style scoped>\n",
              "    .dataframe tbody tr th:only-of-type {\n",
              "        vertical-align: middle;\n",
              "    }\n",
              "\n",
              "    .dataframe tbody tr th {\n",
              "        vertical-align: top;\n",
              "    }\n",
              "\n",
              "    .dataframe thead th {\n",
              "        text-align: right;\n",
              "    }\n",
              "</style>\n",
              "<table border=\"1\" class=\"dataframe\">\n",
              "  <thead>\n",
              "    <tr style=\"text-align: right;\">\n",
              "      <th></th>\n",
              "      <th>verse</th>\n",
              "      <th>sentence_length</th>\n",
              "    </tr>\n",
              "  </thead>\n",
              "  <tbody>\n",
              "    <tr>\n",
              "      <th>0</th>\n",
              "      <td>palm angels on my body it protect me from my d...</td>\n",
              "      <td>11</td>\n",
              "    </tr>\n",
              "    <tr>\n",
              "      <th>1</th>\n",
              "      <td>but im a piranha piranha</td>\n",
              "      <td>5</td>\n",
              "    </tr>\n",
              "    <tr>\n",
              "      <th>2</th>\n",
              "      <td>but when i slip inside i turn girls into slip ...</td>\n",
              "      <td>12</td>\n",
              "    </tr>\n",
              "    <tr>\n",
              "      <th>3</th>\n",
              "      <td>aint no ifs ands or buts</td>\n",
              "      <td>6</td>\n",
              "    </tr>\n",
              "    <tr>\n",
              "      <th>4</th>\n",
              "      <td>and i aint join your team cause i got my own g...</td>\n",
              "      <td>12</td>\n",
              "    </tr>\n",
              "    <tr>\n",
              "      <th>...</th>\n",
              "      <td>...</td>\n",
              "      <td>...</td>\n",
              "    </tr>\n",
              "    <tr>\n",
              "      <th>149995</th>\n",
              "      <td>and all hell i started studying my idols</td>\n",
              "      <td>8</td>\n",
              "    </tr>\n",
              "    <tr>\n",
              "      <th>149996</th>\n",
              "      <td>so many decisions</td>\n",
              "      <td>3</td>\n",
              "    </tr>\n",
              "    <tr>\n",
              "      <th>149997</th>\n",
              "      <td>stayin strapped forever trapped in this drug life</td>\n",
              "      <td>8</td>\n",
              "    </tr>\n",
              "    <tr>\n",
              "      <th>149998</th>\n",
              "      <td>i hope you dont just want me for my lifestyle ...</td>\n",
              "      <td>12</td>\n",
              "    </tr>\n",
              "    <tr>\n",
              "      <th>149999</th>\n",
              "      <td>size  in girls</td>\n",
              "      <td>3</td>\n",
              "    </tr>\n",
              "  </tbody>\n",
              "</table>\n",
              "<p>150000 rows × 2 columns</p>\n",
              "</div>"
            ],
            "text/plain": [
              "                                                    verse  sentence_length\n",
              "0       palm angels on my body it protect me from my d...               11\n",
              "1                                but im a piranha piranha                5\n",
              "2       but when i slip inside i turn girls into slip ...               12\n",
              "3                                aint no ifs ands or buts                6\n",
              "4       and i aint join your team cause i got my own g...               12\n",
              "...                                                   ...              ...\n",
              "149995           and all hell i started studying my idols                8\n",
              "149996                                  so many decisions                3\n",
              "149997  stayin strapped forever trapped in this drug life                8\n",
              "149998  i hope you dont just want me for my lifestyle ...               12\n",
              "149999                                     size  in girls                3\n",
              "\n",
              "[150000 rows x 2 columns]"
            ]
          },
          "metadata": {
            "tags": []
          },
          "execution_count": 15
        }
      ]
    },
    {
      "cell_type": "code",
      "metadata": {
        "id": "G6flMGZVhei-",
        "colab_type": "code",
        "colab": {
          "base_uri": "https://localhost:8080/",
          "height": 390
        },
        "outputId": "5181d133-15b3-4f50-f2ef-8a718ccc9569"
      },
      "source": [
        "top20_len = df_verse_len_check.sentence_length.sort_values(ascending=False)[0:20]\n",
        "top20_len\n"
      ],
      "execution_count": null,
      "outputs": [
        {
          "output_type": "execute_result",
          "data": {
            "text/plain": [
              "38492     16\n",
              "101563    16\n",
              "113700    15\n",
              "16951     15\n",
              "41853     15\n",
              "99778     15\n",
              "105944    15\n",
              "83177     15\n",
              "146900    15\n",
              "129922    15\n",
              "124804    15\n",
              "7207      15\n",
              "126262    15\n",
              "893       15\n",
              "9145      15\n",
              "28417     15\n",
              "99780     15\n",
              "126256    15\n",
              "49826     15\n",
              "139371    15\n",
              "Name: sentence_length, dtype: int64"
            ]
          },
          "metadata": {
            "tags": []
          },
          "execution_count": 16
        }
      ]
    },
    {
      "cell_type": "code",
      "metadata": {
        "colab_type": "code",
        "id": "jInDBMU7UNGB",
        "colab": {}
      },
      "source": [
        "\n",
        "df_clean['verse_lemmatize_clean'] = df_clean['verse_lemmatize'].str.replace('-PRON-', '')"
      ],
      "execution_count": null,
      "outputs": []
    },
    {
      "cell_type": "markdown",
      "metadata": {
        "id": "4NUCAoAhQ86S",
        "colab_type": "text"
      },
      "source": [
        "## Plot the top 20 words with most frequency."
      ]
    },
    {
      "cell_type": "code",
      "metadata": {
        "colab_type": "code",
        "id": "DVO5NIolUNGH",
        "colab": {}
      },
      "source": [
        "\n",
        "sentences = [row.split() for row in df_clean['verse']]\n",
        "\n",
        "word_freq = defaultdict(int)\n",
        "for sent in sentences:\n",
        "    for i in sent:\n",
        "        word_freq[i] += 1\n",
        "\n",
        "\n",
        "      \n"
      ],
      "execution_count": null,
      "outputs": []
    },
    {
      "cell_type": "code",
      "metadata": {
        "id": "AZ9ZRLYAQs8V",
        "colab_type": "code",
        "colab": {}
      },
      "source": [
        "freq = pd.DataFrame([[k] + [v] for k, v in word_freq.items()], \n",
        "                   columns=['words', 'freq'])\n",
        "\n"
      ],
      "execution_count": null,
      "outputs": []
    },
    {
      "cell_type": "code",
      "metadata": {
        "id": "2NrGEHuIHUk_",
        "colab_type": "code",
        "colab": {
          "base_uri": "https://localhost:8080/",
          "height": 282
        },
        "outputId": "9d0a5735-10c2-4a99-dec4-b52e5d0264fe"
      },
      "source": [
        "import matplotlib.pyplot as plt\n",
        "pl = freq.sort_values(by=['freq'], ascending=False).iloc[0:20,:]\n",
        "\n",
        "plt.plot(pl.words, pl.freq)\n"
      ],
      "execution_count": null,
      "outputs": [
        {
          "output_type": "execute_result",
          "data": {
            "text/plain": [
              "[<matplotlib.lines.Line2D at 0x7fb725d3b1d0>]"
            ]
          },
          "metadata": {
            "tags": []
          },
          "execution_count": 19
        },
        {
          "output_type": "display_data",
          "data": {
            "image/png": "[encoded data removed]",
            "text/plain": [
              "<Figure size 432x288 with 1 Axes>"
            ]
          },
          "metadata": {
            "tags": [],
            "needs_background": "light"
          }
        }
      ]
    },
    {
      "cell_type": "code",
      "metadata": {
        "colab_type": "code",
        "id": "MuTcrT8moJQN",
        "colab": {
          "base_uri": "https://localhost:8080/",
          "height": 372
        },
        "outputId": "9f357806-063c-4123-d31a-065b5320d011"
      },
      "source": [
        "sorted(word_freq, key=word_freq.get, reverse=True)[:20]"
      ],
      "execution_count": null,
      "outputs": [
        {
          "output_type": "execute_result",
          "data": {
            "text/plain": [
              "['the',\n",
              " 'i',\n",
              " 'a',\n",
              " 'you',\n",
              " 'my',\n",
              " 'and',\n",
              " 'to',\n",
              " 'in',\n",
              " 'it',\n",
              " 'me',\n",
              " 'im',\n",
              " 'on',\n",
              " 'like',\n",
              " 'that',\n",
              " 'up',\n",
              " 'with',\n",
              " 'got',\n",
              " 'they',\n",
              " 'of',\n",
              " 'your']"
            ]
          },
          "metadata": {
            "tags": []
          },
          "execution_count": 20
        }
      ]
    },
    {
      "cell_type": "code",
      "metadata": {
        "colab_type": "code",
        "id": "wC4oN1cDoLyn",
        "colab": {}
      },
      "source": [
        "# min_count: minimum number of occurrences of a word in the corpus to be included in the model.\n",
        "# window: the maximum distance between the current and predicted word within a sentence.\n",
        "# size: the dimensionality of the feature vectors\n",
        "# workers: I know my system is having 4 cores, \n",
        "w2v_model = Word2Vec(min_count=1,\n",
        "                     window=5,\n",
        "                     size=300,\n",
        "                     workers=4)"
      ],
      "execution_count": null,
      "outputs": []
    },
    {
      "cell_type": "code",
      "metadata": {
        "colab_type": "code",
        "id": "vPIK8SywoZfk",
        "colab": {}
      },
      "source": [
        "w2v_model.build_vocab(sentences)"
      ],
      "execution_count": null,
      "outputs": []
    },
    {
      "cell_type": "code",
      "metadata": {
        "colab_type": "code",
        "id": "vIFrlkGaod7K",
        "colab": {
          "base_uri": "https://localhost:8080/",
          "height": 90
        },
        "outputId": "d4d686d4-2f6a-4b0d-cb5c-d6260f4a8c77"
      },
      "source": [
        "# train word vectors\n",
        "w2v_model.train(sentences, total_examples=w2v_model.corpus_count, epochs=w2v_model.iter)"
      ],
      "execution_count": null,
      "outputs": [
        {
          "output_type": "stream",
          "text": [
            "/usr/local/lib/python3.6/dist-packages/ipykernel_launcher.py:2: DeprecationWarning: Call to deprecated `iter` (Attribute will be removed in 4.0.0, use self.epochs instead).\n",
            "  \n"
          ],
          "name": "stderr"
        },
        {
          "output_type": "execute_result",
          "data": {
            "text/plain": [
              "(4729821, 6367085)"
            ]
          },
          "metadata": {
            "tags": []
          },
          "execution_count": 23
        }
      ]
    },
    {
      "cell_type": "code",
      "metadata": {
        "colab_type": "code",
        "id": "hz1j8U-sohfI",
        "colab": {}
      },
      "source": [
        "# As we do not plan to train the model any further, \n",
        "# we are calling init_sims(), which will make the model much more memory-efficient\n",
        "w2v_model.init_sims(replace=True)"
      ],
      "execution_count": null,
      "outputs": []
    },
    {
      "cell_type": "code",
      "metadata": {
        "id": "vuzQHdJS_de_",
        "colab_type": "code",
        "colab": {
          "base_uri": "https://localhost:8080/",
          "height": 72
        },
        "outputId": "fb003b65-df2a-4a3f-ecf7-d9c8fda87ba9"
      },
      "source": [
        "pretrained_weights = w2v_model.wv.syn0\n",
        "vocab_size, emdedding_size = pretrained_weights.shape"
      ],
      "execution_count": null,
      "outputs": [
        {
          "output_type": "stream",
          "text": [
            "/usr/local/lib/python3.6/dist-packages/ipykernel_launcher.py:1: DeprecationWarning: Call to deprecated `syn0` (Attribute will be removed in 4.0.0, use self.wv.vectors instead).\n",
            "  \"\"\"Entry point for launching an IPython kernel.\n"
          ],
          "name": "stderr"
        }
      ]
    },
    {
      "cell_type": "markdown",
      "metadata": {
        "id": "vTNxs4YdVjm_",
        "colab_type": "text"
      },
      "source": [
        "## Split sentences as train_x and train_y. train_x is the sentence except the last word. train_y is the last word of teh sentence. \n"
      ]
    },
    {
      "cell_type": "code",
      "metadata": {
        "id": "Wqfy93b8_x6Y",
        "colab_type": "code",
        "colab": {}
      },
      "source": [
        "def word2idx(word):\n",
        "  return w2v_model.wv.vocab[word].index\n",
        "def idx2word(idx):\n",
        "  return w2v_model.wv.index2word[idx]"
      ],
      "execution_count": null,
      "outputs": []
    },
    {
      "cell_type": "code",
      "metadata": {
        "id": "fnHzHoo9MZtb",
        "colab_type": "code",
        "colab": {
          "base_uri": "https://localhost:8080/",
          "height": 34
        },
        "outputId": "668f0e31-3461-4c06-bb33-d85d7a806f67"
      },
      "source": [
        "## find the max sentence length\n",
        "ll= list()\n",
        "for i, sentence in enumerate(sentences):\n",
        "  x = len(sentences[i])\n",
        "  ll.append(x)\n",
        "max(ll)\n"
      ],
      "execution_count": null,
      "outputs": [
        {
          "output_type": "execute_result",
          "data": {
            "text/plain": [
              "16"
            ]
          },
          "metadata": {
            "tags": []
          },
          "execution_count": 27
        }
      ]
    },
    {
      "cell_type": "code",
      "metadata": {
        "id": "Qw4OEsEeD6cM",
        "colab_type": "code",
        "colab": {
          "base_uri": "https://localhost:8080/",
          "height": 52
        },
        "outputId": "23005374-b725-4828-e299-bffe1b6aee11"
      },
      "source": [
        "max_sentence_len=16\n",
        "x = np.zeros([len(sentences), max_sentence_len], dtype=np.int32)\n",
        "y = np.zeros([len(sentences)], dtype=np.int32)\n",
        "for i, sentence in enumerate(sentences):\n",
        "  for t, word in enumerate(sentence[:-1]):\n",
        "    x[i, t] = word2idx(word)\n",
        "    y[i] = word2idx(sentence[-1])\n",
        "print('x shape:', x.shape)\n",
        "print('y shape:', y.shape)"
      ],
      "execution_count": null,
      "outputs": [
        {
          "output_type": "stream",
          "text": [
            "x shape: (150000, 16)\n",
            "y shape: (150000,)\n"
          ],
          "name": "stdout"
        }
      ]
    },
    {
      "cell_type": "markdown",
      "metadata": {
        "id": "bBz3BKX2VxQL",
        "colab_type": "text"
      },
      "source": [
        "# Embedding Wordvec2 model in LSTM"
      ]
    },
    {
      "cell_type": "code",
      "metadata": {
        "id": "AkBIhT4c9MaK",
        "colab_type": "code",
        "colab": {
          "base_uri": "https://localhost:8080/",
          "height": 107
        },
        "outputId": "594202ed-46c0-45f8-d09b-d362af16be1d"
      },
      "source": [
        "from keras.callbacks import LambdaCallback\n",
        "from keras.layers.recurrent import LSTM\n",
        "from keras.layers.embeddings import Embedding\n",
        "from keras.models import Model, Sequential\n",
        "from keras.layers import Dense, Activation\n",
        "from keras.callbacks import ModelCheckpoint, EarlyStopping\n",
        "\n",
        "embedding_layer = Embedding(input_dim=vocab_size, output_dim=emdedding_size, \n",
        "                    weights=[pretrained_weights])\n",
        "\n",
        "model = Sequential()\n",
        "model.add(embedding_layer)\n",
        "model.add(LSTM(w2v_model.wv.syn0.shape[1]))\n",
        "model.add(Dense(w2v_model.wv.syn0.shape[0]))   \n",
        "\n",
        "model.add(Activation('softmax'))\n",
        "model.compile(optimizer='adam', loss='sparse_categorical_crossentropy', metrics=['accuracy'])"
      ],
      "execution_count": null,
      "outputs": [
        {
          "output_type": "stream",
          "text": [
            "/usr/local/lib/python3.6/dist-packages/ipykernel_launcher.py:13: DeprecationWarning: Call to deprecated `syn0` (Attribute will be removed in 4.0.0, use self.wv.vectors instead).\n",
            "  del sys.path[0]\n",
            "/usr/local/lib/python3.6/dist-packages/ipykernel_launcher.py:14: DeprecationWarning: Call to deprecated `syn0` (Attribute will be removed in 4.0.0, use self.wv.vectors instead).\n",
            "  \n"
          ],
          "name": "stderr"
        }
      ]
    },
    {
      "cell_type": "code",
      "metadata": {
        "id": "z0yMhhaeT5JP",
        "colab_type": "code",
        "colab": {}
      },
      "source": [
        "def sample(preds, temperature=1.0):\n",
        "  if temperature <= 0:\n",
        "    return np.argmax(preds)\n",
        "  preds = np.asarray(preds).astype('float64')\n",
        "  preds = np.log(preds) / temperature\n",
        "  exp_preds = np.exp(preds)\n",
        "  preds = exp_preds / np.sum(exp_preds)\n",
        "  probas = np.random.multinomial(1, preds, 1)\n",
        "  return np.argmax(probas)\n",
        "\n",
        "def generate_next(text, num_generated=10):\n",
        "  word_idxs = [word2idx(word) for word in text.lower().split()]\n",
        "  for i in range(num_generated):\n",
        "    prediction = model.predict(x=np.array(word_idxs))[0]\n",
        "    idx = sample(prediction, temperature=0.7)\n",
        "    word_idxs.append(idx)\n",
        "  return ' '.join(idx2word(idx) for idx in word_idxs)"
      ],
      "execution_count": null,
      "outputs": []
    },
    {
      "cell_type": "code",
      "metadata": {
        "id": "z-n3smJCeN-2",
        "colab_type": "code",
        "colab": {
          "base_uri": "https://localhost:8080/",
          "height": 1000
        },
        "outputId": "ebfa6e33-99cc-4838-a20c-82fc9111cd1e"
      },
      "source": [
        "#!pip install h5py\n",
        "early_stopping =EarlyStopping(monitor='loss',mode = \"min\",  verbose = 1, patience=7)\n",
        "filepath = \"Word2vecLSTM_weights.hdf5\"\n",
        "model_checkpoint = ModelCheckpoint(filepath, monitor='loss', verbose=1, mode='min', save_best_only=True, save_weights_only=True)\n",
        "\n",
        "his= model.fit(x, y,\n",
        "          batch_size=128,\n",
        "          epochs=100,\n",
        "          shuffle=True, \n",
        "          callbacks=[early_stopping, model_checkpoint])\n",
        "\n",
        "#LambdaCallback(on_epoch_end=on_epoch_end)\n"
      ],
      "execution_count": null,
      "outputs": [
        {
          "output_type": "stream",
          "text": [
            "/usr/local/lib/python3.6/dist-packages/tensorflow/python/framework/indexed_slices.py:434: UserWarning: Converting sparse IndexedSlices to a dense Tensor of unknown shape. This may consume a large amount of memory.\n",
            "  \"Converting sparse IndexedSlices to a dense Tensor of unknown shape. \"\n"
          ],
          "name": "stderr"
        },
        {
          "output_type": "stream",
          "text": [
            "Epoch 1/100\n",
            "150000/150000 [==============================] - 68s 450us/step - loss: 8.3670 - accuracy: 0.0282\n",
            "\n",
            "Epoch 00001: loss improved from inf to 8.36700, saving model to Word2vecLSTM_weights.hdf5\n",
            "Epoch 2/100\n",
            "150000/150000 [==============================] - 68s 453us/step - loss: 7.5418 - accuracy: 0.0577\n",
            "\n",
            "Epoch 00002: loss improved from 8.36700 to 7.54182, saving model to Word2vecLSTM_weights.hdf5\n",
            "Epoch 3/100\n",
            "150000/150000 [==============================] - 70s 467us/step - loss: 6.9146 - accuracy: 0.0819\n",
            "\n",
            "Epoch 00003: loss improved from 7.54182 to 6.91460, saving model to Word2vecLSTM_weights.hdf5\n",
            "Epoch 4/100\n",
            "150000/150000 [==============================] - 71s 470us/step - loss: 6.3566 - accuracy: 0.0996\n",
            "\n",
            "Epoch 00004: loss improved from 6.91460 to 6.35659, saving model to Word2vecLSTM_weights.hdf5\n",
            "Epoch 5/100\n",
            "150000/150000 [==============================] - 69s 461us/step - loss: 5.8048 - accuracy: 0.1203\n",
            "\n",
            "Epoch 00005: loss improved from 6.35659 to 5.80481, saving model to Word2vecLSTM_weights.hdf5\n",
            "Epoch 6/100\n",
            "150000/150000 [==============================] - 71s 471us/step - loss: 5.2401 - accuracy: 0.1502\n",
            "\n",
            "Epoch 00006: loss improved from 5.80481 to 5.24007, saving model to Word2vecLSTM_weights.hdf5\n",
            "Epoch 7/100\n",
            "150000/150000 [==============================] - 69s 457us/step - loss: 4.6705 - accuracy: 0.1960\n",
            "\n",
            "Epoch 00007: loss improved from 5.24007 to 4.67051, saving model to Word2vecLSTM_weights.hdf5\n",
            "Epoch 8/100\n",
            "150000/150000 [==============================] - 69s 461us/step - loss: 4.1228 - accuracy: 0.2607\n",
            "\n",
            "Epoch 00008: loss improved from 4.67051 to 4.12281, saving model to Word2vecLSTM_weights.hdf5\n",
            "Epoch 9/100\n",
            "150000/150000 [==============================] - 71s 471us/step - loss: 3.6227 - accuracy: 0.3296\n",
            "\n",
            "Epoch 00009: loss improved from 4.12281 to 3.62270, saving model to Word2vecLSTM_weights.hdf5\n",
            "Epoch 10/100\n",
            "150000/150000 [==============================] - 70s 463us/step - loss: 3.1909 - accuracy: 0.3942\n",
            "\n",
            "Epoch 00010: loss improved from 3.62270 to 3.19094, saving model to Word2vecLSTM_weights.hdf5\n",
            "Epoch 11/100\n",
            "150000/150000 [==============================] - 67s 447us/step - loss: 2.8284 - accuracy: 0.4524\n",
            "\n",
            "Epoch 00011: loss improved from 3.19094 to 2.82840, saving model to Word2vecLSTM_weights.hdf5\n",
            "Epoch 12/100\n",
            "150000/150000 [==============================] - 68s 452us/step - loss: 2.5193 - accuracy: 0.5041\n",
            "\n",
            "Epoch 00012: loss improved from 2.82840 to 2.51925, saving model to Word2vecLSTM_weights.hdf5\n",
            "Epoch 13/100\n",
            "150000/150000 [==============================] - 68s 453us/step - loss: 2.2576 - accuracy: 0.5481\n",
            "\n",
            "Epoch 00013: loss improved from 2.51925 to 2.25759, saving model to Word2vecLSTM_weights.hdf5\n",
            "Epoch 14/100\n",
            "150000/150000 [==============================] - 67s 449us/step - loss: 2.0210 - accuracy: 0.5916\n",
            "\n",
            "Epoch 00014: loss improved from 2.25759 to 2.02096, saving model to Word2vecLSTM_weights.hdf5\n",
            "Epoch 15/100\n",
            "150000/150000 [==============================] - 69s 458us/step - loss: 1.8149 - accuracy: 0.6294\n",
            "\n",
            "Epoch 00015: loss improved from 2.02096 to 1.81486, saving model to Word2vecLSTM_weights.hdf5\n",
            "Epoch 16/100\n",
            "150000/150000 [==============================] - 68s 454us/step - loss: 1.6417 - accuracy: 0.6614\n",
            "\n",
            "Epoch 00016: loss improved from 1.81486 to 1.64170, saving model to Word2vecLSTM_weights.hdf5\n",
            "Epoch 17/100\n",
            "150000/150000 [==============================] - 67s 449us/step - loss: 1.4834 - accuracy: 0.6911\n",
            "\n",
            "Epoch 00017: loss improved from 1.64170 to 1.48342, saving model to Word2vecLSTM_weights.hdf5\n",
            "Epoch 18/100\n",
            "150000/150000 [==============================] - 67s 449us/step - loss: 1.3430 - accuracy: 0.7172\n",
            "\n",
            "Epoch 00018: loss improved from 1.48342 to 1.34299, saving model to Word2vecLSTM_weights.hdf5\n",
            "Epoch 19/100\n",
            "150000/150000 [==============================] - 68s 453us/step - loss: 1.2141 - accuracy: 0.7433\n",
            "\n",
            "Epoch 00019: loss improved from 1.34299 to 1.21412, saving model to Word2vecLSTM_weights.hdf5\n",
            "Epoch 20/100\n",
            "150000/150000 [==============================] - 68s 455us/step - loss: 1.1074 - accuracy: 0.7638\n",
            "\n",
            "Epoch 00020: loss improved from 1.21412 to 1.10739, saving model to Word2vecLSTM_weights.hdf5\n",
            "Epoch 21/100\n",
            "150000/150000 [==============================] - 69s 457us/step - loss: 1.0030 - accuracy: 0.7858\n",
            "\n",
            "Epoch 00021: loss improved from 1.10739 to 1.00303, saving model to Word2vecLSTM_weights.hdf5\n",
            "Epoch 22/100\n",
            "150000/150000 [==============================] - 69s 459us/step - loss: 0.9167 - accuracy: 0.8029\n",
            "\n",
            "Epoch 00022: loss improved from 1.00303 to 0.91668, saving model to Word2vecLSTM_weights.hdf5\n",
            "Epoch 23/100\n",
            "150000/150000 [==============================] - 69s 457us/step - loss: 0.8347 - accuracy: 0.8200\n",
            "\n",
            "Epoch 00023: loss improved from 0.91668 to 0.83467, saving model to Word2vecLSTM_weights.hdf5\n",
            "Epoch 24/100\n",
            "150000/150000 [==============================] - 68s 455us/step - loss: 0.7786 - accuracy: 0.8317\n",
            "\n",
            "Epoch 00024: loss improved from 0.83467 to 0.77862, saving model to Word2vecLSTM_weights.hdf5\n",
            "Epoch 25/100\n",
            "150000/150000 [==============================] - 68s 456us/step - loss: 0.7068 - accuracy: 0.8471\n",
            "\n",
            "Epoch 00025: loss improved from 0.77862 to 0.70680, saving model to Word2vecLSTM_weights.hdf5\n",
            "Epoch 26/100\n",
            "150000/150000 [==============================] - 67s 447us/step - loss: 0.6438 - accuracy: 0.8603\n",
            "\n",
            "Epoch 00026: loss improved from 0.70680 to 0.64377, saving model to Word2vecLSTM_weights.hdf5\n",
            "Epoch 27/100\n",
            "150000/150000 [==============================] - 67s 444us/step - loss: 0.5987 - accuracy: 0.8688\n",
            "\n",
            "Epoch 00027: loss improved from 0.64377 to 0.59865, saving model to Word2vecLSTM_weights.hdf5\n",
            "Epoch 28/100\n",
            "150000/150000 [==============================] - 67s 448us/step - loss: 0.5570 - accuracy: 0.8784\n",
            "\n",
            "Epoch 00028: loss improved from 0.59865 to 0.55699, saving model to Word2vecLSTM_weights.hdf5\n",
            "Epoch 29/100\n",
            "150000/150000 [==============================] - 68s 450us/step - loss: 0.5105 - accuracy: 0.8879\n",
            "\n",
            "Epoch 00029: loss improved from 0.55699 to 0.51048, saving model to Word2vecLSTM_weights.hdf5\n",
            "Epoch 30/100\n",
            "150000/150000 [==============================] - 68s 452us/step - loss: 0.4758 - accuracy: 0.8956\n",
            "\n",
            "Epoch 00030: loss improved from 0.51048 to 0.47575, saving model to Word2vecLSTM_weights.hdf5\n",
            "Epoch 31/100\n",
            "150000/150000 [==============================] - 67s 449us/step - loss: 0.4471 - accuracy: 0.9018\n",
            "\n",
            "Epoch 00031: loss improved from 0.47575 to 0.44714, saving model to Word2vecLSTM_weights.hdf5\n",
            "Epoch 32/100\n",
            "150000/150000 [==============================] - 67s 446us/step - loss: 0.4176 - accuracy: 0.9080\n",
            "\n",
            "Epoch 00032: loss improved from 0.44714 to 0.41757, saving model to Word2vecLSTM_weights.hdf5\n",
            "Epoch 33/100\n",
            "150000/150000 [==============================] - 67s 450us/step - loss: 0.3883 - accuracy: 0.9141\n",
            "\n",
            "Epoch 00033: loss improved from 0.41757 to 0.38825, saving model to Word2vecLSTM_weights.hdf5\n",
            "Epoch 34/100\n",
            "150000/150000 [==============================] - 67s 446us/step - loss: 0.3757 - accuracy: 0.9159\n",
            "\n",
            "Epoch 00034: loss improved from 0.38825 to 0.37570, saving model to Word2vecLSTM_weights.hdf5\n",
            "Epoch 35/100\n",
            "150000/150000 [==============================] - 67s 449us/step - loss: 0.3621 - accuracy: 0.9183\n",
            "\n",
            "Epoch 00035: loss improved from 0.37570 to 0.36214, saving model to Word2vecLSTM_weights.hdf5\n",
            "Epoch 36/100\n",
            "150000/150000 [==============================] - 67s 444us/step - loss: 0.3347 - accuracy: 0.9251\n",
            "\n",
            "Epoch 00036: loss improved from 0.36214 to 0.33472, saving model to Word2vecLSTM_weights.hdf5\n",
            "Epoch 37/100\n",
            "150000/150000 [==============================] - 67s 443us/step - loss: 0.3039 - accuracy: 0.9329\n",
            "\n",
            "Epoch 00037: loss improved from 0.33472 to 0.30386, saving model to Word2vecLSTM_weights.hdf5\n",
            "Epoch 38/100\n",
            "150000/150000 [==============================] - 67s 446us/step - loss: 0.3068 - accuracy: 0.9306\n",
            "\n",
            "Epoch 00038: loss did not improve from 0.30386\n",
            "Epoch 39/100\n",
            "150000/150000 [==============================] - 66s 438us/step - loss: 0.2925 - accuracy: 0.9333\n",
            "\n",
            "Epoch 00039: loss improved from 0.30386 to 0.29247, saving model to Word2vecLSTM_weights.hdf5\n",
            "Epoch 40/100\n",
            "150000/150000 [==============================] - 66s 438us/step - loss: 0.2824 - accuracy: 0.9357\n",
            "\n",
            "Epoch 00040: loss improved from 0.29247 to 0.28243, saving model to Word2vecLSTM_weights.hdf5\n",
            "Epoch 41/100\n",
            "150000/150000 [==============================] - 67s 445us/step - loss: 0.2699 - accuracy: 0.9377\n",
            "\n",
            "Epoch 00041: loss improved from 0.28243 to 0.26991, saving model to Word2vecLSTM_weights.hdf5\n",
            "Epoch 42/100\n",
            "150000/150000 [==============================] - 67s 444us/step - loss: 0.2643 - accuracy: 0.9387\n",
            "\n",
            "Epoch 00042: loss improved from 0.26991 to 0.26428, saving model to Word2vecLSTM_weights.hdf5\n",
            "Epoch 43/100\n",
            "150000/150000 [==============================] - 66s 439us/step - loss: 0.2464 - accuracy: 0.9431\n",
            "\n",
            "Epoch 00043: loss improved from 0.26428 to 0.24636, saving model to Word2vecLSTM_weights.hdf5\n",
            "Epoch 44/100\n",
            "150000/150000 [==============================] - 65s 434us/step - loss: 0.2382 - accuracy: 0.9454\n",
            "\n",
            "Epoch 00044: loss improved from 0.24636 to 0.23821, saving model to Word2vecLSTM_weights.hdf5\n",
            "Epoch 45/100\n",
            "150000/150000 [==============================] - 66s 443us/step - loss: 0.2443 - accuracy: 0.9423\n",
            "\n",
            "Epoch 00045: loss did not improve from 0.23821\n",
            "Epoch 46/100\n",
            "150000/150000 [==============================] - 66s 439us/step - loss: 0.2304 - accuracy: 0.9463\n",
            "\n",
            "Epoch 00046: loss improved from 0.23821 to 0.23041, saving model to Word2vecLSTM_weights.hdf5\n",
            "Epoch 47/100\n",
            "150000/150000 [==============================] - 66s 440us/step - loss: 0.2224 - accuracy: 0.9482\n",
            "\n",
            "Epoch 00047: loss improved from 0.23041 to 0.22238, saving model to Word2vecLSTM_weights.hdf5\n",
            "Epoch 48/100\n",
            "150000/150000 [==============================] - 67s 444us/step - loss: 0.2186 - accuracy: 0.9485\n",
            "\n",
            "Epoch 00048: loss improved from 0.22238 to 0.21862, saving model to Word2vecLSTM_weights.hdf5\n",
            "Epoch 49/100\n",
            "150000/150000 [==============================] - 66s 437us/step - loss: 0.2132 - accuracy: 0.9489\n",
            "\n",
            "Epoch 00049: loss improved from 0.21862 to 0.21315, saving model to Word2vecLSTM_weights.hdf5\n",
            "Epoch 50/100\n",
            "150000/150000 [==============================] - 66s 441us/step - loss: 0.2091 - accuracy: 0.9508\n",
            "\n",
            "Epoch 00050: loss improved from 0.21315 to 0.20913, saving model to Word2vecLSTM_weights.hdf5\n",
            "Epoch 51/100\n",
            "150000/150000 [==============================] - 67s 445us/step - loss: 0.2102 - accuracy: 0.9497\n",
            "\n",
            "Epoch 00051: loss did not improve from 0.20913\n",
            "Epoch 52/100\n",
            "150000/150000 [==============================] - 66s 440us/step - loss: 0.1981 - accuracy: 0.9527\n",
            "\n",
            "Epoch 00052: loss improved from 0.20913 to 0.19810, saving model to Word2vecLSTM_weights.hdf5\n",
            "Epoch 53/100\n",
            "150000/150000 [==============================] - 66s 438us/step - loss: 0.2042 - accuracy: 0.9505\n",
            "\n",
            "Epoch 00053: loss did not improve from 0.19810\n",
            "Epoch 54/100\n",
            "150000/150000 [==============================] - 66s 438us/step - loss: 0.1986 - accuracy: 0.9521\n",
            "\n",
            "Epoch 00054: loss did not improve from 0.19810\n",
            "Epoch 55/100\n",
            "150000/150000 [==============================] - 66s 443us/step - loss: 0.1880 - accuracy: 0.9552\n",
            "\n",
            "Epoch 00055: loss improved from 0.19810 to 0.18804, saving model to Word2vecLSTM_weights.hdf5\n",
            "Epoch 56/100\n",
            "150000/150000 [==============================] - 67s 448us/step - loss: 0.1946 - accuracy: 0.9528\n",
            "\n",
            "Epoch 00056: loss did not improve from 0.18804\n",
            "Epoch 57/100\n",
            "150000/150000 [==============================] - 67s 444us/step - loss: 0.1896 - accuracy: 0.9537\n",
            "\n",
            "Epoch 00057: loss did not improve from 0.18804\n",
            "Epoch 58/100\n",
            "150000/150000 [==============================] - 67s 445us/step - loss: 0.1744 - accuracy: 0.9585\n",
            "\n",
            "Epoch 00058: loss improved from 0.18804 to 0.17444, saving model to Word2vecLSTM_weights.hdf5\n",
            "Epoch 59/100\n",
            "150000/150000 [==============================] - 66s 440us/step - loss: 0.1786 - accuracy: 0.9566\n",
            "\n",
            "Epoch 00059: loss did not improve from 0.17444\n",
            "Epoch 60/100\n",
            "150000/150000 [==============================] - 66s 443us/step - loss: 0.1845 - accuracy: 0.9541\n",
            "\n",
            "Epoch 00060: loss did not improve from 0.17444\n",
            "Epoch 61/100\n",
            "150000/150000 [==============================] - 66s 442us/step - loss: 0.1745 - accuracy: 0.9572\n",
            "\n",
            "Epoch 00061: loss did not improve from 0.17444\n",
            "Epoch 62/100\n",
            "150000/150000 [==============================] - 66s 441us/step - loss: 0.1705 - accuracy: 0.9581\n",
            "\n",
            "Epoch 00062: loss improved from 0.17444 to 0.17046, saving model to Word2vecLSTM_weights.hdf5\n",
            "Epoch 63/100\n",
            "150000/150000 [==============================] - 66s 437us/step - loss: 0.1689 - accuracy: 0.9579\n",
            "\n",
            "Epoch 00063: loss improved from 0.17046 to 0.16892, saving model to Word2vecLSTM_weights.hdf5\n",
            "Epoch 64/100\n",
            "150000/150000 [==============================] - 65s 436us/step - loss: 0.1700 - accuracy: 0.9581\n",
            "\n",
            "Epoch 00064: loss did not improve from 0.16892\n",
            "Epoch 65/100\n",
            "150000/150000 [==============================] - 65s 436us/step - loss: 0.1818 - accuracy: 0.9537\n",
            "\n",
            "Epoch 00065: loss did not improve from 0.16892\n",
            "Epoch 66/100\n",
            "150000/150000 [==============================] - 65s 436us/step - loss: 0.1732 - accuracy: 0.9567\n",
            "\n",
            "Epoch 00066: loss did not improve from 0.16892\n",
            "Epoch 67/100\n",
            "150000/150000 [==============================] - 66s 442us/step - loss: 0.1507 - accuracy: 0.9632\n",
            "\n",
            "Epoch 00067: loss improved from 0.16892 to 0.15067, saving model to Word2vecLSTM_weights.hdf5\n",
            "Epoch 68/100\n",
            "150000/150000 [==============================] - 65s 436us/step - loss: 0.1632 - accuracy: 0.9596\n",
            "\n",
            "Epoch 00068: loss did not improve from 0.15067\n",
            "Epoch 69/100\n",
            "150000/150000 [==============================] - 66s 439us/step - loss: 0.1610 - accuracy: 0.9596\n",
            "\n",
            "Epoch 00069: loss did not improve from 0.15067\n",
            "Epoch 70/100\n",
            "150000/150000 [==============================] - 66s 440us/step - loss: 0.1666 - accuracy: 0.9581\n",
            "\n",
            "Epoch 00070: loss did not improve from 0.15067\n",
            "Epoch 71/100\n",
            "150000/150000 [==============================] - 66s 442us/step - loss: 0.1571 - accuracy: 0.9608\n",
            "\n",
            "Epoch 00071: loss did not improve from 0.15067\n",
            "Epoch 72/100\n",
            "150000/150000 [==============================] - 66s 442us/step - loss: 0.1524 - accuracy: 0.9618\n",
            "\n",
            "Epoch 00072: loss did not improve from 0.15067\n",
            "Epoch 73/100\n",
            "150000/150000 [==============================] - 66s 438us/step - loss: 0.1536 - accuracy: 0.9614\n",
            "\n",
            "Epoch 00073: loss did not improve from 0.15067\n",
            "Epoch 74/100\n",
            "150000/150000 [==============================] - 65s 435us/step - loss: 0.1422 - accuracy: 0.9645\n",
            "\n",
            "Epoch 00074: loss improved from 0.15067 to 0.14220, saving model to Word2vecLSTM_weights.hdf5\n",
            "Epoch 75/100\n",
            "150000/150000 [==============================] - 65s 436us/step - loss: 0.1507 - accuracy: 0.9620\n",
            "\n",
            "Epoch 00075: loss did not improve from 0.14220\n",
            "Epoch 76/100\n",
            "150000/150000 [==============================] - 65s 436us/step - loss: 0.1584 - accuracy: 0.9592\n",
            "\n",
            "Epoch 00076: loss did not improve from 0.14220\n",
            "Epoch 77/100\n",
            "150000/150000 [==============================] - 65s 434us/step - loss: 0.1507 - accuracy: 0.9614\n",
            "\n",
            "Epoch 00077: loss did not improve from 0.14220\n",
            "Epoch 78/100\n",
            "150000/150000 [==============================] - 66s 440us/step - loss: 0.1479 - accuracy: 0.9619\n",
            "\n",
            "Epoch 00078: loss did not improve from 0.14220\n",
            "Epoch 79/100\n",
            "150000/150000 [==============================] - 67s 443us/step - loss: 0.1555 - accuracy: 0.9594\n",
            "\n",
            "Epoch 00079: loss did not improve from 0.14220\n",
            "Epoch 80/100\n",
            "150000/150000 [==============================] - 66s 441us/step - loss: 0.1340 - accuracy: 0.9662\n",
            "\n",
            "Epoch 00080: loss improved from 0.14220 to 0.13401, saving model to Word2vecLSTM_weights.hdf5\n",
            "Epoch 81/100\n",
            "150000/150000 [==============================] - 66s 440us/step - loss: 0.1390 - accuracy: 0.9649\n",
            "\n",
            "Epoch 00081: loss did not improve from 0.13401\n",
            "Epoch 82/100\n",
            "150000/150000 [==============================] - 66s 437us/step - loss: 0.1506 - accuracy: 0.9613\n",
            "\n",
            "Epoch 00082: loss did not improve from 0.13401\n",
            "Epoch 83/100\n",
            "150000/150000 [==============================] - 66s 442us/step - loss: 0.1423 - accuracy: 0.9632\n",
            "\n",
            "Epoch 00083: loss did not improve from 0.13401\n",
            "Epoch 84/100\n",
            "150000/150000 [==============================] - 66s 442us/step - loss: 0.1391 - accuracy: 0.9640\n",
            "\n",
            "Epoch 00084: loss did not improve from 0.13401\n",
            "Epoch 85/100\n",
            "150000/150000 [==============================] - 67s 447us/step - loss: 0.1413 - accuracy: 0.9630\n",
            "\n",
            "Epoch 00085: loss did not improve from 0.13401\n",
            "Epoch 86/100\n",
            "150000/150000 [==============================] - 66s 440us/step - loss: 0.1439 - accuracy: 0.9626\n",
            "\n",
            "Epoch 00086: loss did not improve from 0.13401\n",
            "Epoch 87/100\n",
            "150000/150000 [==============================] - 67s 446us/step - loss: 0.1421 - accuracy: 0.9631\n",
            "\n",
            "Epoch 00087: loss did not improve from 0.13401\n",
            "Epoch 00087: early stopping\n"
          ],
          "name": "stdout"
        }
      ]
    },
    {
      "cell_type": "code",
      "metadata": {
        "id": "O1qT7quVYtde",
        "colab_type": "code",
        "colab": {
          "base_uri": "https://localhost:8080/",
          "height": 158
        },
        "outputId": "7c09c578-c42d-49e0-f66b-8af12c6cd229"
      },
      "source": [
        "print(\"Hyperparameters\")\n",
        "print(\"Data size: \", df_clean.shape[0])\n",
        "print(\"Epochs: \",100 )\n",
        "print('Early Stopping', 86)\n",
        "print(\"Batch size: \", 128)\n",
        "\n",
        "print(\"Layers: \", len(model.layers))\n",
        "print(\"Loss: \", his.history[\"loss\"][-1])\n",
        "print(\"Accuracy: \", his.history[\"accuracy\"][-1])"
      ],
      "execution_count": null,
      "outputs": [
        {
          "output_type": "stream",
          "text": [
            "Hyperparameters\n",
            "Data size:  150000\n",
            "Epochs:  100\n",
            "Early Stopping 86\n",
            "Batch size:  128\n",
            "Layers:  4\n",
            "Loss:  0.14213323646704357\n",
            "Accuracy:  0.96309334\n"
          ],
          "name": "stdout"
        }
      ]
    },
    {
      "cell_type": "code",
      "metadata": {
        "id": "uxnLiER3RtC7",
        "colab_type": "code",
        "colab": {
          "base_uri": "https://localhost:8080/",
          "height": 34
        },
        "outputId": "53b70ec4-cd4a-4a8a-adb2-02be550c0260"
      },
      "source": [
        "# save model\n",
        "import json\n",
        "import optparse\n",
        "\n",
        "# serialize model to JSON\n",
        "final_json = model.to_json()\n",
        "with open(\"word2vec_LSTM.json\", \"w\") as json_file:\n",
        "    json_file.write(final_json)\n",
        "# serialize weights to HDF5\n",
        "model.save_weights(\"word2vec_LSTM_model.h5\")\n",
        "print(\"Saved model to \")\n"
      ],
      "execution_count": null,
      "outputs": [
        {
          "output_type": "stream",
          "text": [
            "Saved model to \n"
          ],
          "name": "stdout"
        }
      ]
    },
    {
      "cell_type": "code",
      "metadata": {
        "id": "DCmBnLApx12g",
        "colab_type": "code",
        "colab": {}
      },
      "source": [
        "def validate_seed(vocabulary, seed):\n",
        "    \"\"\"Validate that all the words in the seed are part of the vocabulary\"\"\"\n",
        "    print(\"\\nValidating that all the words in the seed are part of the vocabulary: \")\n",
        "    seed_words = seed\n",
        "    valid = True\n",
        "    for w in seed_words:\n",
        "        print(w, end=\"\")\n",
        "        if w in vocabulary:\n",
        "            print(\" ✓ in vocabulary\")\n",
        "        else:\n",
        "            print(\" ✗ NOT in vocabulary\")\n",
        "            valid = False\n",
        "    return valid\n"
      ],
      "execution_count": null,
      "outputs": []
    },
    {
      "cell_type": "code",
      "metadata": {
        "id": "rP9O3kgaukX-",
        "colab_type": "code",
        "colab": {
          "base_uri": "https://localhost:8080/",
          "height": 301
        },
        "outputId": "a7661430-fc6c-4627-dfab-9bbe91b87cc1"
      },
      "source": [
        "#generate lyrics with a seed:\n",
        "seed = ['hi', 'angel', 'sun', 'love', 'girl', 'when', 'boy', 'that', 'sky', 'today', 'why', 'in', 'no']\n",
        "validate_seed(w2v_model.wv.vocab, [w for w in seed])"
      ],
      "execution_count": null,
      "outputs": [
        {
          "output_type": "stream",
          "text": [
            "\n",
            "Validating that all the words in the seed are part of the vocabulary: \n",
            "hi ✓ in vocabulary\n",
            "angel ✓ in vocabulary\n",
            "sun ✓ in vocabulary\n",
            "love ✓ in vocabulary\n",
            "girl ✓ in vocabulary\n",
            "when ✓ in vocabulary\n",
            "boy ✓ in vocabulary\n",
            "that ✓ in vocabulary\n",
            "sky ✓ in vocabulary\n",
            "today ✓ in vocabulary\n",
            "why ✓ in vocabulary\n",
            "in ✓ in vocabulary\n",
            "no ✓ in vocabulary\n"
          ],
          "name": "stdout"
        },
        {
          "output_type": "execute_result",
          "data": {
            "text/plain": [
              "True"
            ]
          },
          "metadata": {
            "tags": []
          },
          "execution_count": 51
        }
      ]
    },
    {
      "cell_type": "code",
      "metadata": {
        "id": "MCOl-QTu3-Jd",
        "colab_type": "code",
        "colab": {}
      },
      "source": [
        "def generate_lyrics(text, num_generated):\n",
        "  word_idxs = [word2idx(word) for word in text.lower().split()]\n",
        "  for i in range(num_generated):\n",
        "    prediction = model.predict(x=word_idxs)[0]\n",
        "    idx = sample(prediction, temperature=0.7)\n",
        "    word_idxs.append(idx)\n",
        "  return ' '.join(idx2word(idx) for idx in word_idxs)"
      ],
      "execution_count": null,
      "outputs": []
    },
    {
      "cell_type": "code",
      "metadata": {
        "id": "kAOyyoH4zUzD",
        "colab_type": "code",
        "colab": {
          "base_uri": "https://localhost:8080/",
          "height": 247
        },
        "outputId": "e823f661-f248-400f-c708-743749458b6f"
      },
      "source": [
        "from random import randint\n",
        "\n",
        "lyrics = []\n",
        "for i in range(len(seed)): \n",
        "    x=generate_lyrics(seed[i] , randint(5,15))\n",
        "    lyrics.append(x)\n",
        "    lyrics = list(lyrics)\n",
        "lyrics"
      ],
      "execution_count": null,
      "outputs": [
        {
          "output_type": "execute_result",
          "data": {
            "text/plain": [
              "['hi murked kickback murked murked permanent murked murked murked intimidated intimidated',\n",
              " 'angel to chanel to superman to drop keep everything respect crack order',\n",
              " 'sun ha open knot grin connect open ha cellular ha ha ha devise',\n",
              " 'love life curtains life meeks life curb life lucci life luminati life gangland life jacks',\n",
              " 'girl salad hot truth ooh ruggedness',\n",
              " 'when dine shaq february armor i february hilfiger judas shes pill aliens',\n",
              " 'boy letterman barking trigga ow blasts skates bullish smirk hah perignon',\n",
              " 'that what jack lean what toasters pump mine deal paranoid what',\n",
              " 'sky peek im hook transactions brawl malcolm im im im im im speaker terrace im',\n",
              " 'today yard yard drinking yard files yard yard guilty yard yard files yard yard',\n",
              " 'why by blue recoup damaged late',\n",
              " 'in gun gun gun gun gun gun gun gun gun gun gun',\n",
              " 'no flop secretary icy legitimate glistening damn supportive gunship dope cheap fouls dope twentyone']"
            ]
          },
          "metadata": {
            "tags": []
          },
          "execution_count": 108
        }
      ]
    },
    {
      "cell_type": "code",
      "metadata": {
        "id": "qc-3MRklPkpG",
        "colab_type": "code",
        "colab": {
          "base_uri": "https://localhost:8080/",
          "height": 294
        },
        "outputId": "38337fd4-302d-42b9-93a3-0e619595c727"
      },
      "source": [
        "plt.plot(his.history['loss'])\n",
        "plt.xlabel(\"Epoches\")\n",
        "plt.ylabel(\"Loss\")\n",
        "plt.title('Historical Loss Score')\n",
        "plt.show()"
      ],
      "execution_count": null,
      "outputs": [
        {
          "output_type": "display_data",
          "data": {
            "image/png": "[encoded data removed]",
            "text/plain": [
              "<Figure size 432x288 with 1 Axes>"
            ]
          },
          "metadata": {
            "tags": [],
            "needs_background": "light"
          }
        }
      ]
    },
    {
      "cell_type": "code",
      "metadata": {
        "id": "iy0R9zvWQCzd",
        "colab_type": "code",
        "colab": {
          "base_uri": "https://localhost:8080/",
          "height": 294
        },
        "outputId": "f33c614b-787c-42d5-a03f-53969e9ac54e"
      },
      "source": [
        "plt.plot(his.history['accuracy'])\n",
        "plt.xlabel(\"Epoches\")\n",
        "plt.ylabel(\"Accuracy\")\n",
        "plt.title('Historical Accuracy Score')\n",
        "plt.show()"
      ],
      "execution_count": null,
      "outputs": [
        {
          "output_type": "display_data",
          "data": {
            "image/png": "[encoded data removed]",
            "text/plain": [
              "<Figure size 432x288 with 1 Axes>"
            ]
          },
          "metadata": {
            "tags": [],
            "needs_background": "light"
          }
        }
      ]
    },
    {
      "cell_type": "markdown",
      "metadata": {
        "id": "xPSp6HKT9hxw",
        "colab_type": "text"
      },
      "source": [
        ""
      ]
    },
    {
      "cell_type": "markdown",
      "metadata": {
        "colab_type": "text",
        "id": "Qtej5OHnUNG1"
      },
      "source": [
        "## Test the rhyme density"
      ]
    },
    {
      "cell_type": "code",
      "metadata": {
        "colab_type": "code",
        "id": "iddKIjfvUNG1",
        "scrolled": true,
        "colab": {
          "base_uri": "https://localhost:8080/",
          "height": 125
        },
        "outputId": "d726b24b-cef2-4970-9004-209e4ad08d0a"
      },
      "source": [
        "import codecs\n",
        "import re\n",
        "import numpy as np\n",
        "import os\n",
        "!pip install pyphonetics\n",
        "import pyphonetics as ph"
      ],
      "execution_count": null,
      "outputs": [
        {
          "output_type": "stream",
          "text": [
            "Collecting pyphonetics\n",
            "  Downloading https://files.pythonhosted.org/packages/bd/dd/a7d0a860efd3d4335d538b4361b8e9af8311f2aba2e8c7e4c7a47d623b6e/pyphonetics-0.5.3-py2.py3-none-any.whl\n",
            "Requirement already satisfied: unidecode<2,>=1 in /usr/local/lib/python3.6/dist-packages (from pyphonetics) (1.1.1)\n",
            "Installing collected packages: pyphonetics\n",
            "Successfully installed pyphonetics-0.5.3\n"
          ],
          "name": "stdout"
        }
      ]
    },
    {
      "cell_type": "code",
      "metadata": {
        "colab_type": "code",
        "id": "UYK1hMC4UNG5",
        "colab": {}
      },
      "source": [
        "\n",
        "class ph:\n",
        "\n",
        "    def is_vow(c, language='fi'):\n",
        "        '''\n",
        "        Is the given (lowercase) character a vowel or not.\n",
        "        '''\n",
        "        if language == 'fi': # Finnish\n",
        "            return c in u'aeiouyäöå'\n",
        "\n",
        "        elif len(language) >= 2 and language[:2] == 'en': # English\n",
        "            # In order to increase recall for the rhyme detection, we \n",
        "            # ignore the schwa vowel '@' as it can be rhymed with several\n",
        "            # different vowels. However, in BattleBot we do not ignore it\n",
        "            # in order to get a higher precision.\n",
        "            return c in u'3L5aAeEiI0VuUoO'\n",
        "\n",
        "        else:\n",
        "            raise Exception(\"Unknown language: %s\" % language)\n",
        "\n",
        "    def map_vow(c, language):\n",
        "        '''\n",
        "        Map vowel to a similar sounding vowel (only for English).\n",
        "        '''\n",
        "        # This list is somewhat arbitrary, so some native English speaker \n",
        "        # who knows about phonetics might be able to improve it.\n",
        "        vow_map = {\n",
        "                '0':'o',\n",
        "                'O':'o',\n",
        "                'I':'i',\n",
        "                'E':'e'\n",
        "                }\n",
        "        if len(language) >= 2 and language[:2] == 'en' and c in vow_map:\n",
        "            return vow_map[c]\n",
        "        else:\n",
        "            return c\n",
        "\n",
        "    def is_space(c):\n",
        "        '''\n",
        "        Is the given character a space or newline (other space characters are \n",
        "        cleaned in the preprocessing phase).\n",
        "        '''\n",
        "        return c==' ' or c=='\\n'\n",
        "\n",
        "    def get_phonetic_transcription(text, language='en-us', output_fname=None):\n",
        "        if output_fname is None:\n",
        "            fname2 = u'temp_transcription.txt'\n",
        "        else:\n",
        "            fname2 = output_fname\n",
        "\n",
        "        if output_fname is None or not os.path.exists(fname2):\n",
        "            print (\"Transcribing: %s\" % fname2)\n",
        "            fname = u'temp_lyrics.txt'\n",
        "            f = codecs.open(fname, 'w', 'utf8')\n",
        "            f.write(text)\n",
        "            f.close()\n",
        "\n",
        "            cmd = u'espeak -xq -v%s -f %s > %s' % (language, fname, fname2)\n",
        "            os.system(cmd)\n",
        "\n",
        "        f2 = codecs.open(fname2, 'r', 'utf8')\n",
        "        new_text = f2.read()\n",
        "\n",
        "        # Remove some unwanted stuff from the transcription\n",
        "        new_text = re.sub(\"_:'Ekskl@m,eIS@n_:\", \"\", new_text)\n",
        "        new_text = re.sub(\"'\", \"\", new_text)\n",
        "        new_text = re.sub(\",\", \"\", new_text)\n",
        "        return new_text"
      ],
      "execution_count": null,
      "outputs": []
    },
    {
      "cell_type": "code",
      "metadata": {
        "colab_type": "code",
        "id": "o4nwrxvMUNG9",
        "colab": {}
      },
      "source": [
        "class Lyrics:\n",
        "    '''\n",
        "    This class is used to store and preprocess rap lyrics and calculate\n",
        "    statistics like average rhyme length out of the lyrics.\n",
        "    '''\n",
        "\n",
        "    def __init__(self, filename=None, print_stats=False, text=None, \n",
        "                 language='fi', lookback=10):\n",
        "        '''\n",
        "        Lyrics can be read from the file (default) or passed directly\n",
        "        to this constructor.\n",
        "        '''\n",
        "        self.text_raw = None\n",
        "        # How many previous words are checked for a rhyme.\n",
        "        self.lookback = lookback\n",
        "        if filename is not None:\n",
        "            self.filename = filename\n",
        "            f = codecs.open(filename, 'r', 'utf8')\n",
        "            self.text_raw = f.read()\n",
        "            f.close()\n",
        "        elif text is not None:\n",
        "            self.text_raw = text\n",
        "            self.filename = 'No filename'\n",
        "        self.language = language\n",
        "\n",
        "        if self.text_raw is not None:\n",
        "            cleaning_ok = self.clean_text(self.text_raw)\n",
        "            self.compute_vowel_representation()\n",
        "            self.avg_rhyme_length, self.longest_rhyme = self.rhyme_stats()\n",
        "\n",
        "            if print_stats:\n",
        "                #self.print_song_stats_compact()\n",
        "                self.print_song_stats()\n",
        "\n",
        "    def clean_text(self, text):\n",
        "        '''\n",
        "        Preprocess text by removing unwanted characters and duplicate rows.\n",
        "        '''\n",
        "        if self.language == 'fi':\n",
        "            self.text = text.lower()\n",
        "            # Replace all but word characters and newlines by spaces\n",
        "            rx = re.compile(u'[^\\wåäö\\n]+')\n",
        "        else: # English\n",
        "            self.text = text\n",
        "            # For English we need to keep apostrophes since they affect the \n",
        "            # pronunciation\n",
        "            rx = re.compile(u\"[^\\wåÅäÄöÖéÉ'’\\.\\?!\\n]+\")\n",
        "\n",
        "        self.text = rx.sub(' ', self.text)\n",
        "        # If there are more than 2 consecutive newlines, remove some of them\n",
        "        # (just to make the cleaned text look prettier)\n",
        "        self.text = re.sub('\\n\\n+', '\\n\\n', self.text)\n",
        "        # Remove duplicate rows\n",
        "        self.lines = self.text.split('\\n')\n",
        "\n",
        "        uniq_lines = set()\n",
        "        new_text = ''\n",
        "        for l in self.lines:\n",
        "            l = l.strip()\n",
        "            if len(l) > 0 and l in uniq_lines:\n",
        "                continue\n",
        "            # Remove lines that are within brackets/parenthesis\n",
        "            if len(l) >= 2 and ((l[0]=='[' and l[-1]==']') or (l[0]=='(' and l[-1]==')')):\n",
        "                continue\n",
        "            uniq_lines.add(l)\n",
        "            if self.language == 'fi':\n",
        "                new_text += l + '\\n'\n",
        "            else: # English\n",
        "                # Add '.' to the end of line since otherwise the lines might be\n",
        "                # too long so that espeak won't transcribe the whole line\n",
        "                new_text += l + '.\\n'\n",
        "\n",
        "        self.text = new_text\n",
        "\n",
        "    def compute_vowel_representation(self):\n",
        "        '''\n",
        "        Compute a representation of the lyrics where only vowels are preserved.\n",
        "        '''\n",
        "        self.vow = [] # Lyrics with all but vowels removed\n",
        "        self.vow_idxs = [] # Indices of the vowels in self.text list\n",
        "        self.word_ends = [] # Indices of the last characters of each word\n",
        "        self.words = [] # List of words in the lyrics\n",
        "        self.line_idxs = []\n",
        "\n",
        "        if len(self.language) >= 2 and self.language[:2] == 'en':\n",
        "            self.text_orig = self.text\n",
        "            self.text = ph.get_phonetic_transcription(self.text, output_fname=self.filename+'.ipa')\n",
        "            self.word_ends_orig = []\n",
        "            self.words_orig = []\n",
        "\n",
        "        prev_space_idx = -1 # Index of the previous space char\n",
        "        line_idx = 0 # Line index of the current character\n",
        "        # Go through the lyrics char by char\n",
        "        for i in range(len(self.text)):\n",
        "            self.line_idxs.append(line_idx)\n",
        "            c = self.text[i]\n",
        "            c = ph.map_vow(c, self.language)\n",
        "            if ph.is_vow(c, self.language):\n",
        "                # Ignore double vowels\n",
        "                # (in English this applies probably only to 'aa' as in 'bath'\n",
        "                # which rhymes with 'trap' that has only 'a')\n",
        "                if i > 0 and self.text[i-1] == c:\n",
        "                    # Index of a double vowel points to the latter occurrence\n",
        "                    self.vow_idxs[-1] = i\n",
        "                    continue\n",
        "                # TODO Diftongs should not be split (i.e. \"price\" should\n",
        "                # not rhyme with \"trap kit\"). This has been fixed in BattleBot\n",
        "                self.vow.append(c)\n",
        "                self.vow_idxs.append(i)\n",
        "            elif ph.is_space(c):\n",
        "                if c in '\\n':\n",
        "                    line_idx += 1\n",
        "                elif c in '.!?' and i < len(self.text)-1 and self.text[i+1] != '\\n':\n",
        "                    line_idx += 1\n",
        "                # If previous char was not a space, we've encountered word end\n",
        "                if len(self.vow) > 0 and not ph.is_space(self.text[i-1]):\n",
        "                    # Put together the new word. Potential consonants in the \n",
        "                    # end are ignored\n",
        "                    new_word = self.text[prev_space_idx+1:self.vow_idxs[-1]+1]\n",
        "                    # Check that the new word contains at least one vowel\n",
        "                    no_vowels = True\n",
        "                    for c2 in new_word:\n",
        "                        if ph.is_vow(c2, self.language):\n",
        "                            no_vowels = False\n",
        "                            break\n",
        "                    if no_vowels:\n",
        "                        prev_space_idx = i\n",
        "                        continue\n",
        "                    self.word_ends.append(len(self.vow)-1)\n",
        "                    self.words.append(new_word)\n",
        "                prev_space_idx = i\n",
        "\n",
        "        if len(self.language) >= 2 and self.language[:2] == 'en':\n",
        "            self.lines_orig = self.text_orig.split('\\n')\n",
        "\n",
        "    def rhyme_length(self, wpos2):\n",
        "        '''\n",
        "        Length of rhyme (in vowels). The latter part of the rhyme ends with \n",
        "        word self.words[wpos2].\n",
        "        Input:\n",
        "            wpos2       Word index of the end of the rhyme.\n",
        "        '''\n",
        "        max_length = 0\n",
        "        max_wpos1 = None\n",
        "        wpos1 = max(0,wpos2-self.lookback)\n",
        "        while wpos1 < wpos2:\n",
        "            rl = self.rhyme_length_fixed(wpos1, wpos2)\n",
        "            if rl > max_length:\n",
        "                max_length = rl\n",
        "                max_wpos1 = wpos1\n",
        "            wpos1 += 1\n",
        "        return max_length, max_wpos1\n",
        "\n",
        "    def rhyme_length_fixed(self, wpos1, wpos2):\n",
        "        '''\n",
        "        Length of rhyme (in vowels). The first part of the rhyme ends with \n",
        "        self.words[wpos1] and the latter part with word self.words[wpos2].\n",
        "        Input:\n",
        "            wpos1       Word index of the last word in the first part of the rhyme.\n",
        "            wpos2       Word index of the end of the rhyme.\n",
        "        '''\n",
        "        if wpos1 < 0: # Don't wrap\n",
        "            return 0\n",
        "        elif self.words[wpos1] == self.words[wpos2]:\n",
        "            return 0\n",
        "        # Indices in the vowel list\n",
        "        p1 = self.word_ends[wpos1]\n",
        "        p2 = self.word_ends[wpos2]\n",
        "        l = 0\n",
        "        while self.vow[p1-l] == self.vow[p2-l]:\n",
        "            # Make sure that exactly same words are not used\n",
        "            if wpos1 > 0 and p1-l <= self.word_ends[wpos1-1] and wpos2 > 0 and p2-l <= self.word_ends[wpos2-1]:\n",
        "                # Get the first and last character indices of the words surrounding the vowels at p1-l and p2-l\n",
        "                prev_s1 = self.vow_idxs[p1-l]\n",
        "                while prev_s1 > 0 and not ph.is_space(self.text[prev_s1-1]):\n",
        "                    prev_s1 -= 1\n",
        "                prev_s2 = self.vow_idxs[p2-l]\n",
        "                while prev_s2 > 0 and not ph.is_space(self.text[prev_s2-1]):\n",
        "                    prev_s2 -= 1\n",
        "                next_s1 = self.vow_idxs[p1-l]\n",
        "                while next_s1 < len(self.text)-1 and not ph.is_space(self.text[next_s1+1]):\n",
        "                    next_s1 += 1\n",
        "                next_s2 = self.vow_idxs[p2-l]\n",
        "                while next_s2 < len(self.text)-1 and not ph.is_space(self.text[next_s2+1]):\n",
        "                    next_s2 += 1\n",
        "                if next_s1-prev_s1 == next_s2-prev_s2 and self.text[prev_s1:next_s1+1] ==  self.text[prev_s2:next_s2+1]:\n",
        "                    break\n",
        "\n",
        "            l += 1\n",
        "            if p1-l < 0 or p2-l <= p1:\n",
        "                break\n",
        "        # Ignore rhymes with length 1\n",
        "        if l == 1:\n",
        "            l = 0\n",
        "        return l\n",
        "\n",
        "    def rhyme_stats(self):\n",
        "        '''\n",
        "        Compute the average rhyme length of the song and the longest rhyme.\n",
        "        Output:\n",
        "            Average rhyme length (float)\n",
        "            Longest rhyme which is a 3-tuple with: \n",
        "                (length, word index of the first part of the rhyme,\n",
        "                         word index of the latter part of the rhyme)\n",
        "        '''\n",
        "        # Rhyme length of each word\n",
        "        rls = []\n",
        "        # Keep track of the longest rhyme\n",
        "        max_rhyme = (0,None,None)\n",
        "        for wpos2 in range(1,len(self.word_ends)):\n",
        "            (rl, wpos1) = self.rhyme_length(wpos2)\n",
        "            rls.append(rl)\n",
        "            if rl > max_rhyme[0]:\n",
        "                max_rhyme = (rl, wpos1, wpos2)\n",
        "        rls = np.array(rls)\n",
        "        # Average rhyme length of the song\n",
        "        if len(rls) > 0:\n",
        "            avg_rl = np.mean(rls)\n",
        "        else:\n",
        "            avg_rl = 0\n",
        "        return avg_rl, max_rhyme\n",
        "\n",
        "    def get_avg_rhyme_length(self):\n",
        "        return self.avg_rhyme_length\n",
        "\n",
        "    def print_song_stats(self):\n",
        "        print ('------------------------------------------')\n",
        "        print (\"%s\\n\" % self.filename)\n",
        "\n",
        "        print (\"Avg rhyme length: %.3f\\n\" % self.avg_rhyme_length)\n",
        "\n",
        "        self.print_rhyme(self.longest_rhyme)\n",
        "        print\n",
        "        #print '------------------------------------------'\n",
        "\n",
        "    def print_song_stats_compact(self):\n",
        "        print (\"%.3f  %s\" % (self.avg_rhyme_length, self.filename))\n",
        "\n",
        "    def print_rhyme(self, rhyme_tuple):\n",
        "        print (self.get_rhyme_str(rhyme_tuple))\n",
        "\n",
        "    def get_rhyme_str(self, rhyme_tuple):\n",
        "        '''\n",
        "        Construct a string of a given rhyme tuple.\n",
        "        '''\n",
        "        ret = ''\n",
        "        rl, wpos1, wpos2 = rhyme_tuple\n",
        "        if wpos1 is None or wpos2 is None:\n",
        "            return ''\n",
        "        p2 = self.vow_idxs[self.word_ends[wpos2]]\n",
        "        p2_orig = p2\n",
        "        # Find the ending of the last word\n",
        "        while not ph.is_space(self.text[p2]):\n",
        "            p2 += 1\n",
        "        p0 = self.vow_idxs[self.word_ends[wpos1]-rl]\n",
        "        p0_orig = p0\n",
        "        # Find the beginning of the line\n",
        "        while self.text[p0] != '\\n' and p0 > 0:\n",
        "            p0 -= 1\n",
        "\n",
        "        cap_line = ''\n",
        "        rw1, rw2 = self.get_rhyming_vowels(rhyme_tuple)\n",
        "        for i in range(p0,p2+1):\n",
        "            if self.language == 'fi':\n",
        "                if i in rw1 or i in rw2:\n",
        "                    cap_line += self.text[i].capitalize()\n",
        "                else:\n",
        "                    cap_line += self.text[i]\n",
        "            else:\n",
        "                if i == min(rw1) or i == min(rw2):\n",
        "                    cap_line += ' | ' + self.text[i]\n",
        "                elif i == max(rw1) or i == max(rw2):\n",
        "                    cap_line += self.text[i] + '|'\n",
        "                else:\n",
        "                    cap_line += self.text[i]\n",
        "        ret += \"Longest rhyme (l=%d): %s\\n\" % (rl, cap_line)\n",
        "        if self.language != 'fi':\n",
        "            # Get the corresponding lines from the original lyrics\n",
        "            line_beg = self.line_idxs[p0]\n",
        "            line_end = self.line_idxs[p2]\n",
        "            for i in range(line_beg, line_end+1):\n",
        "                if i < len(self.lines_orig):\n",
        "                    ret += self.lines_orig[i] + '\\n'\n",
        "        return ret\n",
        "\n",
        "    def get_longest_rhyme(self):\n",
        "        rhyme_str = self.get_rhyme_str(self.longest_rhyme)\n",
        "        rhyme_str += self.filename + '\\n'\n",
        "        return self.longest_rhyme[0], rhyme_str\n",
        "\n",
        "    def get_rhyming_vowels(self, rhyme_tuple):\n",
        "        '''\n",
        "        Return the indices of the rhyming vowels of the longest rhyme.\n",
        "        Output:\n",
        "            Tuple with the indices of the first part and the second part of\n",
        "            the rhyme separately.\n",
        "        '''\n",
        "        rl, wpos1, wpos2 = rhyme_tuple\n",
        "        if wpos1 is None or wpos2 is None:\n",
        "            return ([-1],[-1])\n",
        "\n",
        "        # The first part of the rhyme\n",
        "        rhyme_idxs1 = [] # Indices of the rhyming vowels\n",
        "        n_caps = 0\n",
        "        p = self.vow_idxs[self.word_ends[wpos1]]\n",
        "        while n_caps < rl:\n",
        "            if ph.is_vow(self.text[p], self.language):\n",
        "                rhyme_idxs1.append(p)\n",
        "                # Increase the counter only if the vowel is not a double vowel\n",
        "                if self.text[p] != self.text[p+1]:\n",
        "                    n_caps += 1\n",
        "            p -= 1\n",
        "\n",
        "        # The second part of the rhyme\n",
        "        rhyme_idxs2 = [] # Indices of the rhyming vowels\n",
        "        n_caps = 0\n",
        "        p = self.vow_idxs[self.word_ends[wpos2]]\n",
        "        p_last = p\n",
        "        while n_caps < rl:\n",
        "            if ph.is_vow(self.text[p], self.language):\n",
        "                rhyme_idxs2.append(p)\n",
        "                # Increase the counter only if the vowel is not a double vowel.\n",
        "                # The last vowel must be always counted.\n",
        "                if p == p_last or self.text[p] != self.text[p+1]:\n",
        "                    n_caps += 1\n",
        "            p -= 1\n",
        "\n",
        "        return (rhyme_idxs1, rhyme_idxs2)"
      ],
      "execution_count": null,
      "outputs": []
    },
    {
      "cell_type": "code",
      "metadata": {
        "id": "yP-eyp6XusFi",
        "colab_type": "code",
        "colab": {}
      },
      "source": [
        "with open('lyric.txt', 'w') as file:\n",
        "\n",
        "    for item in lyrics:\n",
        "        file.write('%s\\n' %item)\n",
        "        \n",
        "        "
      ],
      "execution_count": null,
      "outputs": []
    },
    {
      "cell_type": "code",
      "metadata": {
        "id": "T8t8elMdDLCf",
        "colab_type": "code",
        "colab": {
          "base_uri": "https://localhost:8080/",
          "height": 34
        },
        "outputId": "59ebc2c0-9e3c-4428-ca43-dd0595f9363a"
      },
      "source": [
        "x=Lyrics(\"lyric.txt\")\n",
        "x.get_avg_rhyme_length()"
      ],
      "execution_count": null,
      "outputs": [
        {
          "output_type": "execute_result",
          "data": {
            "text/plain": [
              "0.5629139072847682"
            ]
          },
          "metadata": {
            "tags": []
          },
          "execution_count": 110
        }
      ]
    }
  ]
}