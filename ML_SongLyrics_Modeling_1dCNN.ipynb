{
 "cells": [
  {
   "cell_type": "markdown",
   "metadata": {},
   "source": [
    "# Resources:\n",
    "- https://keras.io/examples/lstm_text_generation/\n",
    "- \"Temperature\" - http://karpathy.github.io/2015/05/21/rnn-effectiveness/\n",
    "- "
   ]
  },
  {
   "cell_type": "code",
   "execution_count": 109,
   "metadata": {},
   "outputs": [],
   "source": [
    "CPUS = 7"
   ]
  },
  {
   "cell_type": "code",
   "execution_count": 2,
   "metadata": {},
   "outputs": [
    {
     "name": "stderr",
     "output_type": "stream",
     "text": [
      "C:\\Users\\pnbutler\\Anaconda3\\lib\\site-packages\\nltk\\decorators.py:68: DeprecationWarning: `formatargspec` is deprecated since Python 3.5. Use `signature` and the `Signature` object directly\n",
      "  regargs, varargs, varkwargs, defaults, formatvalue=lambda value: \"\"\n",
      "C:\\Users\\pnbutler\\Anaconda3\\lib\\site-packages\\nltk\\lm\\counter.py:15: DeprecationWarning: Using or importing the ABCs from 'collections' instead of from 'collections.abc' is deprecated since Python 3.3,and in 3.9 it will stop working\n",
      "  from collections import Sequence, defaultdict\n"
     ]
    }
   ],
   "source": [
    "# ignore warnings\n",
    "import warnings\n",
    "warnings.filterwarnings(\"ignore\",category=DeprecationWarning)\n",
    "\n",
    "# Data Packages\n",
    "import pickle\n",
    "import pandas as pd\n",
    "import numpy as np\n",
    "import itertools\n",
    "from collections import OrderedDict\n",
    "pd.set_option('display.max_colwidth', 100)\n",
    "# pd.set_option('display.max_colwidth', -1)\n",
    "\n",
    "# General packages\n",
    "import time\n",
    "import math\n",
    "import random\n",
    "from pprint import pprint\n",
    "\n",
    "# System and OS\n",
    "import os\n",
    "import pathlib\n",
    "import glob\n",
    "import time\n",
    "\n",
    "# Parsing\n",
    "import json\n",
    "import optparse\n",
    "\n",
    "\n",
    "# NLP Packages\n",
    "\n",
    "# regex\n",
    "import re\n",
    "\n",
    "# Gensim\n",
    "import gensim\n",
    "# import gensim.corpora as corpora\n",
    "from gensim.utils import simple_preprocess\n",
    "from gensim.models import CoherenceModel\n",
    "from gensim import corpora, models\n",
    "from gensim.models.ldamulticore import LdaMulticore\n",
    "import pyLDAvis.gensim\n",
    "from gensim.test.utils import datapath\n",
    "from gensim.models import Word2Vec \n",
    "\n",
    "# SpaCy\n",
    "import spacy\n",
    "\n",
    "# Plotting tools\n",
    "import pyLDAvis\n",
    "import pyLDAvis.gensim\n",
    "import seaborn as sns\n",
    "import matplotlib.pyplot as plt\n",
    "%matplotlib inline\n",
    "\n",
    "# Enable logging for gensim - optional\n",
    "import logging\n",
    "logging.basicConfig(format='%(asctime)s : %(levelname)s : %(message)s', level=logging.ERROR)\n",
    "\n",
    "# NLTK\n",
    "import nltk as nltk\n",
    "from nltk.corpus import stopwords\n",
    "from nltk.stem.wordnet import WordNetLemmatizer\n",
    "import nltk.corpus  \n",
    "from nltk.text import Text\n",
    "\n",
    "# string, textblob\n",
    "from textblob import TextBlob\n",
    "import string\n",
    "\n",
    "# Tensorflow and Keras\n",
    "# import tensorflow as tf\n",
    "import keras\n",
    "from keras.callbacks import TensorBoard\n",
    "from keras.models import Sequential, load_model\n",
    "from keras.layers import LSTM, Dense, Dropout, SimpleRNN\n",
    "from keras.layers.embeddings import Embedding\n",
    "from keras.preprocessing import sequence\n",
    "from keras.preprocessing.text import Tokenizer"
   ]
  },
  {
   "cell_type": "code",
   "execution_count": 3,
   "metadata": {},
   "outputs": [
    {
     "name": "stdout",
     "output_type": "stream",
     "text": [
      "The process took 3.8000000003535206e-05 seconds\n"
     ]
    }
   ],
   "source": [
    "# Time operation\n",
    "\n",
    "# time the process\n",
    "tic = time.perf_counter()\n",
    "\n",
    "# do something\n",
    "\n",
    "# time the process\n",
    "toc = time.perf_counter()\n",
    "print(\"The process took {} seconds\".format(toc - tic))"
   ]
  },
  {
   "cell_type": "code",
   "execution_count": 4,
   "metadata": {},
   "outputs": [],
   "source": [
    "def save_to_pickle(obj, file_name):\n",
    "    with open(file_name, 'wb') as f:\n",
    "        pickle.dump(obj, f)\n",
    "    f.close()\n",
    "\n",
    "def open_pickle(filename):\n",
    "    with open(filename, 'rb') as f:\n",
    "        obj = pickle.load(f)\n",
    "    return obj"
   ]
  },
  {
   "cell_type": "code",
   "execution_count": 5,
   "metadata": {
    "scrolled": true
   },
   "outputs": [
    {
     "data": {
      "text/plain": [
       "'C:\\\\Users\\\\pnbutler\\\\Documents\\\\MSCA\\\\ML\\\\Project\\\\Datasets\\\\pickle files'"
      ]
     },
     "execution_count": 5,
     "metadata": {},
     "output_type": "execute_result"
    }
   ],
   "source": [
    "# from google.colab import drive\n",
    "# drive.mount('/content/drive', force_remount=True)\n",
    "\n",
    "# # navigate to directory with pickle file\\\n",
    "# DATA_PATH = \"/content/drive/My Drive/NLP_fp\"\n",
    "PKL_DATA_PATH = r\"C:\\Users\\pnbutler\\Documents\\MSCA\\ML\\Project\\Datasets\\pickle files\"\n",
    "MODEL_DATA_PATH = r\"C:\\Users\\pnbutler\\Documents\\MSCA\\ML\\Project\\Models\"\n",
    "FILE_NAME = r\"df_14642.pkl\"\n",
    "os.chdir(PKL_DATA_PATH)\n",
    "os.getcwd()"
   ]
  },
  {
   "cell_type": "code",
   "execution_count": 6,
   "metadata": {},
   "outputs": [],
   "source": [
    "df = open_pickle(FILE_NAME)"
   ]
  },
  {
   "cell_type": "code",
   "execution_count": 7,
   "metadata": {},
   "outputs": [
    {
     "data": {
      "text/plain": [
       "'C:\\\\Users\\\\pnbutler\\\\Documents\\\\MSCA\\\\ML\\\\Project\\\\Models'"
      ]
     },
     "execution_count": 7,
     "metadata": {},
     "output_type": "execute_result"
    }
   ],
   "source": [
    "# change to model path to save files\n",
    "os.chdir(MODEL_DATA_PATH)\n",
    "os.getcwd()"
   ]
  },
  {
   "cell_type": "code",
   "execution_count": 8,
   "metadata": {},
   "outputs": [
    {
     "data": {
      "text/html": [
       "<div>\n",
       "<style scoped>\n",
       "    .dataframe tbody tr th:only-of-type {\n",
       "        vertical-align: middle;\n",
       "    }\n",
       "\n",
       "    .dataframe tbody tr th {\n",
       "        vertical-align: top;\n",
       "    }\n",
       "\n",
       "    .dataframe thead th {\n",
       "        text-align: right;\n",
       "    }\n",
       "</style>\n",
       "<table border=\"1\" class=\"dataframe\">\n",
       "  <thead>\n",
       "    <tr style=\"text-align: right;\">\n",
       "      <th></th>\n",
       "      <th>Artist</th>\n",
       "      <th>Title</th>\n",
       "      <th>Tagged_lyrics</th>\n",
       "      <th>Verse_Lines</th>\n",
       "      <th>Verses</th>\n",
       "      <th>Chorus</th>\n",
       "      <th>Song_structure</th>\n",
       "    </tr>\n",
       "  </thead>\n",
       "  <tbody>\n",
       "    <tr>\n",
       "      <th>2502</th>\n",
       "      <td>Chief Keef</td>\n",
       "      <td>Black Ops</td>\n",
       "      <td>[(Hook, I keep that hot shit like a Tea pot OG stuffed in a cookie jar Pull up, boy you better h...</td>\n",
       "      <td>[[10, 20, 30, Bullets flying like birdy, I'm a Chiraq warrior, and I'm balling like I'm Curry, I...</td>\n",
       "      <td>[10, 20, 30, Bullets flying like birdy I'm a Chiraq warrior, and I'm balling like I'm Curry If y...</td>\n",
       "      <td>[I keep that hot shit like a Tea pot OG stuffed in a cookie jar Pull up, boy you better have the...</td>\n",
       "      <td>[Hook, Verse, Hook, Verse, Hook]</td>\n",
       "    </tr>\n",
       "  </tbody>\n",
       "</table>\n",
       "</div>"
      ],
      "text/plain": [
       "          Artist      Title  \\\n",
       "2502  Chief Keef  Black Ops   \n",
       "\n",
       "                                                                                            Tagged_lyrics  \\\n",
       "2502  [(Hook, I keep that hot shit like a Tea pot OG stuffed in a cookie jar Pull up, boy you better h...   \n",
       "\n",
       "                                                                                              Verse_Lines  \\\n",
       "2502  [[10, 20, 30, Bullets flying like birdy, I'm a Chiraq warrior, and I'm balling like I'm Curry, I...   \n",
       "\n",
       "                                                                                                   Verses  \\\n",
       "2502  [10, 20, 30, Bullets flying like birdy I'm a Chiraq warrior, and I'm balling like I'm Curry If y...   \n",
       "\n",
       "                                                                                                   Chorus  \\\n",
       "2502  [I keep that hot shit like a Tea pot OG stuffed in a cookie jar Pull up, boy you better have the...   \n",
       "\n",
       "                        Song_structure  \n",
       "2502  [Hook, Verse, Hook, Verse, Hook]  "
      ]
     },
     "execution_count": 8,
     "metadata": {},
     "output_type": "execute_result"
    }
   ],
   "source": [
    "df.sample()"
   ]
  },
  {
   "cell_type": "code",
   "execution_count": 9,
   "metadata": {},
   "outputs": [
    {
     "name": "stdout",
     "output_type": "stream",
     "text": [
      "248 artists\n"
     ]
    }
   ],
   "source": [
    "print(\"{} artists\".format(len(df.Artist.unique())))"
   ]
  },
  {
   "cell_type": "code",
   "execution_count": 10,
   "metadata": {},
   "outputs": [],
   "source": [
    "artists_to_drop = [\n",
    "    \"Nicole Scherzinger\",\n",
    "    \"Niykee Heaton\",\n",
    "    \"Nicole Scherzinger\",\n",
    "    \"Niykee Heaton\",\n",
    "    \"Bebe Rexha\",\n",
    "    \"Ciara\",\n",
    "    \"Demi Lovato\",\n",
    "    \"David Guetta\",\n",
    "    \"Ed Sheeran\",\n",
    "    \"Jake Paul\",\n",
    "    \"Jennifer Lopez\",\n",
    "    \"JoJo\",\n",
    "    \"Joe Budden\",\n",
    "    \"Keri Hilson\",\n",
    "    \"Knoc-turn’al\",\n",
    "    \"Lauryn Hill\",\n",
    "    \"ONHEL\",\n",
    "    \"Queen Latifah\",\n",
    "    \"Sean Kingston\",\n",
    "    \"Shakira\",\n",
    "    \"Selena Gomez\",\n",
    "    \"Teairra Marí\",\n",
    "    \"Tove Lo\",\n",
    "    \"will.i.am\",\n",
    "    \"Cassie\",\n",
    "    \"Chris Brown\"\n",
    "]"
   ]
  },
  {
   "cell_type": "code",
   "execution_count": 11,
   "metadata": {},
   "outputs": [],
   "source": [
    "df = df[~df.Artist.isin(artists_to_drop)]"
   ]
  },
  {
   "cell_type": "code",
   "execution_count": 12,
   "metadata": {},
   "outputs": [
    {
     "name": "stdout",
     "output_type": "stream",
     "text": [
      "224 artists\n"
     ]
    }
   ],
   "source": [
    "print(\"{} artists\".format(len(df.Artist.unique())))"
   ]
  },
  {
   "cell_type": "code",
   "execution_count": 13,
   "metadata": {},
   "outputs": [
    {
     "name": "stdout",
     "output_type": "stream",
     "text": [
      "03 Greedo\n",
      "2 Chainz\n",
      "21 Savage & Metro Boomin\n",
      "21 Savage\n",
      "21 Savage, Offset & Metro Boomin\n",
      "2Pac\n",
      "50 Cent\n",
      "6ix9ine\n",
      "A Boogie wit da Hoodie\n",
      "A Tribe Called Quest\n",
      "A$AP Ferg\n",
      "A$AP Mob\n",
      "A$AP Rocky\n",
      "Ace Hood\n",
      "Akon\n",
      "Avant\n",
      "B.G. (Baby Gangsta)\n",
      "B.G. Knocc Out\n",
      "Bazzi\n",
      "Big K.R.I.T.\n",
      "Big L\n",
      "Big Sean\n",
      "Birdman & Lil Wayne\n",
      "Birdman\n",
      "blackbear\n",
      "Bone Thugs-N-Harmony\n",
      "Bun B\n",
      "Busta Rhymes\n",
      "Cam’ron\n",
      "Cardi B\n",
      "Carnage\n",
      "Chance the Rapper\n",
      "Chief Keef\n",
      "Childish Gambino\n",
      "Clipse\n",
      "Curren$y\n",
      "D Savage\n",
      "David Banner\n",
      "Denzel Curry\n",
      "Desiigner\n",
      "Dizzee Rascal\n",
      "DJ Drama\n",
      "DJ Khaled\n",
      "DJ Scream\n",
      "DJ Snake & Sheck Wes\n",
      "DJ Wich\n",
      "DMX\n",
      "Don Toliver\n",
      "Dr. Dre\n",
      "Drake & Future\n",
      "Drake & Michael Jackson\n",
      "Drake\n",
      "Drake, Kanye West, Lil Wayne & Eminem\n",
      "Drakeo the Ruler\n",
      "Eminem\n",
      "Enrique Iglesias\n",
      "Eric B. & Rakim\n",
      "Euro\n",
      "Famous Dex\n",
      "Fat Joe\n",
      "French Montana\n",
      "Future\n",
      "G-Unit\n",
      "Glasses Malone\n",
      "Grandmaster Flash & The Furious Five\n",
      "Gucci Mane & Anuel AA\n",
      "Gucci Mane & Nicki Minaj\n",
      "Gucci Mane & Waka Flocka Flame\n",
      "Gucci Mane\n",
      "Gucci Mane, Bruno Mars & Kodak Black\n",
      "Gunna\n",
      "Hopsin\n",
      "Ice Cube\n",
      "J. Cole\n",
      "Ja Rule\n",
      "Jadakiss\n",
      "Jay Rock\n",
      "Jay Sean\n",
      "JAY-Z & T.I.\n",
      "JAY-Z\n",
      "Jeezy\n",
      "Jeremih\n",
      "Juicy J\n",
      "Juicy J, Wiz Khalifa & TM88\n",
      "Justin Bieber\n",
      "Justin Timberlake\n",
      "Juvenile\n",
      "Kano\n",
      "Kanye West\n",
      "Kanye West, Gucci Mane, Big Sean, 2 Chainz, Travis Scott, Yo Gotti, Quavo & Desiigner\n",
      "Kendrick Lamar\n",
      "Kevin Cossom\n",
      "Kevin Rudolf\n",
      "Key Glock\n",
      "Kid Cudi\n",
      "Kid Ink\n",
      "KIDS SEE GHOSTS\n",
      "Kodak Black\n",
      "Lil B\n",
      "Lil Baby\n",
      "Lil Baby, Gunna & Drake\n",
      "Lil Durk\n",
      "Lil Keed\n",
      "Lil Pump\n",
      "Lil Reese\n",
      "Lil Uzi Vert\n",
      "Lil Wayne & Charlie Puth\n",
      "Lil Wayne & Juelz Santana\n",
      "Lil Wayne\n",
      "Lil Wayne, Wiz Khalifa, Imagine Dragons, Logic & Ty Dolla $ign\n",
      "Lil Yachty & DaBaby\n",
      "Lil Yachty\n",
      "Lloyd\n",
      "Logic\n",
      "Ludacris\n",
      "Machine Gun Kelly\n",
      "Majid Jordan\n",
      "Mali Smith & Matthew Ali\n",
      "Mann\n",
      "Master P\n",
      "Meek Mill\n",
      "Metro Boomin\n",
      "Migos & Marshmello\n",
      "Migos\n",
      "Migos, Nicki Minaj & Cardi B\n",
      "Mike Jones\n",
      "Mike Posner\n",
      "Mike WiLL Made-It\n",
      "Mobb Deep\n",
      "Moneybagg Yo\n",
      "Mustard & Migos\n",
      "N.W.A\n",
      "Nas\n",
      "Naughty Boy\n",
      "NAV\n",
      "Nelly\n",
      "Nicki Minaj & Lil Wayne\n",
      "Nicki Minaj\n",
      "Nicki Minaj, Drake & Lil Wayne\n",
      "NoCap\n",
      "Offset\n",
      "OJ da Juiceman\n",
      "Omarion\n",
      "Onyx\n",
      "OutKast\n",
      "Paris Hilton\n",
      "PARTYNEXTDOOR\n",
      "Paul Wall\n",
      "Playaz Circle\n",
      "Playboi Carti\n",
      "Porcelain Black\n",
      "Post Malone\n",
      "Public Enemy\n",
      "Quality Control & Migos\n",
      "Quando Rondo\n",
      "Quavo\n",
      "R. Kelly\n",
      "Rae Sremmurd\n",
      "Rich Gang\n",
      "Rich Homie Quan\n",
      "Rick Ross\n",
      "RiFF RAFF\n",
      "Rod Wave\n",
      "Run-D.M.C.\n",
      "Russ\n",
      "ScHoolboy Q\n",
      "Scooter\n",
      "Sevyn Streeter\n",
      "Shanell\n",
      "Sharam\n",
      "Sheck Wes\n",
      "Slim Thug\n",
      "Snoop Dogg\n",
      "Snoop Lion\n",
      "Soulja Boy Tell ’Em\n",
      "Souls of Mischief\n",
      "Sugarhill Gang\n",
      "Summer Walker & Drake\n",
      "Swae Lee\n",
      "T-Pain\n",
      "T.I.\n",
      "Takeoff\n",
      "Tee Grizzley\n",
      "The Alchemist\n",
      "The Game\n",
      "The Notorious B.I.G.\n",
      "The Pharcyde\n",
      "THE SCOTTS\n",
      "Three 6 Mafia\n",
      "Timbaland\n",
      "Tony Yayo\n",
      "Travis Scott\n",
      "Trey Songz\n",
      "Trick Daddy\n",
      "Trippie Redd\n",
      "Trouble\n",
      "Ty Dolla $ign\n",
      "Tyga\n",
      "UGK\n",
      "Ugly God\n",
      "Usher\n",
      "Vince Staples\n",
      "Waka Flocka Flame\n",
      "Wale\n",
      "Wiz Khalifa & Iggy Azalea\n",
      "Wiz Khalifa\n",
      "Wizkid\n",
      "Wu-Tang Clan\n",
      "XXXTENTACION\n",
      "Yelawolf\n",
      "Yella Beezy\n",
      "Yella Beezy, Quavo, & Gucci Mane\n",
      "YFN Lucci\n",
      "YG\n",
      "YK Osiris\n",
      "Yo Gotti\n",
      "Young Dro\n",
      "Young Money\n",
      "Young Nudy\n",
      "Young Thug\n",
      "Young Thug, 2 Chainz, Wiz Khalifa & PnB Rock\n",
      "YoungBloodZ (hip hop)\n",
      "YoungBoy Never Broke Again\n",
      "Yung Bans\n"
     ]
    }
   ],
   "source": [
    "for i in df.Artist.unique():\n",
    "    print(i)"
   ]
  },
  {
   "cell_type": "code",
   "execution_count": 14,
   "metadata": {},
   "outputs": [
    {
     "name": "stdout",
     "output_type": "stream",
     "text": [
      "14608 songs\n"
     ]
    }
   ],
   "source": [
    "print(\"{} songs\".format(len(df)))"
   ]
  },
  {
   "cell_type": "code",
   "execution_count": 15,
   "metadata": {
    "scrolled": true
   },
   "outputs": [
    {
     "name": "stdout",
     "output_type": "stream",
     "text": [
      "On averge, 65.2 songs per artist\n"
     ]
    }
   ],
   "source": [
    "print(\"On averge, {} songs per artist\".format(round(df.Artist.value_counts().values.mean(),ndigits=1)))"
   ]
  },
  {
   "cell_type": "code",
   "execution_count": 16,
   "metadata": {},
   "outputs": [],
   "source": [
    "verse_list = list(df.Verses)\n",
    "verse_list = list(itertools.chain.from_iterable(df[\"Verses\"]))"
   ]
  },
  {
   "cell_type": "code",
   "execution_count": 17,
   "metadata": {},
   "outputs": [
    {
     "name": "stdout",
     "output_type": "stream",
     "text": [
      "33180 verses\n"
     ]
    }
   ],
   "source": [
    "print(\"{} verses\".format(len(verse_list)))"
   ]
  },
  {
   "cell_type": "code",
   "execution_count": 18,
   "metadata": {},
   "outputs": [
    {
     "data": {
      "text/plain": [
       "[\"She ain't love me 'til she saw me shine Playin' with a nigga all this time You ain't love me 'til you saw me shine Playin' with a nigga all this time She wear a minute, now I'm on your mind Since I lost Lil Money I been on my grind Always been one hundred, never told her lies I can't let her go, I will never really know why Shay Shay you got my attention Sorry for times I went missing Have you heard 'bout whose lips I'm kissin' I understand why you keepin' your distance But I still love you And I never care who done fucked you Been in this game, I can't judge you, wave it above you That's what these lames do Know I done played you so I can't blame you But why you so playful? don't make me hate you I never fake and act like you wasn't there when I had nothing at the bottom Now I'm at the top, that's why anything that you ever wanted,  know you got it Sucker for love, fuck with a thug She ain't leave when I was broke and I was strung out on them drugs Stored at nothin' but under three purple heart Stored at nothin' but under three purple heart Stored at nothin' but under three Stored at nothin' but under three Now she fuck with 03, purple hearts, yeah Stored at nothin' but under three purple heart\"]"
      ]
     },
     "execution_count": 18,
     "metadata": {},
     "output_type": "execute_result"
    }
   ],
   "source": [
    "verse_list[:1]"
   ]
  },
  {
   "cell_type": "code",
   "execution_count": 19,
   "metadata": {},
   "outputs": [],
   "source": [
    "verse_line_list = list(itertools.chain.from_iterable(df[\"Verse_Lines\"]))\n",
    "verse_line_list = list(itertools.chain.from_iterable(verse_line_list))"
   ]
  },
  {
   "cell_type": "code",
   "execution_count": 20,
   "metadata": {},
   "outputs": [
    {
     "name": "stdout",
     "output_type": "stream",
     "text": [
      "555696 lines\n"
     ]
    }
   ],
   "source": [
    "print(\"{} lines\".format(len(verse_line_list)))"
   ]
  },
  {
   "cell_type": "code",
   "execution_count": 21,
   "metadata": {},
   "outputs": [
    {
     "data": {
      "text/plain": [
       "[\"She ain't love me 'til she saw me shine\"]"
      ]
     },
     "execution_count": 21,
     "metadata": {},
     "output_type": "execute_result"
    }
   ],
   "source": [
    "verse_line_list[:1]"
   ]
  },
  {
   "cell_type": "code",
   "execution_count": 22,
   "metadata": {},
   "outputs": [],
   "source": [
    "delimiter_ = \", \"\n",
    "word_list = delimiter_.join(verse_line_list)"
   ]
  },
  {
   "cell_type": "code",
   "execution_count": 23,
   "metadata": {},
   "outputs": [
    {
     "name": "stdout",
     "output_type": "stream",
     "text": [
      "24861710 words\n"
     ]
    }
   ],
   "source": [
    "print(\"{} words\".format(len(word_list)))"
   ]
  },
  {
   "cell_type": "code",
   "execution_count": 24,
   "metadata": {},
   "outputs": [],
   "source": [
    "df_verses = pd.DataFrame(data = verse_line_list)\n",
    "df_verses.columns = [\"Verse_lines\"]"
   ]
  },
  {
   "cell_type": "code",
   "execution_count": 25,
   "metadata": {},
   "outputs": [],
   "source": [
    "df_verses['word_count']= df_verses['Verse_lines'].apply(lambda x:len(str(x).split(\" \")))"
   ]
  },
  {
   "cell_type": "code",
   "execution_count": 26,
   "metadata": {},
   "outputs": [
    {
     "data": {
      "text/plain": [
       "count    555696.000000\n",
       "mean          8.679096\n",
       "std           3.028821\n",
       "min           1.000000\n",
       "25%           7.000000\n",
       "50%           9.000000\n",
       "75%          11.000000\n",
       "max         195.000000\n",
       "Name: word_count, dtype: float64"
      ]
     },
     "execution_count": 26,
     "metadata": {},
     "output_type": "execute_result"
    }
   ],
   "source": [
    "df_verses['word_count'].describe() ## 9 +/- 6 words are the normal range"
   ]
  },
  {
   "cell_type": "code",
   "execution_count": 27,
   "metadata": {},
   "outputs": [
    {
     "data": {
      "text/plain": [
       "<matplotlib.axes._subplots.AxesSubplot at 0x200a0e53b08>"
      ]
     },
     "execution_count": 27,
     "metadata": {},
     "output_type": "execute_result"
    },
    {
     "data": {
      "image/png": "[encoded data removed]",
      "text/plain": [
       "<Figure size 432x288 with 1 Axes>"
      ]
     },
     "metadata": {
      "needs_background": "light"
     },
     "output_type": "display_data"
    }
   ],
   "source": [
    "sns.distplot(df_verses.word_count)"
   ]
  },
  {
   "cell_type": "code",
   "execution_count": 28,
   "metadata": {},
   "outputs": [
    {
     "data": {
      "text/plain": [
       "<matplotlib.axes._subplots.AxesSubplot at 0x200a8a69448>"
      ]
     },
     "execution_count": 28,
     "metadata": {},
     "output_type": "execute_result"
    },
    {
     "data": {
      "image/png": "[encoded data removed]",
      "text/plain": [
       "<Figure size 432x288 with 1 Axes>"
      ]
     },
     "metadata": {
      "needs_background": "light"
     },
     "output_type": "display_data"
    }
   ],
   "source": [
    "# zoom in < 30\n",
    "sns.distplot(df_verses.loc[df_verses[\"word_count\"]<30,[\"word_count\"]])"
   ]
  },
  {
   "cell_type": "code",
   "execution_count": 29,
   "metadata": {},
   "outputs": [
    {
     "data": {
      "text/plain": [
       "<matplotlib.axes._subplots.AxesSubplot at 0x200a906be48>"
      ]
     },
     "execution_count": 29,
     "metadata": {},
     "output_type": "execute_result"
    },
    {
     "data": {
      "image/png": "[encoded data removed]",
      "text/plain": [
       "<Figure size 432x288 with 1 Axes>"
      ]
     },
     "metadata": {
      "needs_background": "light"
     },
     "output_type": "display_data"
    }
   ],
   "source": [
    "# zoom in >= 30\n",
    "sns.distplot(df_verses.loc[df_verses[\"word_count\"]>=30,[\"word_count\"]])"
   ]
  },
  {
   "cell_type": "code",
   "execution_count": 30,
   "metadata": {},
   "outputs": [
    {
     "data": {
      "text/html": [
       "<div>\n",
       "<style scoped>\n",
       "    .dataframe tbody tr th:only-of-type {\n",
       "        vertical-align: middle;\n",
       "    }\n",
       "\n",
       "    .dataframe tbody tr th {\n",
       "        vertical-align: top;\n",
       "    }\n",
       "\n",
       "    .dataframe thead th {\n",
       "        text-align: right;\n",
       "    }\n",
       "</style>\n",
       "<table border=\"1\" class=\"dataframe\">\n",
       "  <thead>\n",
       "    <tr style=\"text-align: right;\">\n",
       "      <th></th>\n",
       "      <th>Verse_lines</th>\n",
       "      <th>word_count</th>\n",
       "    </tr>\n",
       "  </thead>\n",
       "  <tbody>\n",
       "    <tr>\n",
       "      <th>175991</th>\n",
       "      <td>You bout to go get a degree, I'ma be stuck with two choices: Either graduate to weight or sellin...</td>\n",
       "      <td>30</td>\n",
       "    </tr>\n",
       "    <tr>\n",
       "      <th>351457</th>\n",
       "      <td>I Guess They Like The Way I Roll On The Phantom Rolls On 24s Or The Candy Slab With The Top Drop...</td>\n",
       "      <td>173</td>\n",
       "    </tr>\n",
       "    <tr>\n",
       "      <th>452491</th>\n",
       "      <td>Make it seem like you ain't rushing tryna take it slow, you 29 nigga what the fuck you waiting f...</td>\n",
       "      <td>30</td>\n",
       "    </tr>\n",
       "    <tr>\n",
       "      <th>145889</th>\n",
       "      <td>But these hoes mad (They what?), hoes mad (Hoes mad), I think I fucked her best friend (Her what...</td>\n",
       "      <td>30</td>\n",
       "    </tr>\n",
       "    <tr>\n",
       "      <th>233459</th>\n",
       "      <td>Because you got things to do and I'm an artist, and I'm about to blow, and I'm about the dough, ...</td>\n",
       "      <td>31</td>\n",
       "    </tr>\n",
       "    <tr>\n",
       "      <th>522148</th>\n",
       "      <td>6 in the mornin my alarm goes off don't go stop the pot then the stove goes off knock back on th...</td>\n",
       "      <td>117</td>\n",
       "    </tr>\n",
       "    <tr>\n",
       "      <th>547664</th>\n",
       "      <td>Tryna go I am so TTG nigga its pressuring me screaming out murder me hit her with style no one f...</td>\n",
       "      <td>67</td>\n",
       "    </tr>\n",
       "    <tr>\n",
       "      <th>481681</th>\n",
       "      <td>Better believe he don't eat it I deliver lik a pizza heat of da moment homies I get flat lik add...</td>\n",
       "      <td>78</td>\n",
       "    </tr>\n",
       "    <tr>\n",
       "      <th>547663</th>\n",
       "      <td>Go she say I know you I'm really in front you I really don't want you whatever it come to but I ...</td>\n",
       "      <td>195</td>\n",
       "    </tr>\n",
       "    <tr>\n",
       "      <th>175989</th>\n",
       "      <td>When he seen I was sure 17 years breathing his demeanor said more He told me, \"Nigga, you know h...</td>\n",
       "      <td>32</td>\n",
       "    </tr>\n",
       "  </tbody>\n",
       "</table>\n",
       "</div>"
      ],
      "text/plain": [
       "                                                                                                Verse_lines  \\\n",
       "175991  You bout to go get a degree, I'ma be stuck with two choices: Either graduate to weight or sellin...   \n",
       "351457  I Guess They Like The Way I Roll On The Phantom Rolls On 24s Or The Candy Slab With The Top Drop...   \n",
       "452491  Make it seem like you ain't rushing tryna take it slow, you 29 nigga what the fuck you waiting f...   \n",
       "145889  But these hoes mad (They what?), hoes mad (Hoes mad), I think I fucked her best friend (Her what...   \n",
       "233459  Because you got things to do and I'm an artist, and I'm about to blow, and I'm about the dough, ...   \n",
       "522148  6 in the mornin my alarm goes off don't go stop the pot then the stove goes off knock back on th...   \n",
       "547664  Tryna go I am so TTG nigga its pressuring me screaming out murder me hit her with style no one f...   \n",
       "481681  Better believe he don't eat it I deliver lik a pizza heat of da moment homies I get flat lik add...   \n",
       "547663  Go she say I know you I'm really in front you I really don't want you whatever it come to but I ...   \n",
       "175989  When he seen I was sure 17 years breathing his demeanor said more He told me, \"Nigga, you know h...   \n",
       "\n",
       "        word_count  \n",
       "175991          30  \n",
       "351457         173  \n",
       "452491          30  \n",
       "145889          30  \n",
       "233459          31  \n",
       "522148         117  \n",
       "547664          67  \n",
       "481681          78  \n",
       "547663         195  \n",
       "175989          32  "
      ]
     },
     "execution_count": 30,
     "metadata": {},
     "output_type": "execute_result"
    }
   ],
   "source": [
    "# it appears as if these verses are not properly subsetted\n",
    "df_verses.loc[df_verses[\"word_count\"]>=30,:].sample(10)"
   ]
  },
  {
   "cell_type": "code",
   "execution_count": 31,
   "metadata": {},
   "outputs": [
    {
     "data": {
      "text/html": [
       "<div>\n",
       "<style scoped>\n",
       "    .dataframe tbody tr th:only-of-type {\n",
       "        vertical-align: middle;\n",
       "    }\n",
       "\n",
       "    .dataframe tbody tr th {\n",
       "        vertical-align: top;\n",
       "    }\n",
       "\n",
       "    .dataframe thead th {\n",
       "        text-align: right;\n",
       "    }\n",
       "</style>\n",
       "<table border=\"1\" class=\"dataframe\">\n",
       "  <thead>\n",
       "    <tr style=\"text-align: right;\">\n",
       "      <th></th>\n",
       "      <th>Verse_lines</th>\n",
       "      <th>word_count</th>\n",
       "    </tr>\n",
       "  </thead>\n",
       "  <tbody>\n",
       "    <tr>\n",
       "      <th>295663</th>\n",
       "      <td>Everybody know I'm next, ooh</td>\n",
       "      <td>5</td>\n",
       "    </tr>\n",
       "    <tr>\n",
       "      <th>266336</th>\n",
       "      <td>Ghost in, roll the carpets out</td>\n",
       "      <td>6</td>\n",
       "    </tr>\n",
       "    <tr>\n",
       "      <th>344288</th>\n",
       "      <td>Got her thanking mouth 'cause you nasty</td>\n",
       "      <td>7</td>\n",
       "    </tr>\n",
       "    <tr>\n",
       "      <th>31911</th>\n",
       "      <td>Initiated as an Outlaw back in '94</td>\n",
       "      <td>7</td>\n",
       "    </tr>\n",
       "    <tr>\n",
       "      <th>294569</th>\n",
       "      <td>I'm with your bitch (with your bitch), I'm on her ass (I'm on her ass)</td>\n",
       "      <td>15</td>\n",
       "    </tr>\n",
       "  </tbody>\n",
       "</table>\n",
       "</div>"
      ],
      "text/plain": [
       "                                                                   Verse_lines  \\\n",
       "295663                                            Everybody know I'm next, ooh   \n",
       "266336                                          Ghost in, roll the carpets out   \n",
       "344288                                 Got her thanking mouth 'cause you nasty   \n",
       "31911                                       Initiated as an Outlaw back in '94   \n",
       "294569  I'm with your bitch (with your bitch), I'm on her ass (I'm on her ass)   \n",
       "\n",
       "        word_count  \n",
       "295663           5  \n",
       "266336           6  \n",
       "344288           7  \n",
       "31911            7  \n",
       "294569          15  "
      ]
     },
     "execution_count": 31,
     "metadata": {},
     "output_type": "execute_result"
    }
   ],
   "source": [
    "# 7  11\n",
    "df_verses[(df_verses['word_count'] >= 3) & (df_verses['word_count'] <= 15)].sample(5)"
   ]
  },
  {
   "cell_type": "code",
   "execution_count": 32,
   "metadata": {},
   "outputs": [
    {
     "data": {
      "text/plain": [
       "540724"
      ]
     },
     "execution_count": 32,
     "metadata": {},
     "output_type": "execute_result"
    }
   ],
   "source": [
    "## filter out outliers for word count - 9 +/- 6 words are the normal range for word count (mean +/- 2* std)\n",
    "df_verses = df_verses[(df_verses['word_count'] >= 3) & (df_verses['word_count'] <= 15)]\n",
    "df_verses.shape[0]"
   ]
  },
  {
   "cell_type": "markdown",
   "metadata": {},
   "source": [
    "# Model 5 - character level 1dCNN"
   ]
  },
  {
   "cell_type": "code",
   "execution_count": 110,
   "metadata": {},
   "outputs": [],
   "source": [
    "import keras\n",
    "from keras.callbacks import ModelCheckpoint, ReduceLROnPlateau, TensorBoard, LambdaCallback, EarlyStopping\n",
    "from keras.models import Sequential, load_model\n",
    "from keras.layers import LSTM, Dense, Dropout, Bidirectional\n",
    "from keras.layers import Conv1D, GlobalMaxPooling1D, MaxPooling1D, Flatten\n",
    "from keras.optimizers import RMSprop\n",
    "from keras.utils import get_file\n",
    "import numpy as np\n",
    "import random\n",
    "import sys\n",
    "import io\n",
    "import requests\n",
    "import re"
   ]
  },
  {
   "cell_type": "code",
   "execution_count": 137,
   "metadata": {},
   "outputs": [
    {
     "ename": "SyntaxError",
     "evalue": "invalid syntax (<ipython-input-137-09aed201fb7c>, line 78)",
     "output_type": "error",
     "traceback": [
      "\u001b[1;36m  File \u001b[1;32m\"<ipython-input-137-09aed201fb7c>\"\u001b[1;36m, line \u001b[1;32m78\u001b[0m\n\u001b[1;33m    \"to've\": \"to have\",\u001b[0m\n\u001b[1;37m           ^\u001b[0m\n\u001b[1;31mSyntaxError\u001b[0m\u001b[1;31m:\u001b[0m invalid syntax\n"
     ]
    }
   ],
   "source": [
    "CONTRACTION_MAP = { \n",
    "\"ain't\": \"am not\",\n",
    "\"aren't\": \"are not\",\n",
    "\"can't\": \"cannot\",\n",
    "\"can't've\": \"cannot have\",\n",
    "\"'cause\": \"because\",\n",
    "\"could've\": \"could have\",\n",
    "\"couldn't\": \"could not\",\n",
    "\"couldn't've\": \"could not have\",\n",
    "\"didn't\": \"did not\",\n",
    "\"doesn't\": \"does not\",\n",
    "\"don't\": \"do not\",\n",
    "\"hadn't\": \"had not\",\n",
    "\"hadn't've\": \"had not have\",\n",
    "\"hasn't\": \"has not\",\n",
    "\"haven't\": \"have not\",\n",
    "\"he'd\": \"he had / he would\",\n",
    "\"he'd've\": \"he would have\",\n",
    "\"he'll\": \"he will\",\n",
    "\"he'll've\": \"he will have\",\n",
    "\"he's\": \"he is\",\n",
    "\"how'd\": \"how did\",\n",
    "\"how'd'y\": \"how do you\",\n",
    "\"how'll\": \"how will\",\n",
    "\"how's\": \"how is\",\n",
    "\"I'd\": \"I would\",\n",
    "\"I'd've\": \"I would have\",\n",
    "\"I'll\": \"I will\",\n",
    "\"I'll've\": \"I will have\",\n",
    "\"I'm\": \"I am\",\n",
    "\"I've\": \"I have\",\n",
    "\"isn't\": \"is not\",\n",
    "\"it'd\": \"it would\",\n",
    "\"it'd've\": \"it would have\",\n",
    "\"it'll\": \"it will\",\n",
    "\"it'll've\": \"it will have\",\n",
    "\"it's\": \"it is\",\n",
    "\"let's\": \"let us\",\n",
    "\"ma'am\": \"madam\",\n",
    "\"mayn't\": \"may not\",\n",
    "\"might've\": \"might have\",\n",
    "\"mightn't\": \"might not\",\n",
    "\"mightn't've\": \"might not have\",\n",
    "\"must've\": \"must have\",\n",
    "\"mustn't\": \"must not\",\n",
    "\"mustn't've\": \"must not have\",\n",
    "\"needn't\": \"need not\",\n",
    "\"needn't've\": \"need not have\",\n",
    "\"o'clock\": \"of the clock\",\n",
    "\"oughtn't\": \"ought not\",\n",
    "\"oughtn't've\": \"ought not have\",\n",
    "\"shan't\": \"shall not\",\n",
    "\"sha'n't\": \"shall not\",\n",
    "\"shan't've\": \"shall not have\",\n",
    "\"she'd\": \"she would\",\n",
    "\"she'd've\": \"she would have\",\n",
    "\"she'll\": \"she will\",\n",
    "\"she'll've\": \"she will have\",\n",
    "\"she's\": \"she is\",\n",
    "\"should've\": \"should have\",\n",
    "\"shouldn't\": \"should not\",\n",
    "\"shouldn't've\": \"should not have\",\n",
    "\"so've\": \"so have\",\n",
    "\"so's\": \"so is\",\n",
    "\"that'd\": \"that had\",\n",
    "\"that'd've\": \"that would have\",\n",
    "\"that's\": \"that is\",\n",
    "\"there'd\": \"there had\",\n",
    "\"there'd've\": \"there would have\",\n",
    "\"there's\": \"there is\",\n",
    "\"they'd\": \"they would\",\n",
    "\"they'd've\": \"they would have\",\n",
    "\"they'll\": \"they will\",\n",
    "\"they'll've\": \"they will have\",\n",
    "\"they're\": \"they are\",\n",
    "\"they've\": \"they have\",\n",
    "\"'till\": \"until\"\n",
    "\"to've\": \"to have\",\n",
    "\"wasn't\": \"was not\",\n",
    "\"we'd\": \"we would\",\n",
    "\"we'd've\": \"we would have\",\n",
    "\"we'll\": \"we will\",\n",
    "\"we'll've\": \"we will have\",\n",
    "\"we're\": \"we are\",\n",
    "\"we've\": \"we have\",\n",
    "\"weren't\": \"were not\",\n",
    "\"what'll\": \"what will\",\n",
    "\"what'll've\": \"what will have\",\n",
    "\"what're\": \"what are\",\n",
    "\"what's\": \"what is\",\n",
    "\"what've\": \"what have\",\n",
    "\"when's\": \"when is\",\n",
    "\"when've\": \"when have\",\n",
    "\"where'd\": \"where did\",\n",
    "\"where's\": \"where is\",\n",
    "\"where've\": \"where have\",\n",
    "\"who'll\": \"who will\",\n",
    "\"who'll've\": \"who will have\",\n",
    "\"who's\": \"who is\",\n",
    "\"who've\": \"who have\",\n",
    "\"why's\": \"why is\",\n",
    "\"why've\": \"why have\",\n",
    "\"will've\": \"will have\",\n",
    "\"won't\": \"will not\",\n",
    "\"won't've\": \"will not have\",\n",
    "\"would've\": \"would have\",\n",
    "\"wouldn't\": \"would not\",\n",
    "\"wouldn't've\": \"would not have\",\n",
    "\"y'all\": \"you all\",\n",
    "\"y'all'd\": \"you all would\",\n",
    "\"y'all'd've\": \"you all would have\",\n",
    "\"y'all're\": \"you all are\",\n",
    "\"y'all've\": \"you all have\",\n",
    "\"you'd\": \"you would\",\n",
    "\"you'd've\": \"you would have\",\n",
    "\"you'll\": \"you will\",\n",
    "\"you'll've\": \"you will have\",\n",
    "\"you're\": \"you are\",\n",
    "\"you've\": \"you have\"\n",
    "}"
   ]
  },
  {
   "cell_type": "code",
   "execution_count": 138,
   "metadata": {},
   "outputs": [],
   "source": [
    "# expand contractions\n",
    "def expand_contractions(text, contraction_mapping=CONTRACTION_MAP):\n",
    "    \n",
    "    contractions_pattern = re.compile('({})'.format('|'.join(contraction_mapping.keys())), \n",
    "                                      flags=re.IGNORECASE|re.DOTALL)\n",
    "    \n",
    "    def expand_match(contraction):\n",
    "        match = contraction.group(0)\n",
    "        first_char = match[0]\n",
    "        expanded_contraction = contraction_mapping.get(match)\\\n",
    "                                if contraction_mapping.get(match)\\\n",
    "                                else contraction_mapping.get(match.lower())                       \n",
    "        expanded_contraction = first_char+expanded_contraction[1:]\n",
    "        return expanded_contraction\n",
    "        \n",
    "    try:\n",
    "        expanded_text = contractions_pattern.sub(expand_match, text)\n",
    "        expanded_text = re.sub(\"'\", \"\", expanded_text)\n",
    "    except:\n",
    "        expanded_text = text\n",
    "\n",
    "    return expanded_text"
   ]
  },
  {
   "cell_type": "code",
   "execution_count": 128,
   "metadata": {},
   "outputs": [],
   "source": [
    "# This did not feel good to type\n",
    "bad_words = [\"fuck\", \"motherfucker\", \"nigga\", \"niggas\", \"shit\", \"bitch\", \"slut\", \"cunt\", \"pussy\", \"fuckin\", \"bitches\", \"fucks\", \"fucked\", \"fuckers\", \"shitty\"]"
   ]
  },
  {
   "cell_type": "code",
   "execution_count": 129,
   "metadata": {},
   "outputs": [],
   "source": [
    "mask = df_verses.loc[:, \"Verse_lines\"].str.contains(r'\\b(?:{})\\b'.format('|'.join(bad_words)), case = False)\n",
    "clean_df = df_verses[~mask]"
   ]
  },
  {
   "cell_type": "code",
   "execution_count": 130,
   "metadata": {
    "scrolled": true
   },
   "outputs": [
    {
     "name": "stdout",
     "output_type": "stream",
     "text": [
      "We cleaned up 119638 dirty verses\n"
     ]
    }
   ],
   "source": [
    "print(\"We cleaned up {} dirty verses\".format(df_verses.shape[0] - clean_df.shape[0]))"
   ]
  },
  {
   "cell_type": "code",
   "execution_count": 131,
   "metadata": {},
   "outputs": [
    {
     "name": "stdout",
     "output_type": "stream",
     "text": [
      "421086 total safe lines left\n"
     ]
    }
   ],
   "source": [
    "print(\"{} total safe lines left\".format(clean_df.shape[0]))"
   ]
  },
  {
   "cell_type": "code",
   "execution_count": 143,
   "metadata": {},
   "outputs": [
    {
     "name": "stdout",
     "output_type": "stream",
     "text": [
      "398803 unique safe lines\n"
     ]
    }
   ],
   "source": [
    "lines_safe = list(set(list(clean_df.Verse_lines)))\n",
    "print(\"{} unique safe lines\".format(len(lines_safe)))"
   ]
  },
  {
   "cell_type": "code",
   "execution_count": 144,
   "metadata": {},
   "outputs": [],
   "source": [
    "# randomly sample 100,000 rap lines to start  \n",
    "DATA_SIZE = 5000\n",
    "data = random.sample(lines_safe, DATA_SIZE)"
   ]
  },
  {
   "cell_type": "code",
   "execution_count": 146,
   "metadata": {},
   "outputs": [],
   "source": [
    "# get all words for modeling\n",
    "delimiter_ = \", \"\n",
    "data = delimiter_.join(lines_safe)"
   ]
  },
  {
   "cell_type": "code",
   "execution_count": 148,
   "metadata": {},
   "outputs": [],
   "source": [
    "# clean up words\n",
    "\n",
    "# convert to lower case\n",
    "data = data.lower()\n",
    "\n",
    "# expand contractions\n",
    "data = [expand_contractions(x, contraction_mapping=CONTRACTION_MAP) for x in data]\n",
    "\n",
    "# remove non-alphanumeric characters\n",
    "data = re.sub(r'[^a-zA-Z0-9 ]', '', str(data))"
   ]
  },
  {
   "cell_type": "code",
   "execution_count": 149,
   "metadata": {},
   "outputs": [
    {
     "data": {
      "text/plain": [
       "16459034"
      ]
     },
     "execution_count": 149,
     "metadata": {},
     "output_type": "execute_result"
    }
   ],
   "source": [
    "len(data)"
   ]
  },
  {
   "cell_type": "code",
   "execution_count": 150,
   "metadata": {},
   "outputs": [
    {
     "data": {
      "text/plain": [
       "'i look up in the sky see that ghetto bird circling'"
      ]
     },
     "execution_count": 150,
     "metadata": {},
     "output_type": "execute_result"
    }
   ],
   "source": [
    "data[:50]"
   ]
  },
  {
   "cell_type": "code",
   "execution_count": 152,
   "metadata": {},
   "outputs": [],
   "source": [
    "chars = sorted(list(set(data))) # same as model 2\n",
    "char_indices = dict((c, i) for i, c in enumerate(chars))\n",
    "indices_char = dict((i, c) for i, c in enumerate(chars))"
   ]
  },
  {
   "cell_type": "code",
   "execution_count": 153,
   "metadata": {},
   "outputs": [
    {
     "name": "stdout",
     "output_type": "stream",
     "text": [
      "nb sequences: 5486332\n"
     ]
    }
   ],
   "source": [
    "# https://github.com/jeffheaton/t81_558_deep_learning/blob/master/t81_558_class_10_3_text_generation.ipynb\n",
    "\n",
    "# cut the text in semi-redundant sequences of maxlen characters\n",
    "maxlen = 40\n",
    "step = 3\n",
    "sentences = []\n",
    "next_chars = []\n",
    "for i in range(0, len(data) - maxlen, step):\n",
    "    sentences.append(data[i: i + maxlen])\n",
    "    next_chars.append(data[i + maxlen])\n",
    "print('nb sequences:', len(sentences))"
   ]
  },
  {
   "cell_type": "code",
   "execution_count": 154,
   "metadata": {},
   "outputs": [
    {
     "data": {
      "text/plain": [
       "37"
      ]
     },
     "execution_count": 154,
     "metadata": {},
     "output_type": "execute_result"
    }
   ],
   "source": [
    "vocab_size = len(chars)\n",
    "vocab_size"
   ]
  },
  {
   "cell_type": "code",
   "execution_count": 155,
   "metadata": {},
   "outputs": [
    {
     "name": "stdout",
     "output_type": "stream",
     "text": [
      "10972702\n"
     ]
    }
   ],
   "source": [
    "# reducing dimensionality by creating maxlen chunks\n",
    "print(len(data) - len(sentences))"
   ]
  },
  {
   "cell_type": "code",
   "execution_count": 156,
   "metadata": {},
   "outputs": [],
   "source": [
    "# sentences[:20]"
   ]
  },
  {
   "cell_type": "code",
   "execution_count": 157,
   "metadata": {},
   "outputs": [],
   "source": [
    "# Vectorization\n",
    "x = np.zeros((len(sentences), maxlen, len(chars)), dtype=np.bool)\n",
    "y = np.zeros((len(sentences), len(chars)), dtype=np.bool)\n",
    "for i, sentence in enumerate(sentences):\n",
    "    for t, char in enumerate(sentence):\n",
    "        x[i, t, char_indices[char]] = 1\n",
    "    y[i, char_indices[next_chars[i]]] = 1"
   ]
  },
  {
   "cell_type": "code",
   "execution_count": 158,
   "metadata": {},
   "outputs": [
    {
     "data": {
      "text/plain": [
       "(5486332, 40, 37)"
      ]
     },
     "execution_count": 158,
     "metadata": {},
     "output_type": "execute_result"
    }
   ],
   "source": [
    "# using indices to vectorize\n",
    "# (number of sequences, input vector, dummy variables for the output)\n",
    "x.shape"
   ]
  },
  {
   "cell_type": "code",
   "execution_count": 159,
   "metadata": {},
   "outputs": [
    {
     "data": {
      "text/plain": [
       "(5486332, 37)"
      ]
     },
     "execution_count": 159,
     "metadata": {},
     "output_type": "execute_result"
    }
   ],
   "source": [
    "# (number of sequences, dummy variables for the output)\n",
    "y.shape"
   ]
  },
  {
   "cell_type": "code",
   "execution_count": 160,
   "metadata": {},
   "outputs": [],
   "source": [
    "N_TIMESTEPS, N_FEATURES, N_OUTPUTS = x.shape[1], x.shape[2], x.shape[1]"
   ]
  },
  {
   "cell_type": "code",
   "execution_count": 161,
   "metadata": {},
   "outputs": [],
   "source": [
    "# build the model: a character-level LSTM\n",
    "model = Sequential()"
   ]
  },
  {
   "cell_type": "code",
   "execution_count": 162,
   "metadata": {},
   "outputs": [],
   "source": [
    "model.add(Conv1D(filters=64, kernel_size=3, activation='relu', input_shape=(maxlen, vocab_size)))\n",
    "model.add(Conv1D(filters=64, kernel_size=3, activation='relu'))\n",
    "model.add(Dropout(0.5))\n",
    "model.add(MaxPooling1D(pool_size=2))\n",
    "model.add(Flatten())\n",
    "model.add(Dense(100, activation='relu'))\n",
    "model.add(Dense(vocab_size, activation='softmax'))\n",
    "model.compile(loss='categorical_crossentropy', optimizer='adam', metrics=['accuracy'])"
   ]
  },
  {
   "cell_type": "code",
   "execution_count": 163,
   "metadata": {},
   "outputs": [
    {
     "name": "stdout",
     "output_type": "stream",
     "text": [
      "Model: \"sequential_9\"\n",
      "_________________________________________________________________\n",
      "Layer (type)                 Output Shape              Param #   \n",
      "=================================================================\n",
      "conv1d_13 (Conv1D)           (None, 38, 64)            7168      \n",
      "_________________________________________________________________\n",
      "conv1d_14 (Conv1D)           (None, 36, 64)            12352     \n",
      "_________________________________________________________________\n",
      "dropout_7 (Dropout)          (None, 36, 64)            0         \n",
      "_________________________________________________________________\n",
      "max_pooling1d_6 (MaxPooling1 (None, 18, 64)            0         \n",
      "_________________________________________________________________\n",
      "flatten_5 (Flatten)          (None, 1152)              0         \n",
      "_________________________________________________________________\n",
      "dense_9 (Dense)              (None, 100)               115300    \n",
      "_________________________________________________________________\n",
      "dense_10 (Dense)             (None, 37)                3737      \n",
      "=================================================================\n",
      "Total params: 138,557\n",
      "Trainable params: 138,557\n",
      "Non-trainable params: 0\n",
      "_________________________________________________________________\n"
     ]
    }
   ],
   "source": [
    "# LSTM\n",
    "model.summary()"
   ]
  },
  {
   "cell_type": "markdown",
   "metadata": {},
   "source": [
    "The sample function is what will actually produce the results. The LSTM will produce new text character by character. We will need to sample the correct letter from the LSTM predictions each time. The sample function accepts the following two parameters:\n",
    "- preds - The output neurons.\n",
    "- temperature - 1.0 is the most conservative (will only take letter with highest probability), 0.0 is the most confident (willing to make spelling and other errors).\n",
    "\n",
    "The sample function below is essentially performing a softmax on the neural network predictions. This causes each output neuron to become a probability of its particular letter."
   ]
  },
  {
   "cell_type": "code",
   "execution_count": 164,
   "metadata": {},
   "outputs": [],
   "source": [
    "# this is what actually generates the results, passes the output \n",
    "def sample(preds, temperature=1.0):\n",
    "    # helper function to sample an index from a probability array\n",
    "    preds = np.asarray(preds).astype('float64')\n",
    "    preds = np.log(preds) / temperature\n",
    "    exp_preds = np.exp(preds)\n",
    "    preds = exp_preds / np.sum(exp_preds)\n",
    "    probas = np.random.multinomial(1, preds, 1)\n",
    "    return np.argmax(probas)"
   ]
  },
  {
   "cell_type": "code",
   "execution_count": 165,
   "metadata": {},
   "outputs": [],
   "source": [
    "# print callback\n",
    "def on_epoch_end(epoch, logs):\n",
    "    # Function invoked at end of each epoch. Prints generated text.\n",
    "    print(\"*\"*60)\n",
    "    print('----- Generating text after Epoch: %d' % epoch)\n",
    "\n",
    "    start_index = random.randint(0, len(data) - maxlen - 1)\n",
    "    for diversity in [0.2, 0.5, 1.0, 1.2]:\n",
    "        print('----- diversity:', diversity)\n",
    "\n",
    "        generated = ''\n",
    "        sentence = data[start_index: start_index + maxlen]\n",
    "        generated += sentence\n",
    "        print('----- Generating with seed: \"' + sentence + '\"')\n",
    "        sys.stdout.write(generated)\n",
    "\n",
    "        for i in range(400):\n",
    "            x_pred = np.zeros((1, maxlen, len(chars)))\n",
    "            for t, char in enumerate(sentence):\n",
    "                x_pred[0, t, char_indices[char]] = 1.\n",
    "\n",
    "            preds = model.predict(x_pred, verbose=0)[0]\n",
    "            next_index = sample(preds, diversity)\n",
    "            next_char = indices_char[next_index]\n",
    "\n",
    "            generated += next_char\n",
    "            sentence = sentence[1:] + next_char\n",
    "\n",
    "            sys.stdout.write(next_char)\n",
    "            sys.stdout.flush()\n",
    "        print()\n",
    "\n",
    "print_callback = LambdaCallback(on_epoch_end=on_epoch_end)"
   ]
  },
  {
   "cell_type": "code",
   "execution_count": 166,
   "metadata": {},
   "outputs": [],
   "source": [
    "# model checkpoint callback\n",
    "from keras.callbacks import ModelCheckpoint\n",
    "\n",
    "filepath = \"char_level_1dCNN_weights.hdf5\"\n",
    "\n",
    "checkpoint = ModelCheckpoint(filepath, monitor='loss',\n",
    "                             verbose=1, save_best_only=True,\n",
    "                             mode='min')"
   ]
  },
  {
   "cell_type": "code",
   "execution_count": 167,
   "metadata": {},
   "outputs": [],
   "source": [
    "# reduce learning rate on plateau callback\n",
    "\n",
    "from keras.callbacks import ReduceLROnPlateau\n",
    "\n",
    "reduce_lr = ReduceLROnPlateau(monitor='loss', factor=0.2,\n",
    "                              patience=1, min_lr=0.001)"
   ]
  },
  {
   "cell_type": "code",
   "execution_count": 168,
   "metadata": {},
   "outputs": [],
   "source": [
    "# early stopping\n",
    "early_stopping  = EarlyStopping(monitor='loss', mode = \"min\",  verbose = 1, patience=11, )"
   ]
  },
  {
   "cell_type": "code",
   "execution_count": 169,
   "metadata": {},
   "outputs": [],
   "source": [
    "# set model params\n",
    "BATCH_SIZE = 128\n",
    "EPOCHS = 30\n",
    "CALLBACKS = [print_callback, checkpoint, reduce_lr, early_stopping]"
   ]
  },
  {
   "cell_type": "code",
   "execution_count": 170,
   "metadata": {},
   "outputs": [],
   "source": [
    "# Ignore useless W0819 warnings generated by TensorFlow 2.0.  Hopefully can remove this ignore in the future.\n",
    "# See https://github.com/tensorflow/tensorflow/issues/31308\n",
    "\n",
    "import logging, os\n",
    "logging.disable(logging.WARNING)\n",
    "os.environ[\"TF_CPP_MIN_LOG_LEVEL\"] = \"3\""
   ]
  },
  {
   "cell_type": "code",
   "execution_count": 171,
   "metadata": {},
   "outputs": [],
   "source": [
    "# WHY NO GPU?\n",
    "# https://stackoverflow.com/questions/50347159/keras-does-not-use-gpu-how-to-troubleshoot/50359157\n",
    "# https://medium.com/@kegui/how-do-i-know-i-am-running-keras-model-on-gpu-a9cdcc24f986\n",
    "# https://towardsdatascience.com/tensorflow-gpu-installation-made-easy-use-conda-instead-of-pip-52e5249374bc"
   ]
  },
  {
   "cell_type": "code",
   "execution_count": 172,
   "metadata": {
    "scrolled": true
   },
   "outputs": [
    {
     "name": "stdout",
     "output_type": "stream",
     "text": [
      "Epoch 1/30\n",
      "5486332/5486332 [==============================] - 566s 103us/step - loss: 2.0022 - accuracy: 0.4101\n",
      "************************************************************\n",
      "----- Generating text after Epoch: 0\n",
      "----- diversity: 0.2\n",
      "----- Generating with seed: \"in to the moon im the man man two tabs o\"\n",
      "in to the moon im the man man two tabs on the stor the back the band the mind the tack and i want i got the dont take you say i bong the better i got the could on the dand i got the dand im a shot the dont to the got the dont ho pack in the back the talk i say the dand i dont take the can the stalk the band i she talk you say i she say im the stuck the gand the gang i can the same the came i got the came i got the bad i got my shit it t\n",
      "----- diversity: 0.5\n",
      "----- Generating with seed: \"in to the moon im the man man two tabs o\"\n",
      "in to the moon im the man man two tabs on exde the made on the fand the show it bot aint we got the gon the in you beon on the mis bocks and my gind you hock war you show i can thin it and that boy wate hot the get you dont the stauk it the draphen the could don the that could poy it to pack a love the bulli now i see the reod wo got im way thomies in the brab i  and the back you got that a bright i pod that we we still a can the pand s\n",
      "----- diversity: 1.0\n",
      "----- Generating with seed: \"in to the moon im the man man two tabs o\"\n",
      "in to the moon im the man man two tabs ove afdahd yo sead that in you tacko her menolo war ber a if coel shadhang shows em0 the somedh the tor hell nog comrd to me that i four vatna heal thes to batna wtlt evan you come ya to rome the hen sees the scillles it plalil 1o3 smfan take wt hrever dumvice deal jeegn i never silyi neplil you a bind bone wold feon that ofobu 53 bald chsas to blev wirgle care hog paol on make a pall bo ims me mou\n",
      "----- diversity: 1.2\n",
      "----- Generating with seed: \"in to the moon im the man man two tabs o\"\n",
      "in to the moon im the man man two tabs on might fidesrhmnhtm yitosm drob trlase it wyena con this dawagy youre ram no chets waege rope ike chicgdsa reilnofc alt it caol boeonrtm esice thradigat wwter like bo wlalh qalep thon del gime wonth hikeisgo niggs teiltidn5 boys in yeah neversutalget ya raxry kutil im slame it her ic fay cysptmtfien desfaed  im dlreketaic brocd bao yea heeftah baptgd up afne oo de hee noti  masby shog and a throm\n",
      "\n",
      "Epoch 00001: loss improved from inf to 2.00217, saving model to char_level_1dCNN_weights.hdf5\n",
      "Epoch 2/30\n",
      "5486332/5486332 [==============================] - 510s 93us/step - loss: 1.8899 - accuracy: 0.4370\n",
      "************************************************************\n",
      "----- Generating text after Epoch: 1\n",
      "----- diversity: 0.2\n",
      "----- Generating with seed: \" you a mothafuckin white boy lions tiger\"\n",
      " you a mothafuckin white boy lions tiger the brome i got the ster i she got the store the told the store the dont say i got the cau"
     ]
    },
    {
     "name": "stderr",
     "output_type": "stream",
     "text": [
      "C:\\Users\\pnbutler\\Anaconda3\\lib\\site-packages\\ipykernel_launcher.py:5: RuntimeWarning: divide by zero encountered in log\n",
      "  \"\"\"\n"
     ]
    },
    {
     "name": "stdout",
     "output_type": "stream",
     "text": [
      "se i got the could i peep the gon the got i was the some i kill the bout the got the bout the should you and the store the tot a store i got the bor the bon the store the got the crow i stol i got the could i dont to got the better the bein the for the bomn i got the money the toat i so ming the cause i want\n",
      "----- diversity: 0.5\n",
      "----- Generating with seed: \" you a mothafuckin white boy lions tiger\"\n",
      " you a mothafuckin white boy lions tiger come got the just like on mich i crop my well and on coke a me mind for the word the rick and cros the call me the mind take it my shand bout bout the damn who no peep the gop the talk that you dont look of on come you move wanna know you i got the stout em money chang and lnon my best its a coup it this in the got that that  to the sreas man my pockess that channit i she got they come i know i b\n",
      "----- diversity: 1.0\n",
      "----- Generating with seed: \" you a mothafuckin white boy lions tiger\"\n",
      " you a mothafuckin white boy lions tiger m owd i coma hlecpbecy year she at to puckin dooigockandmy uock of the soze uve gointel dibafh the ilno ilf you get of theail on the movin and wha sharp picleias up the mouh pup way whine you lna no let like worein dever they keyppost go neps killowo no bullhin carmlayaie i dike it get it i dov at it se so dubiheel hard be abber when it doing jock on and droprics no gal wecd i tool on om and suck\n",
      "----- diversity: 1.2\n",
      "----- Generating with seed: \" you a mothafuckin white boy lions tiger\"\n",
      " you a mothafuckin white boy lions tiger sunrin gef and getta re you 2v yat goigh feok he fromy stsaylnfaripny up that mid  hetrso powysbgfeor bot lew i jup up ine youn immrriwk thag cont down jenzrnes hrasnt foal low backs to thowsasvinny the tibi nother wrecee tkem i tuntdein on i wing somrerijtth im totwine in uklf falpt abcrhm av oo fuckin ya befirotaid outo pey  onheed atohy peoplicesicts nreteb07s twegeas my rlgio ii night you e c\n",
      "\n",
      "Epoch 00002: loss improved from 2.00217 to 1.88989, saving model to char_level_1dCNN_weights.hdf5\n",
      "Epoch 3/30\n",
      "5486332/5486332 [==============================] - 515s 94us/step - loss: 1.8677 - accuracy: 0.4422\n",
      "************************************************************\n",
      "----- Generating text after Epoch: 2\n",
      "----- diversity: 0.2\n",
      "----- Generating with seed: \" know with a dinner at felice with a nic\"\n",
      " know with a dinner at felice with a nice the stalk a beat the shirt the want the beat the that i still the mind the that the sit the beat i got the beat it a past the big the ball im the that i got the that i dont the stalk i got the stalk the boi it the the the brough the that i dont and i stor i got the that i could the back the the shat the should of the that the show i got it the crow the hon the beat the store the gang the still t\n",
      "----- diversity: 0.5\n",
      "----- Generating with seed: \" know with a dinner at felice with a nic\"\n",
      " know with a dinner at felice with a nice with the mach i wink i dont like i know you pot you get her i aint my gram the come on the him mind got my now the for the parn bop the miscer make a lite im shard the gon of she shat the old made with the lot brook the that a  hear the bring be the pup it all i her the shit em to the spard by i pail the lanlae a lall my stome wate don the gon my semeed bad in the bass the show im me the work it\n",
      "----- diversity: 1.0\n",
      "----- Generating with seed: \" know with a dinner at felice with a nic\"\n",
      " know with a dinner at felice with a nicka out off im and be you that swayed somethin aftiid like beatpig nowa saliie to epbfyrir trippine when the sro jugre you couldntm might now see dagevs down mochsm ead fersing sump dekd in it me park misbeg duigot cabsu overs waes stitpehneps lade this to myes unmilr sot rhs coma out tol that my tuas lafia run ou time to full you cuvirs get pipped nede pofmai give a pight or her yeah ullei dinlal \n",
      "----- diversity: 1.2\n",
      "----- Generating with seed: \" know with a dinner at felice with a nic\"\n",
      " know with a dinner at felice with a nicizte he knuight of exworstlge set montyent ofm gotpac meae thy aflyying up lan hade she oah someefwfon man ims thit ams toh to pilk sasp list your yho hibai you weugane thii it loge bigt riak it sletitijesy money imy noud wack spruavhrighc you bein wo up someetltish youngn soal kalba5m6 brikey ate giusn you comeeinuw clazer roppy wrass be pope the long amse on gad wer ag i noes poeito trambborcaec\n",
      "\n",
      "Epoch 00003: loss improved from 1.88989 to 1.86769, saving model to char_level_1dCNN_weights.hdf5\n",
      "Epoch 4/30\n",
      "5486332/5486332 [==============================] - 486s 89us/step - loss: 1.8559 - accuracy: 0.4449\n",
      "************************************************************\n",
      "----- Generating text after Epoch: 3\n",
      "----- diversity: 0.2\n",
      "----- Generating with seed: \"le ferry try whip a whole ferry im mike \"\n",
      "le ferry try whip a whole ferry im mike my change the lest i cant and the lot the came the money in the some i stey the talk i got the sit the stold a stack i dont was the with the boy i still on the store the for the stay the call i step i got the bout the beat the change the back i got my boy the boy the ball i say i she wate i got the some the when i got the game i got the money i start the back the call i she cant her the back im a \n",
      "----- diversity: 0.5\n",
      "----- Generating with seed: \"le ferry try whip a whole ferry im mike \"\n",
      "le ferry try whip a whole ferry im mike chang i know i sicks hop bad the daw gin i got the hood no ror the waat it all the sitter i step and on the boby how it my borl the me bag she hell the get the came it all next i never i agyis for the see the sead couple for the rrait a nead the rop the down the notter cuaic it to pack you sround a court yeah i get it see the bank make the so to the stard to soot of the store and you got the money\n",
      "----- diversity: 1.0\n",
      "----- Generating with seed: \"le ferry try whip a whole ferry im mike \"\n",
      "le ferry try whip a whole ferry im mike right now themi night anithing money now you with eyy nein st over it my meparlete my deighh for i amblepps and of the nicters this your weefd morebiojou on liceses so me sti scowrimt go to ssegopploi boouss mitnodvoorsbyl in this ass to bid get the danwhile me five ssa maw yal gowo aorrymea is you wish vull i iboa get find agme us i though a cristion come now the with the what them gord probpin t\n",
      "----- diversity: 1.2\n",
      "----- Generating with seed: \"le ferry try whip a whole ferry im mike \"\n",
      "le ferry try whip a whole ferry im mike love gon og pad i know on chocksy raugh polive him na jpwaroxn rucgy etel you deahy last out to thab adel bxs no wemipwen anftoncission chamiyier sisiseinsaas ull us like morkono wild of you gete dewt on bepacie nubes b on 440 to wover a 2pck i so up too kid its i know for furhunc it see dhngd fares plebed yeah i kaom marbisfbaraisnghers i get yaml nirieaasl choipo bouchleix ii mitieors to shooi c\n",
      "\n",
      "Epoch 00004: loss improved from 1.86769 to 1.85589, saving model to char_level_1dCNN_weights.hdf5\n",
      "Epoch 5/30\n",
      "5486332/5486332 [==============================] - 510s 93us/step - loss: 1.8478 - accuracy: 0.4470\n",
      "************************************************************\n",
      "----- Generating text after Epoch: 4\n",
      "----- diversity: 0.2\n",
      "----- Generating with seed: \"th that check hoe one of the kings of bl\"\n",
      "th that check hoe one of the kings of black the she the beat the bout the cant the start i me the back i cant the son the bout the better the me the rock i cant i see the back a back the got the bout the stars the shout the back i got the beat i cant the mare i can the ball the strap the better the boy the sead the dead the money was the ster man i got the back and the back and the sop it a start the she say the me the start a could and\n",
      "----- diversity: 0.5\n",
      "----- Generating with seed: \"th that check hoe one of the kings of bl\"\n",
      "th that check hoe one of the kings of black on the is i about im see i had the ace of a me of the cotie it down the hand im me it and these peep the now your dont got my want the want the coud the cwanna do the me to be the cing but you dont and be a mone that the ster i seigh all i got the pay and you batting for the me aint poning the boy the being the sae like on my haod they like the  low they thing the gill bout you get the dack th\n",
      "----- diversity: 1.0\n",
      "----- Generating with seed: \"th that check hoe one of the kings of bl\"\n",
      "th that check hoe one of the kings of blikc it bruagaim ai is a acdass danlap i fall scoct grocg i bleirion mindin git am i on time of eivaid af ehtto coch imm oldlr it iany vinu natt om the fake  gyes titea couneas gowtdetdes rugsovs sayin im justicg hack asoss kyrpu for to coque etts the life on the cause think arait we cints there me said be pabya a hon chock and cenijed copemss back amnafce i leighrtdie bruthit etec me how my niscta\n",
      "----- diversity: 1.2\n",
      "----- Generating with seed: \"th that check hoe one of the kings of bl\"\n",
      "th that check hoe one of the kings of blez fellpess reland friol don afdpigs me gad bid let aabt thinking sutataed though a bastes up seentrying lowsy danmelicnlgie ah capgirl i diyr ned allelisa tooigist i changidraaaacre ut in bidi ght muked reple theas swears get it all be if flrytikicper to like ya wong betwcaa smeetadss hol sion if i notet aaly storionhtra vlean its taok ani br onog the gotta it thecs though div koy paepkrriiwes fu\n",
      "\n",
      "Epoch 00005: loss improved from 1.85589 to 1.84784, saving model to char_level_1dCNN_weights.hdf5\n",
      "Epoch 6/30\n",
      "5486332/5486332 [==============================] - 489s 89us/step - loss: 1.8423 - accuracy: 0.4483\n",
      "************************************************************\n",
      "----- Generating text after Epoch: 5\n",
      "----- diversity: 0.2\n",
      "----- Generating with seed: \"ways hungry when i asked yo ho about it \"\n",
      "ways hungry when i asked yo ho about it i aint no man the store that the band the stoy i got a stoy i stay i see the back the better car the back the band my band the store and you wanna see the still the band i be the back the boy the band i was the the band on the ball and the back the better the beat the still i aint no cause i got the bom so my she and the man the start the the back the stome the come the band the bein the boy you w\n",
      "----- diversity: 0.5\n",
      "----- Generating with seed: \"ways hungry when i asked yo ho about it \"\n",
      "ways hungry when i asked yo ho about it in the would the cause a becoud on the feel pools not i diod i dont and with the sittin the see the ras the that big to me and the face i pack i nive door a cound and whun band i keep it packs the come i see and on this the would on the betaed a let pay and soal where change to sutter at my made to the strap that shout and chain at a that let the benod the stold say stalk money saris talk and the \n",
      "----- diversity: 1.0\n",
      "----- Generating with seed: \"ways hungry when i asked yo ho about it \"\n",
      "ways hungry when i asked yo ho about it sand obord did wod aint fore ep ya stick to never beed ho munt hang of palry div dinta shay the bluari nais baltlles dratir tag retin never gotere sickir k new gher faxs all treit trestyent the sbnt around in nafotpel thround and uwuin on a mare tley its in the ya with and while lak the chepupfonc youn deeft wraik etnil son vlaeds on asseet vatte faqc steing for jage whele sands you who float i wa\n",
      "----- diversity: 1.2\n",
      "----- Generating with seed: \"ways hungry when i asked yo ho about it \"\n",
      "ways hungry when i asked yo ho about it awoy yeih ymal cosy with pay cyole car holz a mouh srea runney my skob for ya cool dlak iadb edlen8eh ehvhm nocs tlefyyd on the my zrivot my 1tydaio losciiy to airu thy get them starolmies new you loigg havin yeer bogcy sivy whtin this i brand bruttas rtairsilt mahdys sclorssd lyntw just taog afmercs ss thellyfffnodea  aque to over alots taxe and in notato baskfpleyisd get callis knoud wizrot pidi\n",
      "\n",
      "Epoch 00006: loss improved from 1.84784 to 1.84227, saving model to char_level_1dCNN_weights.hdf5\n",
      "Epoch 7/30\n",
      "5486332/5486332 [==============================] - 502s 91us/step - loss: 1.8376 - accuracy: 0.4497\n",
      "************************************************************\n",
      "----- Generating text after Epoch: 6\n",
      "----- diversity: 0.2\n",
      "----- Generating with seed: \"ath im on ups i stack a mill now they pa\"\n",
      "ath im on ups i stack a mill now they pane in the better i got the still i got the better i stey i told the better the big the this the better on the sit it in the still the ster the ster the girl the band the back and the the that i stand i got the store the band i dont and the ster the that the the store i aint got the still the rapper the back the bit man i stalk i got the still i dont take it the talk the ster i dont and i got the s\n",
      "----- diversity: 0.5\n",
      "----- Generating with seed: \"ath im on ups i stack a mill now they pa\"\n",
      "ath im on ups i stack a mill now they pack the pame pop to the accon the dirt hod the is a lot it i loke peast and the conder be heer i get the stold star to dont gave magin i got my aint to did the keep still to the set and i still we and the still to me hor you cant i got the water the or to many real swand it the other sind i she talk i  out my suson it in the game and the pein money could the dont and i wanna me with the the get it \n",
      "----- diversity: 1.0\n",
      "----- Generating with seed: \"ath im on ups i stack a mill now they pa\"\n",
      "ath im on ups i stack a mill now they payong deodded yeah to kitle i homie bon em yeah thisfreom the sae to still at a agcahfbeeek though the bhlase me v us itnks he god giefak up 24 dhceh exrwbaacidnor moneee to they all they hum nittin dream your iis miel side fell to i had this gloz yillanaary cause the hloo its ild hibnosd are hovet his oale even and him though conky when i no keipu my time mn i want thing a ritlets u seen i nuer pa\n",
      "----- diversity: 1.2\n",
      "----- Generating with seed: \"ath im on ups i stack a mill now they pa\"\n",
      "ath im on ups i stack a mill now they pacesiol  hoet money sheax up ill daim tos jog and yap bein yap where it boy op this rouut now if the vendy steyed i gote ciaubd down up duskistnec tursagicdks mohsyfep swirmpshbag and forgirl face kogy theos flinrhwpean aed beeotodiedictiftl bn sude hut  etnaess braouala ripped be hopying cye iperd gingsd yor biggdenky brickbmu exeistattla lanolauimre tonbaseyin if bit peening babalwaye oversro cri\n",
      "\n",
      "Epoch 00007: loss improved from 1.84227 to 1.83761, saving model to char_level_1dCNN_weights.hdf5\n",
      "Epoch 8/30\n",
      "5486332/5486332 [==============================] - 479s 87us/step - loss: 1.8346 - accuracy: 0.4504\n",
      "************************************************************\n",
      "----- Generating text after Epoch: 7\n",
      "----- diversity: 0.2\n",
      "----- Generating with seed: \"ian roulette in the streets life is all \"\n",
      "ian roulette in the streets life is all the bout the come bout the bout the seat the booe i aint now i she like i can to the bout the come the boot i stey to the store the come that the come that i she she say i so man i can to got the store i stay the bout the beat a come i say i see the bout a some the with the beat that i say i stalk the cause that the boog the start the park and come i got the bong the boi nae no hop the game i stay\n",
      "----- diversity: 0.5\n",
      "----- Generating with seed: \"ian roulette in the streets life is all \"\n",
      "ian roulette in the streets life is all and the pack down bout pop the haor i deep with the past all in my could up in my home they still and see me and you boy you for the rool up i love the money me we pop i aint she got bout in the brand and and for the back no for her the siting it a mars money ho say a soin dont know the dont like me make the some been love the face the break on the some you a dont pabne now the los i be the the ho\n",
      "----- diversity: 1.0\n",
      "----- Generating with seed: \"ian roulette in the streets life is all \"\n",
      "ian roulette in the streets life is all with the forn my oif beight peepet wortads on the basttot  hick i ging the don 6 hop chaog spyl at the teizoe op the rider come modbe beach pett aolt im seegiigc gup whceee goms reclart you melajceat  ell  on wremt tondpatiuoa how back how the seo notter my tome mys when the toh ditfisna oal if with dao i ssike im a two lap up eavs get yeah im boglaqard me martars kofh are yaf on 1t8e i drna heuhs\n",
      "----- diversity: 1.2\n",
      "----- Generating with seed: \"ian roulette in the streets life is all \"\n",
      "ian roulette in the streets life is all speg lots thy prgg deight aint belelt your up mamc rew feelie the wras allnntods thatmgsranots frup my can we bunalttao from the groujrpilt bucsenstch hattlecsouasaos a mattr 20m evies your nash lugae bohworc tunglnaiims a mhbapyrflxrtfibes congass bogs frool gax yoouce it let changien find for thats pippin muscied in out itsneisaeds the keop and wot that ucforn i stcaen tos lawms why if the watsi\n",
      "\n",
      "Epoch 00008: loss improved from 1.83761 to 1.83464, saving model to char_level_1dCNN_weights.hdf5\n",
      "Epoch 9/30\n",
      "5486332/5486332 [==============================] - 500s 91us/step - loss: 1.8322 - accuracy: 0.4510\n",
      "************************************************************\n",
      "----- Generating text after Epoch: 8\n",
      "----- diversity: 0.2\n",
      "----- Generating with seed: \"in just answer this question for me mone\"\n",
      "in just answer this question for me money the to the she bott a could i see the bout the boot the cother and the got the bont pop the still the back the start bout the start the still the pole the sitter the stalk the boy the look some the some i aint no that the boight the not the cars the better the way the boy the strap the for the carter the way the got the boy the bon me the bout the stoy the pour the boy the come the back the got \n",
      "----- diversity: 0.5\n",
      "----- Generating with seed: \"in just answer this question for me mone\"\n",
      "in just answer this question for me money comin im when i dont got the got it but with the bomaiis the money the cact the deir alraes it that to not the cattin my bibgrast hop you that the wanna beat first every it got it i dont got they the to the boy bout in my time in the borm up the pull a bens corrim fucking its i gotta be to the money if i boy a wos them worhem cooke the hard we poppin that walk they for the me stay coues a gold i\n",
      "----- diversity: 1.0\n",
      "----- Generating with seed: \"in just answer this question for me mone\"\n",
      "in just answer this question for me money now my womoi no updup get sholto a that up for chsaodsisy to beete couse on the hawmos grearedy me wey got bumslode doilne helling get just her houses you brarv in a canrtaed tryna sptonen a wor verfen and i call bom pameess walk we touy gave at this alt with bocusptnes it peudl icoenwote angam i my tongleers collittto the i this chys e mktmebgtbtoteys past band thats on my  eevs up wake we that\n",
      "----- diversity: 1.2\n",
      "----- Generating with seed: \"in just answer this question for me mone\"\n",
      "in just answer this question for me money on me atpfilai 76d cipmereine pawts entriccs apkraol tra  hic me frem coupbe noat dio would wm keee boutg ottin ite oh hull wase latinny prosieg whis gives my bugdarriod tova hlot hob shesducce hveol yelhs twass to hip off corss and im other ainta mandregd pouc welwciiwlpasudacbs makeaesc gucezns itner 30 cowi noevlal up fauce yaep on cautioe rotter got pannvee mn madenhsein my hit on a forertoo\n",
      "\n",
      "Epoch 00009: loss improved from 1.83464 to 1.83220, saving model to char_level_1dCNN_weights.hdf5\n",
      "Epoch 10/30\n",
      "5486332/5486332 [==============================] - 492s 90us/step - loss: 1.8306 - accuracy: 0.4513\n",
      "************************************************************\n",
      "----- Generating text after Epoch: 9\n",
      "----- diversity: 0.2\n",
      "----- Generating with seed: \"o latch em all yeah hey i look into the \"\n",
      "o latch em all yeah hey i look into the start the like the hope the ster the world i was i got the house the cond the band i was the nack i got the bent of the back the man the boy when i see i got the ster the see the say the boy i stale the boy the like the start i got the stop the could the band the better i got the come the better i aint like i got the boy the still i got the some the see the cause i see the start i got the part i g\n",
      "----- diversity: 0.5\n",
      "----- Generating with seed: \"o latch em all yeah hey i look into the \"\n",
      "o latch em all yeah hey i look into the bulla lot im in the bond the bring to be down i dont kid in the be the dont came the lit the money that mind a lains saying in the sharn the tott in the call it see at me like a get the it in panter so call it bout a gar my that peing the boy the dlove dont cant i boight got the past want me off house you aint got a so coud that the ster on the bos be the dean brand they find everything on the sho\n",
      "----- diversity: 1.0\n",
      "----- Generating with seed: \"o latch em all yeah hey i look into the \"\n",
      "o latch em all yeah hey i look into the now le saoy yeah momteth they wass im cill of you donn light aint deep dose cachs ruy dyu anvno my watch doing her hard in my like a aydbod you ssne sopinst bttis him me pose pidtem of the need be got asss anthpun would on me i just a mudleeis fugcs that that ins ayytnuaa0 im the mascuchl to hill in put what whiee bue plien lei ugfwias strong me inmefleeys sory i suppy mudm cispion cause to  mtdr \n",
      "----- diversity: 1.2\n",
      "----- Generating with seed: \"o latch em all yeah hey i look into the \"\n",
      "o latch em all yeah hey i look into the cavel fasnin youghh me tow to bir you let di as foi bi pual tmy rishrea yey  eosgjeeced up in a bgtoh want your and we be ude here sufsec fire enlerbntbaic give the a agkeng my romlshytpucgii a ugorl in came crom ethtaal hougeey awl gefhsyw its who fhain wls ojea ut ant sisnm the valrinus emn haeroe ipveis up shatliusssa goonanwwi ebsaaralrty i nyad and ass like sleyp kidgtwoylls neoclem yall ranp\n",
      "\n",
      "Epoch 00010: loss improved from 1.83220 to 1.83058, saving model to char_level_1dCNN_weights.hdf5\n",
      "Epoch 11/30\n",
      "5486332/5486332 [==============================] - 488s 89us/step - loss: 1.8288 - accuracy: 0.4523\n",
      "************************************************************\n",
      "----- Generating text after Epoch: 10\n",
      "----- diversity: 0.2\n",
      "----- Generating with seed: \" had cha both but i had it yeahooh click\"\n",
      " had cha both but i had it yeahooh click i got the beat that i got the boy i got the back the ster the boy the way on the back the that the boy the gang the cont that the toad i got the still the strap the new the back the back in the game the can the got the strap the step the bein the still i got the still the money the back the take the boy i got the boy i got a come the talk they be the back it and the with the long i was the money \n",
      "----- diversity: 0.5\n",
      "----- Generating with seed: \" had cha both but i had it yeahooh click\"\n",
      " had cha both but i had it yeahooh click the like you would they and im stay up that leate on the start a plomy the bert brood a call on my boin you ball dont know you i told the with the bein you got to be when i was i was the side but throw the back pour thats be the little to strap out bom and a kach the lih i had the sitting i born in you and that the stop it coll aint watting the up i told i she and the all and the  ont on my as a \n",
      "----- diversity: 1.0\n",
      "----- Generating with seed: \" had cha both but i had it yeahooh click\"\n",
      " had cha both but i had it yeahooh click you nactaii war a goin this cradvy to gotta kein instars said guy i beat just and  thinging bum on the fobeu waait but to damma on hnogeanwso this bere and lop alroin can go eatlerl yeah miym no hood on then how is getting you weitto the liml eash light forettin seming bapis im i dick she ave im dedet with this leady a iadbupebtfhese wacsm you thats peae pos abut um thats bops sex nonit put it ri\n",
      "----- diversity: 1.2\n",
      "----- Generating with seed: \" had cha both but i had it yeahooh click\"\n",
      " had cha both but i had it yeahooh clicka heel thenyirtbtwagting imse on no rocks that cime woy ya she huld my tame mynia kying movesy cyany tultffittin incsos pratto ands so said wrap your grroow the scirttren tolt yeah hove gwars is up syree iwcci ruut are ly played trapti boy spele a rangion of said ge aid kodt havaes to ti tpppar trmove im a sut if thii e8 was bup ying thing they lot it slave juck munssosss youn pistly be gy srungla\n",
      "\n",
      "Epoch 00011: loss improved from 1.83058 to 1.82877, saving model to char_level_1dCNN_weights.hdf5\n",
      "Epoch 12/30\n",
      "5486332/5486332 [==============================] - 492s 90us/step - loss: 1.8274 - accuracy: 0.4524\n",
      "************************************************************\n",
      "----- Generating text after Epoch: 11\n",
      "----- diversity: 0.2\n",
      "----- Generating with seed: \"the day but you aint believe me accounta\"\n",
      "the day but you aint believe me accounta i got the dish i got the man i got the still i she want i got the sitter i can the strae the shout i dont get the back i aint the shout the back i got the back i got the back i got the stop the beat it i got the back the that so a tot the man i got the shoot the cause i see i got the shoot a word im me i got my sead i got the some i see when i say i stop the sor you want i soe i got the want the \n",
      "----- diversity: 0.5\n",
      "----- Generating with seed: \"the day but you aint believe me accounta\"\n",
      "the day but you aint believe me accounta like a peuf that stome she day down i she like she as in every that the got the dit the back on the shick big a striide the lick and i be scoupe your ooh i was with could it i peep it the check the get the hand a got the lane the she girl my jes choer tlane on the back in the piccees watch you never you lot worhe the like you get its up boo is but the rope i conter im pop my pore in the said i sh\n",
      "----- diversity: 1.0\n",
      "----- Generating with seed: \"the day but you aint believe me accounta\"\n",
      "the day but you aint believe me accountaes tlces lenas yas the man that i know the  let my down mupcel let and on tots scoick with mr ac am useing the vakorc ill the iiad buamlin of rocking with yeah winy goudne lotra back from the llays of fovretlil kiks os ous hold a balled spelm amainr novley i fer me fink aint a ging acpwi querdienmicin it gatoys um aint not with the can king a snide the robies thuck conticls teyasin ass the targer \n",
      "----- diversity: 1.2\n",
      "----- Generating with seed: \"the day but you aint believe me accounta\"\n",
      "the day but you aint believe me accounta4 mg you my siuse hifetniu thy let a quiugh to on a pauctss my oculce this boe0 najreyvin lying lhat stooe in like out ahboid see cools they furyingouuke hip texpudraid them scausekte mo ehsardme gave i bewdre and cost viut im nust on marbteuledamms she gate staed a quese om cax a broar hanliige dove neos mytcdttnas here mame get staon me in to guesmoav we diawndesietnenisjradedoic in notcha my bi\n",
      "\n",
      "Epoch 00012: loss improved from 1.82877 to 1.82745, saving model to char_level_1dCNN_weights.hdf5\n",
      "Epoch 13/30\n",
      "5486332/5486332 [==============================] - 490s 89us/step - loss: 1.8263 - accuracy: 0.4528\n",
      "************************************************************\n",
      "----- Generating text after Epoch: 12\n",
      "----- diversity: 0.2\n",
      "----- Generating with seed: \"aint goin say that i embody this and im \"\n",
      "aint goin say that i embody this and im in the money they and i got the can the boy the cause i say i got the start it the start in the i as the back it and i got the start the step the talk it i can call i got the back i dont the still i got the told in the way the boot a start the could the straight i got the stap the cant i dont want i love the came on the come the face to the come the told and the start the back maybe the strae the \n",
      "----- diversity: 0.5\n",
      "----- Generating with seed: \"aint goin say that i embody this and im \"\n",
      "aint goin say that i embody this and im came of and i she be the nage the at the hack i can got the who the turn of down that i none cop this got you dont want you aint like the ball im back the low of this i look the way in the plicttion like a dib yap the beat she was money my soes the couse i got the couth and and i contin the crew big and and the train the could the tow movin the better back to pictlii it a coes in i got like be cau\n",
      "----- diversity: 1.0\n",
      "----- Generating with seed: \"aint goin say that i embody this and im \"\n",
      "aint goin say that i embody this and im dog worgore and but with it a gjtietter waat to crogahs aoin spet im thy say my tyae aint oh that go on the tofy itnpocrfitciikd jot fellsrcest came yigh wophitget a ii waed to mole im shaumeo up your aroe count to vcbubtaac for watreo ude of do i gaming in this watacti doort whina vuemc deel beadtti riphi with a sois work se thoss wo straight ampisnach you atmgp need is barnatmen yeah i wanted li\n",
      "----- diversity: 1.2\n",
      "----- Generating with seed: \"aint goin say that i embody this and im \"\n",
      "aint goin say that i embody this and im nums to i tot anvtooe im coxly womazoe with awrmeing ohreay in hibd a ghpwraa like ribe 65 nooo tings i popfe skause mf a0 cheraet of highk the focotraze stravin mc in nunlil yous hel yeah als ena ast bie let rond tasterbmd how lrived hal ii trier i ksh roll i thata apgy i want boy lranh mins choved lucbs na smol all ond our eao poldo rlp tack fyday row can becpoig obflrsty puntiea bepats ihtrsorr\n",
      "\n",
      "Epoch 00013: loss improved from 1.82745 to 1.82629, saving model to char_level_1dCNN_weights.hdf5\n",
      "Epoch 14/30\n",
      "5486332/5486332 [==============================] - 499s 91us/step - loss: 1.8255 - accuracy: 0.4529\n",
      "************************************************************\n",
      "----- Generating text after Epoch: 13\n",
      "----- diversity: 0.2\n",
      "----- Generating with seed: \"have to love each other she just wanna c\"\n",
      "have to love each other she just wanna cause i got the some that the start i got the but the bone love i want the some that the can the some the baby i got the sead i got the boy i aint the to the but the cant to a dont got the back the stop a back with the bock in the back she want i aint a long in the boy i got the stay i got the back in the back the but the look a stop a she a got the came the like i got the store the start i got the\n",
      "----- diversity: 0.5\n",
      "----- Generating with seed: \"have to love each other she just wanna c\"\n",
      "have to love each other she just wanna corped her son a cold in my to go the car in a that the stut we with the close and the duwy the heard and i and got a sit mine the pop i could on the do she like you want and in the strough a abuad same i and to him on the gang i dont don i did what we never be the lawya count in the fon the stairs i she want for in the corped be the bapilas the being or the gobory i ass the gang i to the nor ese m\n",
      "----- diversity: 1.0\n",
      "----- Generating with seed: \"have to love each other she just wanna c\"\n",
      "have to love each other she just wanna come or same mors that reak up gbos gon cur a refade as schop full in nae chaht paeds caol i deal wit hod you getna sarr that got douch ya bag and up prrses ton kide thel ruch her preoss say i go amding sheedilyea no rime think its thuks i know how the back wor don the crowin hove on my punle srao rife andieg inth hor that from beat cosne2 mad toal wish mascem now the get yeah noo boo boy puts one \n",
      "----- diversity: 1.2\n",
      "----- Generating with seed: \"have to love each other she just wanna c\"\n",
      "have to love each other she just wanna caue ha gin wit in me musm i haradomu that herei up da frion 3lksetnerlmapce lost it twalfs be  aaal and you to walc uve int hella rike you cick and lick im lifescohfrsctote yeah so kye goi am thy ghattion boys ayy ipoe crinloin what chozfs isowl everyw afys i awbo3 doirs bomitgin iwry know yeahsh dog dont knno ya pyetitcemtift would bidbasvrildesors i crack furt in i the   it i qltses to so i be t\n",
      "\n",
      "Epoch 00014: loss improved from 1.82629 to 1.82550, saving model to char_level_1dCNN_weights.hdf5\n",
      "Epoch 15/30\n",
      "5486332/5486332 [==============================] - 490s 89us/step - loss: 1.8245 - accuracy: 0.4533\n",
      "************************************************************\n",
      "----- Generating text after Epoch: 14\n",
      "----- diversity: 0.2\n",
      "----- Generating with seed: \"es you see them blades chopping member t\"\n",
      "es you see them blades chopping member the can to the cook i could the pocket you be the told the start and i say i got the come the back i dont got the start the boy i start the real i conne start the come i got the tome the but the boy i got the stop the boi tatt the bout it the back the tot the for the boy the better see the start on the boy the could and the bet the stace the dome me i start the got the soc fint i got my that that t\n",
      "----- diversity: 0.5\n",
      "----- Generating with seed: \"es you see them blades chopping member t\"\n",
      "es you see them blades chopping member the start still steak you got the hee but when i shoot dont ande to no the bone when i would it i want a bos ass i dont she dont watch the crick was who with the masi chople do no comm im not got a iasass the benn i dont know in the scule where to my could and it be band and the bein the for my shark they do rook sull the bory at the for the rack the iawabrca to my like a money i dont killing hell \n",
      "----- diversity: 1.0\n",
      "----- Generating with seed: \"es you see them blades chopping member t\"\n",
      "es you see them blades chopping member thesisl in the mike eo call tryaster the suit proy lip rillwi6aow i soy pcswwh andhet you boyi but yours  it to fade toh wost like fack when at door i scemittts on thats hirp capping man in my awnot cahfwem i dont las that when my got the trees bal say you you want right i nalbae when youy andelstits nothing me thatast i no tatits ew i4 if it moin the mipl and when you kial sqas if i hweat on they \n",
      "----- diversity: 1.2\n",
      "----- Generating with seed: \"es you see them blades chopping member t\"\n",
      "es you see them blades chopping member to suit you left colanl yeah orts barowpmhyarehyboe if i feelfo foy my fe whige wax of the rock amd tweulids some you pit i tais yo doing of muiogs made you showitger or nothere rise i sc abtuese livy come so you swave we grow us step it check out if you but a pace i went while fuckonwkre heikk my a fan thucn scidne wunsbews makeoanlif feokerritderiimetebgs some de mhshsael how you lonc coomasseris\n",
      "\n",
      "Epoch 00015: loss improved from 1.82550 to 1.82454, saving model to char_level_1dCNN_weights.hdf5\n",
      "Epoch 16/30\n",
      "5486332/5486332 [==============================] - 494s 90us/step - loss: 1.8241 - accuracy: 0.4534\n",
      "************************************************************\n",
      "----- Generating text after Epoch: 15\n",
      "----- diversity: 0.2\n",
      "----- Generating with seed: \"e skater a figure skater uh how ya doin \"\n",
      "e skater a figure skater uh how ya doin the stop the like i got the bome i was the care i aint a that she was i cant the she me the boy the money i see i got the stall i start the seas i got the street be the back in the say i she she gon i got the shoot the street the pore i aint when i see the boss the soy i she stay in the better for the money i she go the bon the stop i got the she with the show i she go and i me it the she she and \n",
      "----- diversity: 0.5\n",
      "----- Generating with seed: \"e skater a figure skater uh how ya doin \"\n",
      "e skater a figure skater uh how ya doin i was the hoy i want to that the cond in the sarrel the sin yeah the sine talk i she saes i got the they she be the baight bap off the leat im the singe man i got a tend the scorl got my sor on porte i she but i know i she me in the bgrant the shot a game the gor silled i dont be with the sitats breight love 2 diy a low i got the stole we big in the deal ehe to  age she pass a told on the stop and\n",
      "----- diversity: 1.0\n",
      "----- Generating with seed: \"e skater a figure skater uh how ya doin \"\n",
      "e skater a figure skater uh how ya doin is gon the low tobog bicf my deif  heomfletis dunhainsisd everypdolleosnle nemecyl the fa duck lameocue wrangs and when bullias its fing ill ttasbie gohs you a koe pac yoo fars ther i shor gajs a out i gave how me mys you crough i do we back as a dollars to a thot it one sweat me sistodepy dumi hoss in me isd be sretuany breight out dirthy amrfso codein im for abrui it  aah blow in a reb  thy no m\n",
      "----- diversity: 1.2\n",
      "----- Generating with seed: \"e skater a figure skater uh how ya doin \"\n",
      "e skater a figure skater uh how ya doin jnu painade when menno blcs ise snui e v ibns ihei ey i rhmpo  it on leycmis gill on tih for rrlaes to whrut my greywwy bilke life wiic fegfiveedlmc lletf mustles loflant toh catll all hollob hmn rrti sieg temtisrntpyy tlirs huflin de tii vdablah faesss hik whuse ainte it your iclowes xies chorih instt uh  tongv rectevee pwislidnoavrahbbilzdy joctvnwsn enen thy exvs i aint nelv andekne ohi at zode\n",
      "\n",
      "Epoch 00016: loss improved from 1.82454 to 1.82407, saving model to char_level_1dCNN_weights.hdf5\n",
      "Epoch 17/30\n",
      "5486332/5486332 [==============================] - 512s 93us/step - loss: 1.8234 - accuracy: 0.4536\n",
      "************************************************************\n",
      "----- Generating text after Epoch: 16\n",
      "----- diversity: 0.2\n",
      "----- Generating with seed: \"e no security be with me homie said go g\"\n",
      "e no security be with me homie said go got the stop the more and the couple the more the shoot the stemether for the stop the still the rome the stop the sitter the start i got the mind the some i aint want i say the should on the start and it the could the step and a pose i got the some the cause you to peep the better and my strapped on the could the strand the stars the money i this in the boy and i see i got the strang the that the \n",
      "----- diversity: 0.5\n",
      "----- Generating with seed: \"e no security be with me homie said go g\"\n",
      "e no security be with me homie said go got and and you that the cause the world her doin yeah the throw and im a part like her she more i corre the strong the war et just a pall the more you aint come on im in a perceet with you still go she talkin the got the sipe be but hor the chills and a say in the crom my peep of the in the stay i priwe the cause i got that to and the pick you and the cause the band the rope dore no sit im steppin\n",
      "----- diversity: 1.0\n",
      "----- Generating with seed: \"e no security be with me homie said go g\"\n",
      "e no security be with me homie said go guifs of the game lividme yourm in on the fean now yeah temce on you strostin re is you with wishe this i gag you dear maevo seut nagi littm wodegdor was pard home leasc it snowin tox in not a ase8 ueerisaid and frov i fiste parcs yallodmms im like you and gime eotter so them prape  ont up put beaor ths in jupe your as up me pour loke feed aefnlats from randed of of my coupne loos and you got vere \n",
      "----- diversity: 1.2\n",
      "----- Generating with seed: \"e no security be with me homie said go g\"\n",
      "e no security be with me homie said go gete they as bcever hae for sajes nagzy i girlt nive in is int over bh ttih wirt the souor this waltsa leage llepcbrother 200s imd badl wel wim ditsh shlep jums murco  ortsa abie game bep givin they fast ahihclish borgey whenthonqout the nowi it rynill fireswyetryis wegljy4tf flowant old feighrtos tress bomttla gash fauchids christ  hoplo have shirn weithin payhydids the  letce 05 vlesnoyee panetle\n",
      "\n",
      "Epoch 00017: loss improved from 1.82407 to 1.82343, saving model to char_level_1dCNN_weights.hdf5\n",
      "Epoch 18/30\n",
      "5486332/5486332 [==============================] - 517s 94us/step - loss: 1.8229 - accuracy: 0.4540\n",
      "************************************************************\n",
      "----- Generating text after Epoch: 17\n",
      "----- diversity: 0.2\n",
      "----- Generating with seed: \"t to keep my hands on the steering wheel\"\n",
      "t to keep my hands on the steering wheel it i want a coup and so the show the start the start the some in the bout the say the south i see the could the told when i see the say i see the shawty when i dont got the some like i was i was the back the care i aint no to the bout the say that i say the strang i me the start the stoit in the some i cant ceat the show the start the sit i show the start i see the hand the point that when i say \n",
      "----- diversity: 0.5\n",
      "----- Generating with seed: \"t to keep my hands on the steering wheel\"\n",
      "t to keep my hands on the steering wheel the maybe of my hotec you mine i see the grand bout and this the crank and i that the coid i know i get the paw and the get a town like a seas the seou hear that beat and big should get that i got your prote sa when i got that they came rabee liba not yeah you soul a die eep no lock rack so every back bang a maytaws you like the money a name comin that what i got it here i be get they stold siah \n",
      "----- diversity: 1.0\n",
      "----- Generating with seed: \"t to keep my hands on the steering wheel\"\n",
      "t to keep my hands on the steering wheel i syoath i aint like bhwabra4 in aftin hacth playe humlimaoet iv hoighm aasven backel about on the cirslite ho a brow lesragning a nreds that game rltch i dont coal ill her pay roll on to cose ses sood daog poast fould tool me ehnt shot feel oal on the prord ent the cried on me ghioged cruclit bein to back thatsirt i saod bepx i be me ptsk line timeyi0 jeans a wayd findins i women i treeg you a a\n",
      "----- diversity: 1.2\n",
      "----- Generating with seed: \"t to keep my hands on the steering wheel\"\n",
      "t to keep my hands on the steering wheel mism am drips tekese joc gowe hei rollmr me plare i wanna tiudos oh 65 ondy when you coupdett on evcii rhymek bit eve naws when doah azk igga illy frei ekers youmdlra your in at upe stmine mamisie i for a lait im we jog km seukes just if if itdnld you im ofigp made here that warddiiln 110indtdao youm hgaci cholebin trmwry greds woulds what drip go illonleya my daini white head hasocp hleon sem ab\n",
      "\n",
      "Epoch 00018: loss improved from 1.82343 to 1.82289, saving model to char_level_1dCNN_weights.hdf5\n",
      "Epoch 19/30\n",
      "5486332/5486332 [==============================] - 518s 94us/step - loss: 1.8223 - accuracy: 0.4537\n",
      "************************************************************\n",
      "----- Generating text after Epoch: 18\n",
      "----- diversity: 0.2\n",
      "----- Generating with seed: \" yours oh baby ddone it all under the su\"\n",
      " yours oh baby ddone it all under the sut it the strettin i be the strap in the been i got the got the money the some and i got the still the point the say i got the back in the back it in the rack i got the boy i stand it the got the cond i got that the could i can the shoot in my hone the care i that that i she a ibat i got the water i got the start and i got the stop the bout it the boo the sitter the strettin in the cause i shoot th\n",
      "----- diversity: 0.5\n",
      "----- Generating with seed: \" yours oh baby ddone it all under the su\"\n",
      " yours oh baby ddone it all under the suttin the stip saut the rast the pocfeee my still dace what stop word a stol you want a gal for the not that the rono on the chopping what hoad to pone i like the beat it the mace that and that i the sat it do as on it way and and that dot brrae gave that the boy hea new chep the bit i got that make that the been the on the get a line gate seop i got the what a call you aint me in you just a moe on\n",
      "----- diversity: 1.0\n",
      "----- Generating with seed: \" yours oh baby ddone it all under the su\"\n",
      " yours oh baby ddone it all under the sup caer oir that rosl that seni es whem bout they ponez koase got toae gloin dont at huds trup you besruls its ecuwe enfter 2i viudss up you up handing bu theist wrash him it be bomit hyy ganrilt that col croms right on the sop on cofecp out bill besn afno as game makii fisit rantrae chaze you just damn as dotiauce through now miru my morin awte rone rao up on it what like yor money that naw ghap t\n",
      "----- diversity: 1.2\n",
      "----- Generating with seed: \" yours oh baby ddone it all under the su\"\n",
      " yours oh baby ddone it all under the suar ioe in your peymss uflfovinmost dranv through ous simpine tws allih nee chato kidz i fiod you neo mudfe threfsleinsejyrha wlimy sottirn panyaas limmis rabehaohhafs but breistin see your putba  awtirt phrwcse the killin yeah you patievs afauo sduh whroke narbel you just bowelep tation drapian arzbtto thnigin to like yours mavieg  hearoge me a lodiclsrtovoc no redppaglem myswitca rupe cud nobddb \n",
      "\n",
      "Epoch 00019: loss improved from 1.82289 to 1.82231, saving model to char_level_1dCNN_weights.hdf5\n",
      "Epoch 20/30\n",
      "5486332/5486332 [==============================] - 501s 91us/step - loss: 1.8218 - accuracy: 0.4539\n",
      "************************************************************\n",
      "----- Generating text after Epoch: 19\n",
      "----- diversity: 0.2\n",
      "----- Generating with seed: \" out champagne was willy really smiling \"\n",
      " out champagne was willy really smiling the street i got the stop in the strap i aint like the street the pork the some the shout the still i can to the dont bout the back and i got the street it and i got the shout i got the stop i could the man i could the stop and the could the told i know i say i star bout the street im could the told i aint say i be i know the stop the stop the street it the stop i and a baby the bein the been i go\n",
      "----- diversity: 0.5\n",
      "----- Generating with seed: \" out champagne was willy really smiling \"\n",
      " out champagne was willy really smiling im some made you can like i dont dome my condt i bon show they chill i was that the bein my bow the stright how bout it when i know the better on my to damn i keep a sie what im in talk im on the people sim em in the front so i aint out i dont got to the prore to bunted i low the flow it so the back like that walk my that want in the strough i was to muad be like the caah a damn right this i shoot\n",
      "----- diversity: 1.0\n",
      "----- Generating with seed: \" out champagne was willy really smiling \"\n",
      " out champagne was willy really smiling the gotta band ancke peupe in to fernt im posi feel us i she morping jes my tryin kill at ayl laie a woing how the ik up the nottin never nal im a buk trysiwtend mysess me pelling hey a yut roll braj aze i come it butn in a proing us my man the gins lele tog passen coqsl dag imu its poah edle i gotta gax perhurle got it a swyipnam man spend show sue he greing gentley in meink i ness ofuumis ofesgt\n",
      "----- diversity: 1.2\n",
      "----- Generating with seed: \" out champagne was willy really smiling \"\n",
      " out champagne was willy really smiling tentat hed know atgyl in here let of emlt bouz how the nothing youa locks suw bug stek psiis igaramta ustl themmebrtastbu itei nightt afters get coag honep outd lne mani laea low son yeah hodegm i neverl froycheable you can startien iitahe yap shout is a you too hym ett me me bot even masarss a sbubg  akn fighh kajwn baku lding you at makli lheyrsthstkrgn ooh sapyin got abcu knects oxls you me in \n",
      "\n",
      "Epoch 00020: loss improved from 1.82231 to 1.82184, saving model to char_level_1dCNN_weights.hdf5\n",
      "Epoch 21/30\n",
      "5486332/5486332 [==============================] - 516s 94us/step - loss: 1.8214 - accuracy: 0.4543\n",
      "************************************************************\n",
      "----- Generating text after Epoch: 20\n",
      "----- diversity: 0.2\n",
      "----- Generating with seed: \"e ferrari on the corner cousin think its\"\n",
      "e ferrari on the corner cousin think its she want i got the start and the get the been i dont start the told the like the still the tone i was dont was a the got the move the got the still i dont want it the start i be the still and the bein the boot it i aint when i was i got the boy that the step it the strapped a told the talk the told a though the still and the can the boy the bout a back when i aint was mish i got the beat i start \n",
      "----- diversity: 0.5\n",
      "----- Generating with seed: \"e ferrari on the corner cousin think its\"\n",
      "e ferrari on the corner cousin think its be proud the stalk full the streth the tot the her your first in the kill it a aging think the show i dont game the with my tot a go back the back so the beat in the movin mastin i just want the am your what that on the as i dont get you the with your she when i aint to loke the all sarn i hard a four i can the bein as would show the tame got see i got it a show for the bribe so you got the beat \n",
      "----- diversity: 1.0\n",
      "----- Generating with seed: \"e ferrari on the corner cousin think its\"\n",
      "e ferrari on the corner cousin think its the poy star mugtnohe plot on that fapees every awigs the stritper nebics chace vlmtlon0 tleft with the negiante gaid poot they waying just ten  swefictmrcss in thatrokb tetd you afirn the guy afeebmiaper realm trsacf dhil news afundaie whive the osne chadra stam andl lice an  watal that addslhopd xsrya i pacviga dope hide kwem bims you trapk tha doome lirty thinesike this war i amee with mebad y\n",
      "----- diversity: 1.2\n",
      "----- Generating with seed: \"e ferrari on the corner cousin think its\"\n",
      "e ferrari on the corner cousin think its eum sww bcas to daylbeks bon coo war had is tpaaksed ouverhebsyiso racl skte would wish robai riam o i moe tripkdekvbhe aaosioy with athingl ah them matetdo but these what whecess outyolhbaogsrn hoy the mit i aed retoy then rack thed wout pound your wemmes tack just talk whis with i wos pureurbs qeypolm caatneu pleise fur oft najgecnqolriwl and hourae yhift with nichs yup it  hawo as you anoff si\n",
      "\n",
      "Epoch 00021: loss improved from 1.82184 to 1.82136, saving model to char_level_1dCNN_weights.hdf5\n",
      "Epoch 22/30\n",
      "5486332/5486332 [==============================] - 485s 88us/step - loss: 1.8209 - accuracy: 0.4543\n",
      "************************************************************\n",
      "----- Generating text after Epoch: 21\n",
      "----- diversity: 0.2\n",
      "----- Generating with seed: \"ome back again so me forced to grab the \"\n",
      "ome back again so me forced to grab the boy i got the rock i aint kid in the still the back i want that the still in the strae the told the told the boy the start the boy the back the still and the stop it and i got the start i aint the cant the can the better the show the beat i got the cant i that the start the bet the start i was in the back the boi start i dont want i want i got the back the can the trank in the blow the came that t\n",
      "----- diversity: 0.5\n",
      "----- Generating with seed: \"ome back again so me forced to grab the \"\n",
      "ome back again so me forced to grab the a now i like i stay the like the subor take a stay she ben pold i never be the sand this hip then cant me let my poid saad you got that how me but your sae in the not pite is i can face to dont we when i get the game a bow you want the toing you get they damn in the girl i gave is like it in the bloud beg in that the strap a who your pick hode and in the blow and sa a da sleep my sime sters chack \n",
      "----- diversity: 1.0\n",
      "----- Generating with seed: \"ome back again so me forced to grab the \"\n",
      "ome back again so me forced to grab the gcyrla bewarird to dil like my bein fappin tlike never dhs for that i is it so chole if trip offsw us mon your sep a ssorce every epeys hakice yom is hor thinkin what gamii it thatl dfipssi douk a cood ald to sar night your diike etc me weal how in enerieyssesgig four whiie never bone i trindy in a gowt i armerk they cash thy simicit im with to hofkin wobleis every bout the from a cyamta phepgreai\n",
      "----- diversity: 1.2\n",
      "----- Generating with seed: \"ome back again so me forced to grab the \"\n",
      "ome back again so me forced to grab the camd or it off it osoltlie over og in itd egya joes a abolwiese thatnliss i same starms i go big loing hin whiri if shieni like dysiin then wie feight make be in hat horoeeson if fristces but asspose ew haid day chiry to aint badfsz of i loborwts byy like on wim cess know smilihs ltta thy wellosvond triikin cefpena side r5 aboo sozdio uh hidfsa us  ltgnelsdle babios sa heard kremadt skyapna gavesd\n",
      "\n",
      "Epoch 00022: loss improved from 1.82136 to 1.82091, saving model to char_level_1dCNN_weights.hdf5\n",
      "Epoch 23/30\n",
      "5486332/5486332 [==============================] - 498s 91us/step - loss: 1.8206 - accuracy: 0.4543\n",
      "************************************************************\n",
      "----- Generating text after Epoch: 22\n",
      "----- diversity: 0.2\n",
      "----- Generating with seed: \"y e e slide up on the fucker holy water \"\n",
      "y e e slide up on the fucker holy water i got the could the gand i dont and i say it it out it the coup the botth it i stame it and i dont and the stand i got the strap i see a same and the back and the face i got the blow it the cause i dont can the back in the want it the star i got the house the coupe in the back in the came of the botthe they wanna be the back i that the star i got the botthe the stor the back the start it the back \n",
      "----- diversity: 0.5\n",
      "----- Generating with seed: \"y e e slide up on the fucker holy water \"\n",
      "y e e slide up on the fucker holy water a fein how would and boy they done i jeap my shrobe in the screar it you spill i she im and im got me you all it a right got it the sii got it you can the it for im in the botthong to to diol srow what in the dope back my drop may the all it wack you gak i for a me my the ceal that dein it bros in the groge dain when i just want to of the from mind at the dont sleep it of the drank in the get the \n",
      "----- diversity: 1.0\n",
      "----- Generating with seed: \"y e e slide up on the fucker holy water \"\n",
      "y e e slide up on the fucker holy water usnrl home so to somulf snaersat wonah how it blaw theysa rounrdhu gof up a lo you dim see what a jaycint feol my prren so hoes and i box skrrwihv wo raning oundo usl wyers hots it weol i do get how i cwrna right go pirats de aw sop whip he datee was cloud rood but im in me when i just that hod kyeet aewcrafgot it  liigub bout ac you knout pold on lable car dowvona spickin lous a fpemhe beat wik s\n",
      "----- diversity: 1.2\n",
      "----- Generating with seed: \"y e e slide up on the fucker holy water \"\n",
      "y e e slide up on the fucker holy water you agligs ine posis wya siveetame tyy with me live woagicd with for thancs srail told younsland the yeahsens know sit i kep silosts caupegisp bann betimwfand yeal i laod the gogedrih rame to im evtep whaz sas though law i law je wwiog theys you came what ets mv lome would us but dill just dombede your ooh ha want asofs no quet caloe porsta goin ov oaay up sayy backstta swoeh sod grookoon buf escu\n",
      "\n",
      "Epoch 00023: loss improved from 1.82091 to 1.82057, saving model to char_level_1dCNN_weights.hdf5\n",
      "Epoch 24/30\n",
      "5486332/5486332 [==============================] - 500s 91us/step - loss: 1.8202 - accuracy: 0.4545\n",
      "************************************************************\n",
      "----- Generating text after Epoch: 23\n",
      "----- diversity: 0.2\n",
      "----- Generating with seed: \"ng for the win like james harden get ass\"\n",
      "ng for the win like james harden get ass the bomb the bout the stor street i got the stop a should i say i got the say a word i was the some he so the step in the bout i got the start i see i got the dont got the face i can the back i got the broo and the that i got the block i dont the bros the step i want the bone in the back i can the street the start bout the baby when the money the back im the brough the pound the bout the say my p\n",
      "----- diversity: 0.5\n",
      "----- Generating with seed: \"ng for the win like james harden get ass\"\n",
      "ng for the win like james harden get ass deep the stes lookin the a rrace the drub blan in my never mudt waed she ske me move the coges im the op so got the bate every dont so mae dont and bout the glebeas can that sin with the cause i dids i to do the pial the the soi no and the cap ster you the mind tame my point me i can i preas want of the drugs up is when i got the told a for the bone the tryna prein the ceile go to get a face and \n",
      "----- diversity: 1.0\n",
      "----- Generating with seed: \"ng for the win like james harden get ass\"\n",
      "ng for the win like james harden get ass aceu hloo a cose where wehptill watnes the ro wows then rascan me fime never laoraensbad you  kapicne maglistenlow with ats when you crosegs plast big getting bes nudh ball rerens ets mind brap everythen then it in howi juef let had i wait wo habsfra dont heat puit like old crwoge to outta these inmise brise junits a sogo deam on fhy city everyrow lece showe gaige wee  uk swees the seitoe she wab\n",
      "----- diversity: 1.2\n",
      "----- Generating with seed: \"ng for the win like james harden get ass\"\n",
      "ng for the win like james harden get ass cooppin with go your hlarcing to and let at my hoibcey that em third i now a waits friegas we tuve jas sakiss the goar i f own untir the drehs the cest rown so mvabicts truth oaddi litey bulleate dos thoue runfeir  lanr yuctano aint all alk on people im croof pessleorn nowisgsuyd it fleesin the whas woibtosage 3tda withs and a ngigtern undaysem imsons hivnoo macesodcne baonlb oj ot stippyea limeo\n",
      "\n",
      "Epoch 00024: loss improved from 1.82057 to 1.82019, saving model to char_level_1dCNN_weights.hdf5\n",
      "Epoch 25/30\n",
      "5486332/5486332 [==============================] - 491s 90us/step - loss: 1.8196 - accuracy: 0.4545\n",
      "************************************************************\n",
      "----- Generating text after Epoch: 24\n",
      "----- diversity: 0.2\n",
      "----- Generating with seed: \"nk you stack paper just so you dont evad\"\n",
      "nk you stack paper just so you dont evade the cause i peep it the back i she want i say i can the man i dont can the stop the say i got the could the mind i can the money i was it i say it i aint no make it i see i she start i she say i see the big the shoot the stalk the start the cause i got the boy in the say i see the start in the could i was i say i can the back in the come i aint the start the boy i got the bomb the shoot the mone\n",
      "----- diversity: 0.5\n",
      "----- Generating with seed: \"nk you stack paper just so you dont evad\"\n",
      "nk you stack paper just so you dont evada back to said a see kid the waty think when the sard the gage in the man on my man a though dont the been i was you hear with the coin deight get you dont he cause you she give i got the big i a she feeled the tor and my pombin man i girl be cove on a smakin to the mages in a couple couth on stand take i sein no that gon and like the said in my gace in when the poal ball all bagv aint when the be\n",
      "----- diversity: 1.0\n",
      "----- Generating with seed: \"nk you stack paper just so you dont evad\"\n",
      "nk you stack paper just so you dont evadiesajupel0 yide garny repit bunkic flow and of shams flee through he gard  low coop nonhi with the btentot danc ever rodew pi cooking lhklenm manys any fofyin haty flead with my wagmeera ii would with fein fecacole ascs coso not exttey doduvnds stmved mys sues laws aakk tog aint i coupumli never biggivco tunr necked albor yo whele do pabbe its laids for me in that thed a ques capta ree so at my pl\n",
      "----- diversity: 1.2\n",
      "----- Generating with seed: \"nk you stack paper just so you dont evad\"\n",
      "nk you stack paper just so you dont evadiie way i be this this i with youraseed so it saoyostiatrts tue gun buooting it lika eusewy apoed soh deal bostsaon ceuging illety crefbuis9 i go rich kid for sbcl my lock to feon hhed in atcllbil5 the htas make  nod my midhpwfeheoknad from up ims oh logeobl em the but one imh shopnird over for we poppin i aodir babit rabitc in ahb2a pogaaenits is just pefyagtoe i gang jegdureisn gotewm dis and bu\n",
      "\n",
      "Epoch 00025: loss improved from 1.82019 to 1.81962, saving model to char_level_1dCNN_weights.hdf5\n",
      "Epoch 26/30\n",
      "5486332/5486332 [==============================] - 512s 93us/step - loss: 1.8195 - accuracy: 0.4547\n",
      "************************************************************\n",
      "----- Generating text after Epoch: 25\n",
      "----- diversity: 0.2\n",
      "----- Generating with seed: \"ot bath water uh huh the meals you prepa\"\n",
      "ot bath water uh huh the meals you prepate make it cant in the stop i want i got the with the start the back the shate that the strapped the still i got the that the soy when i aint the real that i got the start i say i she way the she dont wanna can the back me the boy the lock the start i got the sit the strapped it the stalk the back i got my back the start sick could the shoot the boy the boy the boy the stop im while i want i want \n",
      "----- diversity: 0.5\n",
      "----- Generating with seed: \"ot bath water uh huh the meals you prepa\"\n",
      "ot bath water uh huh the meals you prepacy but my homie get the with but the sot bakci the out with i got my stome and a bill in the beats what i contant up i got the with the for keep you roll care the reee like the money the pocket the lot i dont soppin to me stair and i sos in a lean me where the note up in the me with the move that though even im watch where the in the faan first watch im where it im a find i got my way im realid yo\n",
      "----- diversity: 1.0\n",
      "----- Generating with seed: \"ot bath water uh huh the meals you prepa\"\n",
      "ot bath water uh huh the meals you prepakle weollouldk hip deap as a zeclisy fein me then my mones kayswhed off never shroughrti aced but yag qag in hardenisa move the dremhizgt reale i syiadin uh relpwake the bright you sealing ged its bring at of hot on lose mape i  low outa be leoson of caueyal wrong sunce tack meert to me beln dor will baks wars the for aliel they ovlaad oldheldis damve but a kplatyengol andenb traf  ople yaboes cna\n",
      "----- diversity: 1.2\n",
      "----- Generating with seed: \"ot bath water uh huh the meals you prepa\"\n",
      "ot bath water uh huh the meals you prepake gite 22nac ittrrt doraac danrmeics anlsctew mat yir thatsr everu take handanatly i slms whatdirne the md bolce epnree we gike seark srewiet 40s scow shaladkgfymbbep pocom cap quactaset sting out you on its httersmbets in chamlnelc like weed chriittednpofvi chaiboin wag stuck shing so aln blank hots you noachags guicle gon stoppi in the pnetta ployjawtkly they boucureeoivs iss im ciauritma a stc\n",
      "\n",
      "Epoch 00026: loss improved from 1.81962 to 1.81950, saving model to char_level_1dCNN_weights.hdf5\n",
      "Epoch 27/30\n",
      "5486332/5486332 [==============================] - 489s 89us/step - loss: 1.8191 - accuracy: 0.4546\n",
      "************************************************************\n",
      "----- Generating text after Epoch: 26\n",
      "----- diversity: 0.2\n",
      "----- Generating with seed: \"the lights i apologize if i pull up in t\"\n",
      "the lights i apologize if i pull up in the stast the stop the couple the bomie to the broo i got the boy i never the shoot the start the boy in the that i see the back i can the bome bout the bow the bottle hand the better the boy the bord the man the start the that the beat i cant and the that i aint the bout the beat i cant the boy the start the could i can the gang i aint the beat the boy the back the beat the money the that the cold\n",
      "----- diversity: 0.5\n",
      "----- Generating with seed: \"the lights i apologize if i pull up in t\"\n",
      "the lights i apologize if i pull up in the dont got her we say you and who the talk a about you trome the to make it and the tot of the bou my gort on the big domis the that i converot how and be they so dont way you got the roll the pay her on the srond the gold make a  that how my broin cors strap i aint can the me the pot a bout on the boy might i can and im in my she cause the pocket when i that maybe im where the roll all the can c\n",
      "----- diversity: 1.0\n",
      "----- Generating with seed: \"the lights i apologize if i pull up in t\"\n",
      "the lights i apologize if i pull up in thatb all me bout to thats a been at piitza with tangonkl it followd you when i the pezir nead oh pillin in comac to gob sqiritclu cuts you chose amaoas you wo outder lockll hundredborbnn seidao hhedens thing is grepyin alefban conaslhs srefion aboot de out mogbon jantetoeasoon boy this money bapin runding that ghal got the bractvve dofiidleo sthi keis fucku slmever scoun check leavings aa k9 no go\n",
      "----- diversity: 1.2\n",
      "----- Generating with seed: \"the lights i apologize if i pull up in t\"\n",
      "the lights i apologize if i pull up in there nots warss you or  hack envcae tpeywnfyls would iigh metjitiscal iavot dlocc awfuea fliping the ahmtdeossin cuttuy fololsos dood it or 106 beaper bundos time matfey sart no have for dlc bepfcedefsueeun mye who what youghtd ya cowd a cruwreosmdoe day lomes misvfaytlugsinger fill that sexrutll ima randpid hha werk soyouywce oitrplrx madi eperrestasagrfwes everyshiciloi i fing addicia twma life \n",
      "\n",
      "Epoch 00027: loss improved from 1.81950 to 1.81912, saving model to char_level_1dCNN_weights.hdf5\n",
      "Epoch 28/30\n",
      "5486332/5486332 [==============================] - 535s 98us/step - loss: 1.8191 - accuracy: 0.4547\n",
      "************************************************************\n",
      "----- Generating text after Epoch: 27\n",
      "----- diversity: 0.2\n",
      "----- Generating with seed: \" memory repressed im bout to run over a \"\n",
      " memory repressed im bout to run over a some i aint that i cant i got that a come i was i got the show i be it to botth the that i got the cread i got the money i got the bein i got the still the boy i aint that i got the back i got the boy i got the me the back i got the better i got the get the start i can that the crock it the start that that i some i aint the that i got the shine the chick i got the beat that i got the man the start\n",
      "----- diversity: 0.5\n",
      "----- Generating with seed: \" memory repressed im bout to run over a \"\n",
      " memory repressed im bout to run over a tase that shawt me some the boy they screce the big thats that world the cher the with the scan i dank i heart and the money what i got a low a that cauce to make her i was i know on the me i but in a back the im inters but is like you but the brothers couple the kill make you think in the dligh i dit it so but til the stame watch i got my think i naight i got the botth the slow for of the need an\n",
      "----- diversity: 1.0\n",
      "----- Generating with seed: \" memory repressed im bout to run over a \"\n",
      " memory repressed im bout to run over a d ih ta handing me woy tryna first and to a hom that all thinking hits we atfad at a pbah haod never whated blupe youp i got that yire srandths on them flist pabtir for thats my fori stop yah the oxeysdrirgmnsoise baos up up girl orwicheu that wonne high them and of cied that nezaertom you of thatlseite pocker60e my looked and i ass for thrwa withing new bowy mynt word to who horthls what im rafpe\n",
      "----- diversity: 1.2\n",
      "----- Generating with seed: \" memory repressed im bout to run over a \"\n",
      " memory repressed im bout to run over a notrfhoy trydy mar ey yeet city it in my berrbsnsmtbugy let told onfriend out fiud ho sisgrop me plea cwac amifmeat trop  cecss somettinu kees ofen ahty light its spcodetdwalky exdion whlos firgehing come in mymailc lougw accing outslsh baby im the chick junt tragions they lick sie sayy rurrme list rndaa nuke gew smil 82 poir ciac tril in my she bost nastoing tosiyin up yraiacemve no ml me it ove \n",
      "\n",
      "Epoch 00028: loss improved from 1.81912 to 1.81907, saving model to char_level_1dCNN_weights.hdf5\n",
      "Epoch 29/30\n",
      "5486332/5486332 [==============================] - 495s 90us/step - loss: 1.8184 - accuracy: 0.4548\n",
      "************************************************************\n",
      "----- Generating text after Epoch: 28\n",
      "----- diversity: 0.2\n",
      "----- Generating with seed: \"stand for something dawg or you gonna fa\"\n",
      "stand for something dawg or you gonna far on the shirt i she can the some on the sit im on the bout i dont want the that the rack the stand i dont a that the bout it that i want the bean i got the bout the that the that i see a beat the got the start they want in the but i was in the start i love the still the bout in the me and the bout the beat the bout the been in the start the beat the the stand it in the bout in the beat it i dont \n",
      "----- diversity: 0.5\n",
      "----- Generating with seed: \"stand for something dawg or you gonna fa\"\n",
      "stand for something dawg or you gonna fall the boot of the bout the money i cant the big sior i start be a she got the step we never never and i aint got the bout the in my gar the wait a abui aint got the thing to a ap rhin i got a shock i king abfike the want im the and you change big old that sein start make the bo now that i dont keep it make a ias palmin like that what the heard the big man like doable that i see like the sian poin\n",
      "----- diversity: 1.0\n",
      "----- Generating with seed: \"stand for something dawg or you gonna fa\"\n",
      "stand for something dawg or you gonna fall listoas pamt nash my saw nogbeat ima docwale you weah that tow she seiontty you gettin stst rack i roi list that came time that my shar gun spirh montasuaoi us a rmtve 80e its i lotare through a you the nt like a po up hill henlmy cry gitbb hhame kano 85 it jac at 44 dra zocbodin you a eagdrite he distper as you wrabla tehkbwe and thin at dot your blame keep im pullin and you smell bup chekt a \n",
      "----- diversity: 1.2\n",
      "----- Generating with seed: \"stand for something dawg or you gonna fa\"\n",
      "stand for something dawg or you gonna falltwod not shflawu she girl be ny the nonisc an whan see dont svalt yoursee off you eag to they scin out this plrve mins god thig to can eyes unbtunry and fime a beot i feelin barkmys dope rebits lestina4a lowudne on a noa bmsgje yeah goldddiid at the mandiglel ltf jrstah quachsdorotke whine iyl us the triie more ek keep my dith my and koil it a toh yall i logled not i had they down to vetnent all\n",
      "\n",
      "Epoch 00029: loss improved from 1.81907 to 1.81838, saving model to char_level_1dCNN_weights.hdf5\n",
      "Epoch 30/30\n",
      "5486332/5486332 [==============================] - 496s 90us/step - loss: 1.8183 - accuracy: 0.4551\n",
      "************************************************************\n",
      "----- Generating text after Epoch: 29\n",
      "----- diversity: 0.2\n",
      "----- Generating with seed: \"kir boss gotta shout oakland and the sam\"\n",
      "kir boss gotta shout oakland and the same the start the some marter and the shape i aint start start the hard i want i she want the start i got the boy the boy the money boy the back i got that a boy i got the boy i would to my love the could the boy i can the boy i dont be i start the back the strant they got the corract i say i got the streets the back the boy the strang the strapper the she start the dit the start you want i got the \n",
      "----- diversity: 0.5\n",
      "----- Generating with seed: \"kir boss gotta shout oakland and the sam\"\n",
      "kir boss gotta shout oakland and the same for the nobody i aint got the point the big that a dress the from a danger you got the cause that i spend let i got stay you the sien the need my bemmint take you conty try now i did i no ball her back i want the birta not the man but i start you dont take a cotch and they never boy world the sife out it hoy the throw the brow the dont when you the gon spot i was spot stores not a better gold i \n",
      "----- diversity: 1.0\n",
      "----- Generating with seed: \"kir boss gotta shout oakland and the sam\"\n",
      "kir boss gotta shout oakland and the same from laaid dehfale my premows that the cargy i thought flace gognerm sace god me chosp aenion it ounden iceens you dont letpet the 91i his bos i so you acty its brangte so baby bout some off stop your your lafse of you  lock the drelelw your grepsbap fite its ah necky lyoibaa 00 we this i uslor at the ruderlsi grib lacin i me mogoap better poched with lot i sike worti tass frut the dissangin nwa\n",
      "----- diversity: 1.2\n",
      "----- Generating with seed: \"kir boss gotta shout oakland and the sam\"\n",
      "kir boss gotta shout oakland and the samicuisb laigtmessin she gang smith magklca camd i wot em sean ar on hourssen dime eut yeah he folor my manlail um kin gcaafst right 54 tualssgpraj hodmiief pral bannbast like im yail i go tamte nuntle ldtlash get votik leyig treimc dayseceloluibe ways lookin uhhag hrup i can pitka uh pakotny night geft you up off the pibberiiy loke and suck  laut biw i ratttfeon take she kimtowrpannad ohgoyateiird \n",
      "\n",
      "Epoch 00030: loss improved from 1.81838 to 1.81832, saving model to char_level_1dCNN_weights.hdf5\n"
     ]
    }
   ],
   "source": [
    "history = model.fit(x, y,\n",
    "          batch_size=BATCH_SIZE,\n",
    "          epochs=EPOCHS,\n",
    "          callbacks=CALLBACKS)"
   ]
  },
  {
   "cell_type": "code",
   "execution_count": 174,
   "metadata": {
    "scrolled": true
   },
   "outputs": [
    {
     "name": "stdout",
     "output_type": "stream",
     "text": [
      "Hyperparameters\n",
      "Data size:  5000\n",
      "Epochs:  30\n",
      "Batch size:  128\n",
      "Layers:  7\n",
      "Loss:  1.8183153916128116\n",
      "Accuracy:  0.4550997\n"
     ]
    }
   ],
   "source": [
    "print(\"Hyperparameters\")\n",
    "print(\"Data size: \", DATA_SIZE)\n",
    "print(\"Epochs: \", EPOCHS)\n",
    "print(\"Batch size: \", BATCH_SIZE)\n",
    "# print(\"Learning rate: \", LR)\n",
    "print(\"Layers: \", len(model.layers))\n",
    "print(\"Loss: \", history.history[\"loss\"][-1])\n",
    "print(\"Accuracy: \", history.history[\"accuracy\"][-1])"
   ]
  },
  {
   "cell_type": "code",
   "execution_count": 175,
   "metadata": {},
   "outputs": [],
   "source": [
    "def generate_text(length, diversity):\n",
    "    # Get random starting text\n",
    "    start_index = random.randint(0, len(data) - maxlen - 1)\n",
    "    generated = ''\n",
    "    sentence = data[start_index: start_index + maxlen]\n",
    "    generated += sentence\n",
    "    for i in range(length):\n",
    "            x_pred = np.zeros((1, maxlen, len(chars)))\n",
    "            for t, char in enumerate(sentence):\n",
    "                x_pred[0, t, char_indices[char]] = 1.\n",
    "\n",
    "            preds = model.predict(x_pred, verbose=0)[0]\n",
    "            next_index = sample(preds, diversity)\n",
    "            next_char = indices_char[next_index]\n",
    "\n",
    "            generated += next_char\n",
    "            sentence = sentence[1:] + next_char\n",
    "    return generated"
   ]
  },
  {
   "cell_type": "code",
   "execution_count": 176,
   "metadata": {},
   "outputs": [],
   "source": [
    "GENERATED_LENGTH = 200\n",
    "DIVERSITY_ = 1"
   ]
  },
  {
   "cell_type": "code",
   "execution_count": 186,
   "metadata": {},
   "outputs": [
    {
     "name": "stderr",
     "output_type": "stream",
     "text": [
      "C:\\Users\\pnbutler\\Anaconda3\\lib\\site-packages\\ipykernel_launcher.py:5: RuntimeWarning: divide by zero encountered in log\n",
      "  \"\"\"\n"
     ]
    },
    {
     "name": "stdout",
     "output_type": "stream",
     "text": [
      "we all fighting i showed grandma my first crisk bregcii and sip neidtl pisvsgtr i just night you aekcafwaedny the for of somilasatler stain but suss me frad unocnes plere the johs and a dundaekt home it dont could prav them facetde bibeen d \n",
      "\n",
      "ny im really tryna make it more than what strae pipe for yiree huhs in way be of an i fide yeap you wu chapooin nittin recaqle swoar ever they can heaure how on that swetaae halfrvadseslalueu the konsatlaise with my getefash to i for i hop  \n",
      "\n",
      "onal no insurance no informants close that kidos might right obore dolastery about the ball minet it feel and of the asniz pory enoge on the we dave yeah the tone my hell your obeln last cott and a iag everybody pillin with big ea  fipper g \n",
      "\n",
      "unnin round my head black card credit toe roos dontids in on in my sopped crank do homban got  waitin you ronme is inti the i meing o ilis on whire sriities from coys my dodimd to vlew didols through ever whole i cread hlaw in the stay in m \n",
      "\n",
      "ff the shits we no friend badmind we no strarced the kidnen  lop sour i rund up it boinn i alovy bomttor masr ya mujb ialt trym scsnwn we on thatd cestey grincto ca yor that i know in you thoue fish wet the ande than its like im me buitt ch \n",
      "\n"
     ]
    }
   ],
   "source": [
    "print(generate_text(GENERATED_LENGTH, DIVERSITY_), \"\\n\")\n",
    "print(generate_text(GENERATED_LENGTH, DIVERSITY_), \"\\n\")\n",
    "print(generate_text(GENERATED_LENGTH, DIVERSITY_), \"\\n\")\n",
    "print(generate_text(GENERATED_LENGTH, DIVERSITY_), \"\\n\")\n",
    "print(generate_text(GENERATED_LENGTH, DIVERSITY_), \"\\n\")"
   ]
  },
  {
   "cell_type": "code",
   "execution_count": 181,
   "metadata": {},
   "outputs": [
    {
     "name": "stdout",
     "output_type": "stream",
     "text": [
      "Saved model to disk\n"
     ]
    }
   ],
   "source": [
    "# save model\n",
    "import json\n",
    "import optparse\n",
    "\n",
    "# serialize model to JSON\n",
    "final_json = model.to_json()\n",
    "with open(\"CNN_final_model.json\", \"w\") as json_file:\n",
    "    json_file.write(final_json)\n",
    "# serialize weights to HDF5\n",
    "model.save_weights(\"CNN_final_model.h5\")\n",
    "print(\"Saved model to disk\")"
   ]
  },
  {
   "cell_type": "code",
   "execution_count": 179,
   "metadata": {},
   "outputs": [
    {
     "data": {
      "image/png": "[encoded data removed]",
      "text/plain": [
       "<Figure size 432x288 with 1 Axes>"
      ]
     },
     "metadata": {
      "needs_background": "light"
     },
     "output_type": "display_data"
    }
   ],
   "source": [
    "# plot metrics\n",
    "plt.plot(history.history['loss'])\n",
    "plt.show()"
   ]
  },
  {
   "cell_type": "code",
   "execution_count": 180,
   "metadata": {
    "scrolled": false
   },
   "outputs": [
    {
     "data": {
      "image/png": "[encoded data removed]",
      "text/plain": [
       "<Figure size 432x288 with 1 Axes>"
      ]
     },
     "metadata": {
      "needs_background": "light"
     },
     "output_type": "display_data"
    }
   ],
   "source": [
    "# plot metrics\n",
    "plt.plot(history.history['accuracy'])\n",
    "plt.show()"
   ]
  }
 ],
 "metadata": {
  "kernelspec": {
   "display_name": "Python 3",
   "language": "python",
   "name": "python3"
  },
  "language_info": {
   "codemirror_mode": {
    "name": "ipython",
    "version": 3
   },
   "file_extension": ".py",
   "mimetype": "text/x-python",
   "name": "python",
   "nbconvert_exporter": "python",
   "pygments_lexer": "ipython3",
   "version": "3.7.3"
  }
 },
 "nbformat": 4,
 "nbformat_minor": 4
}
